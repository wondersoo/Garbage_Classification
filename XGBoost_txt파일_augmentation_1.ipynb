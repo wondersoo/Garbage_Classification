{
  "nbformat": 4,
  "nbformat_minor": 0,
  "metadata": {
    "colab": {
      "provenance": [],
      "gpuType": "T4"
    },
    "kernelspec": {
      "name": "python3",
      "display_name": "Python 3"
    },
    "language_info": {
      "name": "python"
    },
    "accelerator": "GPU"
  },
  "cells": [
    {
      "cell_type": "code",
      "execution_count": null,
      "metadata": {
        "id": "iwBaN7FiyJps",
        "colab": {
          "base_uri": "https://localhost:8080/"
        },
        "outputId": "3c76340d-df95-4d69-b90a-39c6d4e0f093"
      },
      "outputs": [
        {
          "output_type": "stream",
          "name": "stdout",
          "text": [
            "Mounted at /content/drive\n"
          ]
        }
      ],
      "source": [
        "# 구글드라이브 마운트\n",
        "from google.colab import drive\n",
        "drive.mount('/content/drive')"
      ]
    },
    {
      "cell_type": "code",
      "source": [
        "import re\n",
        "import os\n",
        "import numpy as np\n",
        "import pandas as pd\n",
        "import matplotlib.pyplot as plt\n",
        "\n",
        "import tensorflow as tf\n",
        "from tensorflow.keras.preprocessing.image import ImageDataGenerator, load_img, img_to_array, array_to_img"
      ],
      "metadata": {
        "id": "eHDrfbbPB-T9"
      },
      "execution_count": null,
      "outputs": []
    },
    {
      "cell_type": "code",
      "source": [
        "'''\n",
        "# 파일 unzip\n",
        "path_to_zip_file = '/content/drive/MyDrive/Colab Notebooks/garbage_classification_real.zip'\n",
        "directory_to_extract_to = '/content/drive/MyDrive/Colab Notebooks/input'\n",
        "\n",
        "import zipfile\n",
        "with zipfile.ZipFile(path_to_zip_file, 'r') as zip_ref:\n",
        "    zip_ref.extractall(directory_to_extract_to)\n",
        "'''"
      ],
      "metadata": {
        "id": "TjD2Q9qTc_AA",
        "colab": {
          "base_uri": "https://localhost:8080/",
          "height": 54
        },
        "outputId": "da48edd5-b612-4a6d-b6fe-aff9909b6d6a"
      },
      "execution_count": null,
      "outputs": [
        {
          "output_type": "execute_result",
          "data": {
            "text/plain": [
              "\"\\n# 파일 unzip\\npath_to_zip_file = '/content/drive/MyDrive/Colab Notebooks/garbage_classification_real.zip'\\ndirectory_to_extract_to = '/content/drive/MyDrive/Colab Notebooks/input'\\n\\nimport zipfile\\nwith zipfile.ZipFile(path_to_zip_file, 'r') as zip_ref:\\n    zip_ref.extractall(directory_to_extract_to)\\n\""
            ],
            "application/vnd.google.colaboratory.intrinsic+json": {
              "type": "string"
            }
          },
          "metadata": {},
          "execution_count": 3
        }
      ]
    },
    {
      "cell_type": "code",
      "source": [
        "def list_dataset():\n",
        "    for dirname, _, filenames in os.walk('/content/drive/MyDrive/Colab Notebooks/input/garbage_classification_real'):\n",
        "        for filename in filenames:\n",
        "            print(os.path.join(dirname, filename))\n",
        "\n",
        "# Add class name prefix to each path based on class name include in filename\n",
        "def add_class_name_prefix(df, col_name):\n",
        "    df[col_name] = df[col_name].apply(lambda x: x[:re.search(\"\\d\",x).start()] + '/' + x)\n",
        "    return df\n",
        "\n",
        "\n",
        "def class_id_to_label(id):\n",
        "    label_map = {1: 'glass', 2: 'paper', 3: 'cardboard', 4: 'plastic', 5: 'metal', 6: 'trash'}\n",
        "    return label_map[id]\n"
      ],
      "metadata": {
        "id": "l0fz4QCXB-V5"
      },
      "execution_count": null,
      "outputs": []
    },
    {
      "cell_type": "code",
      "source": [
        "IMAGES_DIR = \"/content/drive/MyDrive/Colab Notebooks/input/garbage_classification_real/\"\n",
        "\n",
        "train_file = '/content/drive/MyDrive/Colab Notebooks/input/one-indexed-files-notrash_train.txt'\n",
        "val_file   = '/content/drive/MyDrive/Colab Notebooks/input/one-indexed-files-notrash_val.txt'\n",
        "test_file  = '/content/drive/MyDrive/Colab Notebooks/input/one-indexed-files-notrash_test.txt'\n",
        "\n",
        "df_train = pd.read_csv(train_file, sep=' ', header=None, names=['filename', 'category'])\n",
        "df_valid = pd.read_csv(val_file,   sep=' ', header=None, names=['filename', 'category'])\n",
        "df_test  = pd.read_csv(test_file,   sep=' ', header=None, names=['filename', 'category'])\n",
        "\n",
        "df_train = add_class_name_prefix(df_train, 'filename')\n",
        "df_valid = add_class_name_prefix(df_valid, 'filename')\n",
        "df_test  = add_class_name_prefix(df_test,  'filename')\n",
        "\n",
        "df_train['category_str'] = df_train['category'].apply(class_id_to_label)\n",
        "df_valid['category_str'] = df_valid['category'].apply(class_id_to_label)\n",
        "df_test['category_str']  = df_test['category'].apply(class_id_to_label)\n",
        "\n",
        "df_train['category'] = df_train['category']-1\n",
        "df_valid['category'] = df_valid['category']-1\n",
        "df_test['category']  = df_test['category']-1\n",
        "\n",
        "print(f'Found {len(df_train)} training, {len(df_valid)} validation and {len(df_test)} test.')"
      ],
      "metadata": {
        "id": "S22tb1uGCx4C",
        "colab": {
          "base_uri": "https://localhost:8080/"
        },
        "outputId": "ad71e8fd-b04f-4201-970b-35de02407408"
      },
      "execution_count": null,
      "outputs": [
        {
          "output_type": "stream",
          "name": "stdout",
          "text": [
            "Found 1768 training, 328 validation and 431 test.\n"
          ]
        }
      ]
    },
    {
      "cell_type": "code",
      "source": [
        "df_test"
      ],
      "metadata": {
        "colab": {
          "base_uri": "https://localhost:8080/",
          "height": 424
        },
        "id": "MpKEXidl7cYW",
        "outputId": "427ffe62-6ec7-42ce-93a2-78389c7a08d2"
      },
      "execution_count": null,
      "outputs": [
        {
          "output_type": "execute_result",
          "data": {
            "text/plain": [
              "                      filename  category category_str\n",
              "0            paper/paper70.jpg         1        paper\n",
              "1           paper/paper380.jpg         1        paper\n",
              "2    cardboard/cardboard31.jpg         2    cardboard\n",
              "3            glass/glass12.jpg         0        glass\n",
              "4           paper/paper169.jpg         1        paper\n",
              "..                         ...       ...          ...\n",
              "426         metal/metal389.jpg         4        metal\n",
              "427         paper/paper303.jpg         1        paper\n",
              "428         paper/paper405.jpg         1        paper\n",
              "429         paper/paper465.jpg         1        paper\n",
              "430         trash/trash132.jpg         5        trash\n",
              "\n",
              "[431 rows x 3 columns]"
            ],
            "text/html": [
              "\n",
              "  <div id=\"df-f705f549-6a4e-43ed-b21d-67966329f67b\">\n",
              "    <div class=\"colab-df-container\">\n",
              "      <div>\n",
              "<style scoped>\n",
              "    .dataframe tbody tr th:only-of-type {\n",
              "        vertical-align: middle;\n",
              "    }\n",
              "\n",
              "    .dataframe tbody tr th {\n",
              "        vertical-align: top;\n",
              "    }\n",
              "\n",
              "    .dataframe thead th {\n",
              "        text-align: right;\n",
              "    }\n",
              "</style>\n",
              "<table border=\"1\" class=\"dataframe\">\n",
              "  <thead>\n",
              "    <tr style=\"text-align: right;\">\n",
              "      <th></th>\n",
              "      <th>filename</th>\n",
              "      <th>category</th>\n",
              "      <th>category_str</th>\n",
              "    </tr>\n",
              "  </thead>\n",
              "  <tbody>\n",
              "    <tr>\n",
              "      <th>0</th>\n",
              "      <td>paper/paper70.jpg</td>\n",
              "      <td>1</td>\n",
              "      <td>paper</td>\n",
              "    </tr>\n",
              "    <tr>\n",
              "      <th>1</th>\n",
              "      <td>paper/paper380.jpg</td>\n",
              "      <td>1</td>\n",
              "      <td>paper</td>\n",
              "    </tr>\n",
              "    <tr>\n",
              "      <th>2</th>\n",
              "      <td>cardboard/cardboard31.jpg</td>\n",
              "      <td>2</td>\n",
              "      <td>cardboard</td>\n",
              "    </tr>\n",
              "    <tr>\n",
              "      <th>3</th>\n",
              "      <td>glass/glass12.jpg</td>\n",
              "      <td>0</td>\n",
              "      <td>glass</td>\n",
              "    </tr>\n",
              "    <tr>\n",
              "      <th>4</th>\n",
              "      <td>paper/paper169.jpg</td>\n",
              "      <td>1</td>\n",
              "      <td>paper</td>\n",
              "    </tr>\n",
              "    <tr>\n",
              "      <th>...</th>\n",
              "      <td>...</td>\n",
              "      <td>...</td>\n",
              "      <td>...</td>\n",
              "    </tr>\n",
              "    <tr>\n",
              "      <th>426</th>\n",
              "      <td>metal/metal389.jpg</td>\n",
              "      <td>4</td>\n",
              "      <td>metal</td>\n",
              "    </tr>\n",
              "    <tr>\n",
              "      <th>427</th>\n",
              "      <td>paper/paper303.jpg</td>\n",
              "      <td>1</td>\n",
              "      <td>paper</td>\n",
              "    </tr>\n",
              "    <tr>\n",
              "      <th>428</th>\n",
              "      <td>paper/paper405.jpg</td>\n",
              "      <td>1</td>\n",
              "      <td>paper</td>\n",
              "    </tr>\n",
              "    <tr>\n",
              "      <th>429</th>\n",
              "      <td>paper/paper465.jpg</td>\n",
              "      <td>1</td>\n",
              "      <td>paper</td>\n",
              "    </tr>\n",
              "    <tr>\n",
              "      <th>430</th>\n",
              "      <td>trash/trash132.jpg</td>\n",
              "      <td>5</td>\n",
              "      <td>trash</td>\n",
              "    </tr>\n",
              "  </tbody>\n",
              "</table>\n",
              "<p>431 rows × 3 columns</p>\n",
              "</div>\n",
              "      <button class=\"colab-df-convert\" onclick=\"convertToInteractive('df-f705f549-6a4e-43ed-b21d-67966329f67b')\"\n",
              "              title=\"Convert this dataframe to an interactive table.\"\n",
              "              style=\"display:none;\">\n",
              "        \n",
              "  <svg xmlns=\"http://www.w3.org/2000/svg\" height=\"24px\"viewBox=\"0 0 24 24\"\n",
              "       width=\"24px\">\n",
              "    <path d=\"M0 0h24v24H0V0z\" fill=\"none\"/>\n",
              "    <path d=\"M18.56 5.44l.94 2.06.94-2.06 2.06-.94-2.06-.94-.94-2.06-.94 2.06-2.06.94zm-11 1L8.5 8.5l.94-2.06 2.06-.94-2.06-.94L8.5 2.5l-.94 2.06-2.06.94zm10 10l.94 2.06.94-2.06 2.06-.94-2.06-.94-.94-2.06-.94 2.06-2.06.94z\"/><path d=\"M17.41 7.96l-1.37-1.37c-.4-.4-.92-.59-1.43-.59-.52 0-1.04.2-1.43.59L10.3 9.45l-7.72 7.72c-.78.78-.78 2.05 0 2.83L4 21.41c.39.39.9.59 1.41.59.51 0 1.02-.2 1.41-.59l7.78-7.78 2.81-2.81c.8-.78.8-2.07 0-2.86zM5.41 20L4 18.59l7.72-7.72 1.47 1.35L5.41 20z\"/>\n",
              "  </svg>\n",
              "      </button>\n",
              "      \n",
              "  <style>\n",
              "    .colab-df-container {\n",
              "      display:flex;\n",
              "      flex-wrap:wrap;\n",
              "      gap: 12px;\n",
              "    }\n",
              "\n",
              "    .colab-df-convert {\n",
              "      background-color: #E8F0FE;\n",
              "      border: none;\n",
              "      border-radius: 50%;\n",
              "      cursor: pointer;\n",
              "      display: none;\n",
              "      fill: #1967D2;\n",
              "      height: 32px;\n",
              "      padding: 0 0 0 0;\n",
              "      width: 32px;\n",
              "    }\n",
              "\n",
              "    .colab-df-convert:hover {\n",
              "      background-color: #E2EBFA;\n",
              "      box-shadow: 0px 1px 2px rgba(60, 64, 67, 0.3), 0px 1px 3px 1px rgba(60, 64, 67, 0.15);\n",
              "      fill: #174EA6;\n",
              "    }\n",
              "\n",
              "    [theme=dark] .colab-df-convert {\n",
              "      background-color: #3B4455;\n",
              "      fill: #D2E3FC;\n",
              "    }\n",
              "\n",
              "    [theme=dark] .colab-df-convert:hover {\n",
              "      background-color: #434B5C;\n",
              "      box-shadow: 0px 1px 3px 1px rgba(0, 0, 0, 0.15);\n",
              "      filter: drop-shadow(0px 1px 2px rgba(0, 0, 0, 0.3));\n",
              "      fill: #FFFFFF;\n",
              "    }\n",
              "  </style>\n",
              "\n",
              "      <script>\n",
              "        const buttonEl =\n",
              "          document.querySelector('#df-f705f549-6a4e-43ed-b21d-67966329f67b button.colab-df-convert');\n",
              "        buttonEl.style.display =\n",
              "          google.colab.kernel.accessAllowed ? 'block' : 'none';\n",
              "\n",
              "        async function convertToInteractive(key) {\n",
              "          const element = document.querySelector('#df-f705f549-6a4e-43ed-b21d-67966329f67b');\n",
              "          const dataTable =\n",
              "            await google.colab.kernel.invokeFunction('convertToInteractive',\n",
              "                                                     [key], {});\n",
              "          if (!dataTable) return;\n",
              "\n",
              "          const docLinkHtml = 'Like what you see? Visit the ' +\n",
              "            '<a target=\"_blank\" href=https://colab.research.google.com/notebooks/data_table.ipynb>data table notebook</a>'\n",
              "            + ' to learn more about interactive tables.';\n",
              "          element.innerHTML = '';\n",
              "          dataTable['output_type'] = 'display_data';\n",
              "          await google.colab.output.renderOutput(dataTable, element);\n",
              "          const docLink = document.createElement('div');\n",
              "          docLink.innerHTML = docLinkHtml;\n",
              "          element.appendChild(docLink);\n",
              "        }\n",
              "      </script>\n",
              "    </div>\n",
              "  </div>\n",
              "  "
            ]
          },
          "metadata": {},
          "execution_count": 6
        }
      ]
    },
    {
      "cell_type": "code",
      "source": [
        "# 이미지 데이터를 로드하기 위한 ImageDataGenerator 객체 생성\n",
        "datagen = ImageDataGenerator(\n",
        "    rotation_range=30,\n",
        "    shear_range=0.1,\n",
        "    zoom_range=0.3,\n",
        "    horizontal_flip=True,\n",
        "    vertical_flip = True,\n",
        "    width_shift_range=0.2,\n",
        "    height_shift_range=0.2\n",
        "\n",
        ")\n",
        "\n",
        "# 이미지 데이터를 로드하고 증강 작업을 수행하는 함수\n",
        "def augment_images(dataframe,  save_directory):\n",
        "    for i in range(len(dataframe['filename'])):\n",
        "        # 이미지 파일의 클래스/레이블 추출\n",
        "        path = os.path.join(IMAGES_DIR + dataframe['filename'][i])\n",
        "        label = os.path.basename(os.path.dirname(path))\n",
        "        # label = dataframe['rel_path']\n",
        "\n",
        "        # 이미지 파일 로드\n",
        "        image = load_img(path)\n",
        "        image_array = img_to_array(image)\n",
        "\n",
        "        # 이미지 증강을 위해 배열 형태로 변환\n",
        "        image_array = image_array.reshape((1,) + image_array.shape)\n",
        "\n",
        "        # 증강된 이미지 저장 경로 생성\n",
        "        class_directory = os.path.join(save_directory, label)\n",
        "        os.makedirs(class_directory, exist_ok=True)\n",
        "\n",
        "        # 이미지 증강 수행 및 저장\n",
        "        i = 0\n",
        "        for batch in datagen.flow(image_array, save_to_dir=class_directory, save_prefix=label, save_format='jpg'):\n",
        "            i += 1\n",
        "            if i >= 1:  # 증강할 이미지 수 지정\n",
        "                break\n",
        "\n",
        "        # 원본 이미지 저장\n",
        "        image.save(os.path.join(class_directory, os.path.basename(path)))\n",
        "\n"
      ],
      "metadata": {
        "id": "plQWDqEi9T9s"
      },
      "execution_count": null,
      "outputs": []
    },
    {
      "cell_type": "code",
      "source": [
        "# train dataset 이미지 증강 수행 및 저장\n",
        "save_directory = '/content/drive/MyDrive/Colab Notebooks/input/augmentation_data/train'\n",
        "\n",
        "# 실제로는 밑에꺼 주석 풀고 돌려야 함.\n",
        "# augment_images(df_train, save_directory)"
      ],
      "metadata": {
        "id": "pqmRHsNh510M"
      },
      "execution_count": null,
      "outputs": []
    },
    {
      "cell_type": "code",
      "source": [
        "'''\n",
        "# Creating a dictionary from 6 classes\n",
        "categories={}\n",
        "i=-1\n",
        "for dirname, _, filenames in os.walk(save_directory):\n",
        "    for filename in filenames:\n",
        "        categories[i] = dirname.split('/')[-1]\n",
        "        break\n",
        "#         print(os.path.join(dirname, filename))\n",
        "    i += 1\n",
        "print(categories)\n",
        "'''\n"
      ],
      "metadata": {
        "colab": {
          "base_uri": "https://localhost:8080/",
          "height": 54
        },
        "id": "fF6k23PIMkzt",
        "outputId": "dc501f27-0541-4010-c52a-395e6ed67c50"
      },
      "execution_count": null,
      "outputs": [
        {
          "output_type": "execute_result",
          "data": {
            "text/plain": [
              "\"\\n# Creating a dictionary from 6 classes\\ncategories={}\\ni=-1\\nfor dirname, _, filenames in os.walk(save_directory):\\n    for filename in filenames:\\n        categories[i] = dirname.split('/')[-1]\\n        break\\n#         print(os.path.join(dirname, filename))\\n    i += 1\\nprint(categories)\\n\""
            ],
            "application/vnd.google.colaboratory.intrinsic+json": {
              "type": "string"
            }
          },
          "metadata": {},
          "execution_count": 9
        }
      ]
    },
    {
      "cell_type": "code",
      "source": [
        "# Add class name prefix to filename. So for example \"/paper104.jpg\" become \"paper/paper104.jpg\"\n",
        "\n",
        "def add_class_name_prefix(df, col_name):\n",
        "    df[col_name] = df[col_name].apply(lambda x: x[:re.search(\"\\d\",x).start()] + '/' + x)\n",
        "    return df\n",
        "\n",
        "# train dataset\n",
        "\n",
        "# list conatining all the filenames in the dataset\n",
        "filenames_list = []\n",
        "# list to store the corresponding category, note that each folder of the dataset has one class of data\n",
        "categories_list = []\n",
        "\n",
        "label_map = {0: 'glass', 1: 'paper', 2: 'cardboard', 3: 'plastic', 4: 'metal', 5: 'trash'}\n",
        "\n",
        "for category in label_map:\n",
        "    filenames = os.listdir('/content/drive/MyDrive/Colab Notebooks/input/augmentation_data/train/' + label_map[category])\n",
        "    filenames_list = filenames_list  + filenames\n",
        "    categories_list = categories_list + [category] * len(filenames)\n",
        "\n",
        "df_train_new = pd.DataFrame({\n",
        "    'filename': filenames_list,\n",
        "    'category': categories_list\n",
        "})\n",
        "\n",
        "'''\n",
        "for category in categories:\n",
        "    filenames = os.listdir('/content/drive/MyDrive/Colab_Notebooks/Data_driven_AI/input/augmentation_data/train/' + categories[category])\n",
        "    filenames_list = filenames_list  + filenames\n",
        "    categories_list = categories_list + [category] * len(filenames)\n",
        "\n",
        "df_train_new = pd.DataFrame({\n",
        "    'filename': filenames_list,\n",
        "    'category': categories_list\n",
        "})\n",
        "'''\n",
        "df_train_new = add_class_name_prefix(df_train_new, 'filename')"
      ],
      "metadata": {
        "id": "V7f-ju3nDV2J"
      },
      "execution_count": null,
      "outputs": []
    },
    {
      "cell_type": "code",
      "source": [
        "df_train_new"
      ],
      "metadata": {
        "colab": {
          "base_uri": "https://localhost:8080/",
          "height": 424
        },
        "id": "NcTZS7IJfme0",
        "outputId": "4a3f5fc9-72a1-4241-dc7f-3e5923dda448"
      },
      "execution_count": null,
      "outputs": [
        {
          "output_type": "execute_result",
          "data": {
            "text/plain": [
              "                     filename  category\n",
              "0     glass_/glass_0_2734.jpg         0\n",
              "1     glass_/glass_0_2896.jpg         0\n",
              "2      glass_/glass_0_313.jpg         0\n",
              "3     glass_/glass_0_2776.jpg         0\n",
              "4     glass_/glass_0_5675.jpg         0\n",
              "...                       ...       ...\n",
              "6821        trash/trash58.jpg         5\n",
              "6822  trash_/trash_0_5101.jpg         5\n",
              "6823        trash/trash74.jpg         5\n",
              "6824  trash_/trash_0_9987.jpg         5\n",
              "6825        trash/trash69.jpg         5\n",
              "\n",
              "[6826 rows x 2 columns]"
            ],
            "text/html": [
              "\n",
              "  <div id=\"df-e14457a2-140b-4ec7-aeee-9a27ffb59701\">\n",
              "    <div class=\"colab-df-container\">\n",
              "      <div>\n",
              "<style scoped>\n",
              "    .dataframe tbody tr th:only-of-type {\n",
              "        vertical-align: middle;\n",
              "    }\n",
              "\n",
              "    .dataframe tbody tr th {\n",
              "        vertical-align: top;\n",
              "    }\n",
              "\n",
              "    .dataframe thead th {\n",
              "        text-align: right;\n",
              "    }\n",
              "</style>\n",
              "<table border=\"1\" class=\"dataframe\">\n",
              "  <thead>\n",
              "    <tr style=\"text-align: right;\">\n",
              "      <th></th>\n",
              "      <th>filename</th>\n",
              "      <th>category</th>\n",
              "    </tr>\n",
              "  </thead>\n",
              "  <tbody>\n",
              "    <tr>\n",
              "      <th>0</th>\n",
              "      <td>glass_/glass_0_2734.jpg</td>\n",
              "      <td>0</td>\n",
              "    </tr>\n",
              "    <tr>\n",
              "      <th>1</th>\n",
              "      <td>glass_/glass_0_2896.jpg</td>\n",
              "      <td>0</td>\n",
              "    </tr>\n",
              "    <tr>\n",
              "      <th>2</th>\n",
              "      <td>glass_/glass_0_313.jpg</td>\n",
              "      <td>0</td>\n",
              "    </tr>\n",
              "    <tr>\n",
              "      <th>3</th>\n",
              "      <td>glass_/glass_0_2776.jpg</td>\n",
              "      <td>0</td>\n",
              "    </tr>\n",
              "    <tr>\n",
              "      <th>4</th>\n",
              "      <td>glass_/glass_0_5675.jpg</td>\n",
              "      <td>0</td>\n",
              "    </tr>\n",
              "    <tr>\n",
              "      <th>...</th>\n",
              "      <td>...</td>\n",
              "      <td>...</td>\n",
              "    </tr>\n",
              "    <tr>\n",
              "      <th>6821</th>\n",
              "      <td>trash/trash58.jpg</td>\n",
              "      <td>5</td>\n",
              "    </tr>\n",
              "    <tr>\n",
              "      <th>6822</th>\n",
              "      <td>trash_/trash_0_5101.jpg</td>\n",
              "      <td>5</td>\n",
              "    </tr>\n",
              "    <tr>\n",
              "      <th>6823</th>\n",
              "      <td>trash/trash74.jpg</td>\n",
              "      <td>5</td>\n",
              "    </tr>\n",
              "    <tr>\n",
              "      <th>6824</th>\n",
              "      <td>trash_/trash_0_9987.jpg</td>\n",
              "      <td>5</td>\n",
              "    </tr>\n",
              "    <tr>\n",
              "      <th>6825</th>\n",
              "      <td>trash/trash69.jpg</td>\n",
              "      <td>5</td>\n",
              "    </tr>\n",
              "  </tbody>\n",
              "</table>\n",
              "<p>6826 rows × 2 columns</p>\n",
              "</div>\n",
              "      <button class=\"colab-df-convert\" onclick=\"convertToInteractive('df-e14457a2-140b-4ec7-aeee-9a27ffb59701')\"\n",
              "              title=\"Convert this dataframe to an interactive table.\"\n",
              "              style=\"display:none;\">\n",
              "        \n",
              "  <svg xmlns=\"http://www.w3.org/2000/svg\" height=\"24px\"viewBox=\"0 0 24 24\"\n",
              "       width=\"24px\">\n",
              "    <path d=\"M0 0h24v24H0V0z\" fill=\"none\"/>\n",
              "    <path d=\"M18.56 5.44l.94 2.06.94-2.06 2.06-.94-2.06-.94-.94-2.06-.94 2.06-2.06.94zm-11 1L8.5 8.5l.94-2.06 2.06-.94-2.06-.94L8.5 2.5l-.94 2.06-2.06.94zm10 10l.94 2.06.94-2.06 2.06-.94-2.06-.94-.94-2.06-.94 2.06-2.06.94z\"/><path d=\"M17.41 7.96l-1.37-1.37c-.4-.4-.92-.59-1.43-.59-.52 0-1.04.2-1.43.59L10.3 9.45l-7.72 7.72c-.78.78-.78 2.05 0 2.83L4 21.41c.39.39.9.59 1.41.59.51 0 1.02-.2 1.41-.59l7.78-7.78 2.81-2.81c.8-.78.8-2.07 0-2.86zM5.41 20L4 18.59l7.72-7.72 1.47 1.35L5.41 20z\"/>\n",
              "  </svg>\n",
              "      </button>\n",
              "      \n",
              "  <style>\n",
              "    .colab-df-container {\n",
              "      display:flex;\n",
              "      flex-wrap:wrap;\n",
              "      gap: 12px;\n",
              "    }\n",
              "\n",
              "    .colab-df-convert {\n",
              "      background-color: #E8F0FE;\n",
              "      border: none;\n",
              "      border-radius: 50%;\n",
              "      cursor: pointer;\n",
              "      display: none;\n",
              "      fill: #1967D2;\n",
              "      height: 32px;\n",
              "      padding: 0 0 0 0;\n",
              "      width: 32px;\n",
              "    }\n",
              "\n",
              "    .colab-df-convert:hover {\n",
              "      background-color: #E2EBFA;\n",
              "      box-shadow: 0px 1px 2px rgba(60, 64, 67, 0.3), 0px 1px 3px 1px rgba(60, 64, 67, 0.15);\n",
              "      fill: #174EA6;\n",
              "    }\n",
              "\n",
              "    [theme=dark] .colab-df-convert {\n",
              "      background-color: #3B4455;\n",
              "      fill: #D2E3FC;\n",
              "    }\n",
              "\n",
              "    [theme=dark] .colab-df-convert:hover {\n",
              "      background-color: #434B5C;\n",
              "      box-shadow: 0px 1px 3px 1px rgba(0, 0, 0, 0.15);\n",
              "      filter: drop-shadow(0px 1px 2px rgba(0, 0, 0, 0.3));\n",
              "      fill: #FFFFFF;\n",
              "    }\n",
              "  </style>\n",
              "\n",
              "      <script>\n",
              "        const buttonEl =\n",
              "          document.querySelector('#df-e14457a2-140b-4ec7-aeee-9a27ffb59701 button.colab-df-convert');\n",
              "        buttonEl.style.display =\n",
              "          google.colab.kernel.accessAllowed ? 'block' : 'none';\n",
              "\n",
              "        async function convertToInteractive(key) {\n",
              "          const element = document.querySelector('#df-e14457a2-140b-4ec7-aeee-9a27ffb59701');\n",
              "          const dataTable =\n",
              "            await google.colab.kernel.invokeFunction('convertToInteractive',\n",
              "                                                     [key], {});\n",
              "          if (!dataTable) return;\n",
              "\n",
              "          const docLinkHtml = 'Like what you see? Visit the ' +\n",
              "            '<a target=\"_blank\" href=https://colab.research.google.com/notebooks/data_table.ipynb>data table notebook</a>'\n",
              "            + ' to learn more about interactive tables.';\n",
              "          element.innerHTML = '';\n",
              "          dataTable['output_type'] = 'display_data';\n",
              "          await google.colab.output.renderOutput(dataTable, element);\n",
              "          const docLink = document.createElement('div');\n",
              "          docLink.innerHTML = docLinkHtml;\n",
              "          element.appendChild(docLink);\n",
              "        }\n",
              "      </script>\n",
              "    </div>\n",
              "  </div>\n",
              "  "
            ]
          },
          "metadata": {},
          "execution_count": 11
        }
      ]
    },
    {
      "cell_type": "code",
      "source": [
        "def remove_underscore_before_slash(string):\n",
        "    return string.replace('_/', '/')\n",
        "\n",
        "df_train_new_list = []\n",
        "for i in range(len(df_train_new['filename'])):\n",
        "  if '_' in df_train_new['filename'][i]:\n",
        "    df_train_new_list.append(remove_underscore_before_slash(df_train_new['filename'][i]))\n",
        "\n",
        "  else:\n",
        "    df_train_new_list.append(df_train_new['filename'][i])\n",
        "\n",
        "df_train_new['filename'] = df_train_new_list"
      ],
      "metadata": {
        "id": "wU-_KNbDfwWC"
      },
      "execution_count": null,
      "outputs": []
    },
    {
      "cell_type": "code",
      "source": [
        "df_train_new"
      ],
      "metadata": {
        "colab": {
          "base_uri": "https://localhost:8080/",
          "height": 424
        },
        "id": "F9zfQU3p42p1",
        "outputId": "c1e3971d-7779-4c77-b7ab-b13939ffe3df"
      },
      "execution_count": null,
      "outputs": [
        {
          "output_type": "execute_result",
          "data": {
            "text/plain": [
              "                    filename  category\n",
              "0     glass/glass_0_2734.jpg         0\n",
              "1     glass/glass_0_2896.jpg         0\n",
              "2      glass/glass_0_313.jpg         0\n",
              "3     glass/glass_0_2776.jpg         0\n",
              "4     glass/glass_0_5675.jpg         0\n",
              "...                      ...       ...\n",
              "6821       trash/trash58.jpg         5\n",
              "6822  trash/trash_0_5101.jpg         5\n",
              "6823       trash/trash74.jpg         5\n",
              "6824  trash/trash_0_9987.jpg         5\n",
              "6825       trash/trash69.jpg         5\n",
              "\n",
              "[6826 rows x 2 columns]"
            ],
            "text/html": [
              "\n",
              "  <div id=\"df-7dd26c7f-7e52-467e-8c0f-4cccce9ae7e1\">\n",
              "    <div class=\"colab-df-container\">\n",
              "      <div>\n",
              "<style scoped>\n",
              "    .dataframe tbody tr th:only-of-type {\n",
              "        vertical-align: middle;\n",
              "    }\n",
              "\n",
              "    .dataframe tbody tr th {\n",
              "        vertical-align: top;\n",
              "    }\n",
              "\n",
              "    .dataframe thead th {\n",
              "        text-align: right;\n",
              "    }\n",
              "</style>\n",
              "<table border=\"1\" class=\"dataframe\">\n",
              "  <thead>\n",
              "    <tr style=\"text-align: right;\">\n",
              "      <th></th>\n",
              "      <th>filename</th>\n",
              "      <th>category</th>\n",
              "    </tr>\n",
              "  </thead>\n",
              "  <tbody>\n",
              "    <tr>\n",
              "      <th>0</th>\n",
              "      <td>glass/glass_0_2734.jpg</td>\n",
              "      <td>0</td>\n",
              "    </tr>\n",
              "    <tr>\n",
              "      <th>1</th>\n",
              "      <td>glass/glass_0_2896.jpg</td>\n",
              "      <td>0</td>\n",
              "    </tr>\n",
              "    <tr>\n",
              "      <th>2</th>\n",
              "      <td>glass/glass_0_313.jpg</td>\n",
              "      <td>0</td>\n",
              "    </tr>\n",
              "    <tr>\n",
              "      <th>3</th>\n",
              "      <td>glass/glass_0_2776.jpg</td>\n",
              "      <td>0</td>\n",
              "    </tr>\n",
              "    <tr>\n",
              "      <th>4</th>\n",
              "      <td>glass/glass_0_5675.jpg</td>\n",
              "      <td>0</td>\n",
              "    </tr>\n",
              "    <tr>\n",
              "      <th>...</th>\n",
              "      <td>...</td>\n",
              "      <td>...</td>\n",
              "    </tr>\n",
              "    <tr>\n",
              "      <th>6821</th>\n",
              "      <td>trash/trash58.jpg</td>\n",
              "      <td>5</td>\n",
              "    </tr>\n",
              "    <tr>\n",
              "      <th>6822</th>\n",
              "      <td>trash/trash_0_5101.jpg</td>\n",
              "      <td>5</td>\n",
              "    </tr>\n",
              "    <tr>\n",
              "      <th>6823</th>\n",
              "      <td>trash/trash74.jpg</td>\n",
              "      <td>5</td>\n",
              "    </tr>\n",
              "    <tr>\n",
              "      <th>6824</th>\n",
              "      <td>trash/trash_0_9987.jpg</td>\n",
              "      <td>5</td>\n",
              "    </tr>\n",
              "    <tr>\n",
              "      <th>6825</th>\n",
              "      <td>trash/trash69.jpg</td>\n",
              "      <td>5</td>\n",
              "    </tr>\n",
              "  </tbody>\n",
              "</table>\n",
              "<p>6826 rows × 2 columns</p>\n",
              "</div>\n",
              "      <button class=\"colab-df-convert\" onclick=\"convertToInteractive('df-7dd26c7f-7e52-467e-8c0f-4cccce9ae7e1')\"\n",
              "              title=\"Convert this dataframe to an interactive table.\"\n",
              "              style=\"display:none;\">\n",
              "        \n",
              "  <svg xmlns=\"http://www.w3.org/2000/svg\" height=\"24px\"viewBox=\"0 0 24 24\"\n",
              "       width=\"24px\">\n",
              "    <path d=\"M0 0h24v24H0V0z\" fill=\"none\"/>\n",
              "    <path d=\"M18.56 5.44l.94 2.06.94-2.06 2.06-.94-2.06-.94-.94-2.06-.94 2.06-2.06.94zm-11 1L8.5 8.5l.94-2.06 2.06-.94-2.06-.94L8.5 2.5l-.94 2.06-2.06.94zm10 10l.94 2.06.94-2.06 2.06-.94-2.06-.94-.94-2.06-.94 2.06-2.06.94z\"/><path d=\"M17.41 7.96l-1.37-1.37c-.4-.4-.92-.59-1.43-.59-.52 0-1.04.2-1.43.59L10.3 9.45l-7.72 7.72c-.78.78-.78 2.05 0 2.83L4 21.41c.39.39.9.59 1.41.59.51 0 1.02-.2 1.41-.59l7.78-7.78 2.81-2.81c.8-.78.8-2.07 0-2.86zM5.41 20L4 18.59l7.72-7.72 1.47 1.35L5.41 20z\"/>\n",
              "  </svg>\n",
              "      </button>\n",
              "      \n",
              "  <style>\n",
              "    .colab-df-container {\n",
              "      display:flex;\n",
              "      flex-wrap:wrap;\n",
              "      gap: 12px;\n",
              "    }\n",
              "\n",
              "    .colab-df-convert {\n",
              "      background-color: #E8F0FE;\n",
              "      border: none;\n",
              "      border-radius: 50%;\n",
              "      cursor: pointer;\n",
              "      display: none;\n",
              "      fill: #1967D2;\n",
              "      height: 32px;\n",
              "      padding: 0 0 0 0;\n",
              "      width: 32px;\n",
              "    }\n",
              "\n",
              "    .colab-df-convert:hover {\n",
              "      background-color: #E2EBFA;\n",
              "      box-shadow: 0px 1px 2px rgba(60, 64, 67, 0.3), 0px 1px 3px 1px rgba(60, 64, 67, 0.15);\n",
              "      fill: #174EA6;\n",
              "    }\n",
              "\n",
              "    [theme=dark] .colab-df-convert {\n",
              "      background-color: #3B4455;\n",
              "      fill: #D2E3FC;\n",
              "    }\n",
              "\n",
              "    [theme=dark] .colab-df-convert:hover {\n",
              "      background-color: #434B5C;\n",
              "      box-shadow: 0px 1px 3px 1px rgba(0, 0, 0, 0.15);\n",
              "      filter: drop-shadow(0px 1px 2px rgba(0, 0, 0, 0.3));\n",
              "      fill: #FFFFFF;\n",
              "    }\n",
              "  </style>\n",
              "\n",
              "      <script>\n",
              "        const buttonEl =\n",
              "          document.querySelector('#df-7dd26c7f-7e52-467e-8c0f-4cccce9ae7e1 button.colab-df-convert');\n",
              "        buttonEl.style.display =\n",
              "          google.colab.kernel.accessAllowed ? 'block' : 'none';\n",
              "\n",
              "        async function convertToInteractive(key) {\n",
              "          const element = document.querySelector('#df-7dd26c7f-7e52-467e-8c0f-4cccce9ae7e1');\n",
              "          const dataTable =\n",
              "            await google.colab.kernel.invokeFunction('convertToInteractive',\n",
              "                                                     [key], {});\n",
              "          if (!dataTable) return;\n",
              "\n",
              "          const docLinkHtml = 'Like what you see? Visit the ' +\n",
              "            '<a target=\"_blank\" href=https://colab.research.google.com/notebooks/data_table.ipynb>data table notebook</a>'\n",
              "            + ' to learn more about interactive tables.';\n",
              "          element.innerHTML = '';\n",
              "          dataTable['output_type'] = 'display_data';\n",
              "          await google.colab.output.renderOutput(dataTable, element);\n",
              "          const docLink = document.createElement('div');\n",
              "          docLink.innerHTML = docLinkHtml;\n",
              "          element.appendChild(docLink);\n",
              "        }\n",
              "      </script>\n",
              "    </div>\n",
              "  </div>\n",
              "  "
            ]
          },
          "metadata": {},
          "execution_count": 13
        }
      ]
    },
    {
      "cell_type": "code",
      "source": [
        "'''\n",
        "# valid dataset\n",
        "\n",
        "# list conatining all the filenames in the dataset\n",
        "filenames_list = []\n",
        "# list to store the corresponding category, note that each folder of the dataset has one class of data\n",
        "categories_list = []\n",
        "\n",
        "for category in categories:\n",
        "    filenames = os.listdir(IMAGES_DIR + categories[category])\n",
        "    filenames_list = filenames_list  + filenames\n",
        "    categories_list = categories_list + [category] * len(filenames)\n",
        "\n",
        "df_valid_new = pd.DataFrame({\n",
        "    'filename': filenames_list,\n",
        "    'category': categories_list\n",
        "})\n",
        "\n",
        "df_valid_new = add_class_name_prefix(df_valid_new, 'filename')\n",
        "'''"
      ],
      "metadata": {
        "id": "LW1DjTywQT5U",
        "colab": {
          "base_uri": "https://localhost:8080/",
          "height": 72
        },
        "outputId": "16f58d75-5164-411e-f9c6-33ac7ac143c3"
      },
      "execution_count": null,
      "outputs": [
        {
          "output_type": "execute_result",
          "data": {
            "text/plain": [
              "\"\\n# valid dataset\\n\\n# list conatining all the filenames in the dataset\\nfilenames_list = []\\n# list to store the corresponding category, note that each folder of the dataset has one class of data\\ncategories_list = []\\n\\nfor category in categories:\\n    filenames = os.listdir(IMAGES_DIR + categories[category])\\n    filenames_list = filenames_list  + filenames\\n    categories_list = categories_list + [category] * len(filenames)\\n    \\ndf_valid_new = pd.DataFrame({\\n    'filename': filenames_list,\\n    'category': categories_list\\n})\\n\\ndf_valid_new = add_class_name_prefix(df_valid_new, 'filename')\\n\""
            ],
            "application/vnd.google.colaboratory.intrinsic+json": {
              "type": "string"
            }
          },
          "metadata": {},
          "execution_count": 14
        }
      ]
    },
    {
      "cell_type": "code",
      "source": [
        "'''\n",
        "df_valid_new_list = []\n",
        "for i in range(len(df_valid_new['filename'])):\n",
        "  if '_' in df_valid_new['filename'][i]:\n",
        "    df_valid_new_list.append(remove_underscore_before_slash(df_valid_new['filename'][i]))\n",
        "\n",
        "  else:\n",
        "    df_valid_new_list.append(df_valid_new['filename'][i])\n",
        "\n",
        "df_valid_new['filename'] = df_valid_new_list\n",
        "'''"
      ],
      "metadata": {
        "id": "h_Fbht35lR7x",
        "colab": {
          "base_uri": "https://localhost:8080/",
          "height": 54
        },
        "outputId": "05760f57-54d9-4295-da72-1855976ebe86"
      },
      "execution_count": null,
      "outputs": [
        {
          "output_type": "execute_result",
          "data": {
            "text/plain": [
              "\"\\ndf_valid_new_list = []\\nfor i in range(len(df_valid_new['filename'])):\\n  if '_' in df_valid_new['filename'][i]:\\n    df_valid_new_list.append(remove_underscore_before_slash(df_valid_new['filename'][i]))\\n    \\n  else: \\n    df_valid_new_list.append(df_valid_new['filename'][i])\\n\\ndf_valid_new['filename'] = df_valid_new_list\\n\""
            ],
            "application/vnd.google.colaboratory.intrinsic+json": {
              "type": "string"
            }
          },
          "metadata": {},
          "execution_count": 15
        }
      ]
    },
    {
      "cell_type": "code",
      "source": [
        "'''\n",
        "# test dataset\n",
        "\n",
        "# list conatining all the filenames in the dataset\n",
        "filenames_list = []\n",
        "# list to store the corresponding category, note that each folder of the dataset has one class of data\n",
        "categories_list = []\n",
        "\n",
        "for category in categories:\n",
        "    filenames = os.listdir('/content/drive/MyDrive/Colab_Notebooks/Data_driven_AI/input/augmentation_data/test/' + categories[category])\n",
        "    filenames_list = filenames_list  + filenames\n",
        "    categories_list = categories_list + [category] * len(filenames)\n",
        "\n",
        "df_test_new = pd.DataFrame({\n",
        "    'filename': filenames_list,\n",
        "    'category': categories_list\n",
        "})\n",
        "\n",
        "df_test_new = add_class_name_prefix(df_test_new, 'filename')\n",
        "'''"
      ],
      "metadata": {
        "id": "3-ZKC4l0QGQf",
        "colab": {
          "base_uri": "https://localhost:8080/",
          "height": 72
        },
        "outputId": "ab3ce545-e096-4c27-8645-c34f7fbb9635"
      },
      "execution_count": null,
      "outputs": [
        {
          "output_type": "execute_result",
          "data": {
            "text/plain": [
              "\"\\n# test dataset\\n\\n# list conatining all the filenames in the dataset\\nfilenames_list = []\\n# list to store the corresponding category, note that each folder of the dataset has one class of data\\ncategories_list = []\\n\\nfor category in categories:\\n    filenames = os.listdir('/content/drive/MyDrive/Colab_Notebooks/Data_driven_AI/input/augmentation_data/test/' + categories[category])\\n    filenames_list = filenames_list  + filenames\\n    categories_list = categories_list + [category] * len(filenames)\\n    \\ndf_test_new = pd.DataFrame({\\n    'filename': filenames_list,\\n    'category': categories_list\\n})\\n\\ndf_test_new = add_class_name_prefix(df_test_new, 'filename')\\n\""
            ],
            "application/vnd.google.colaboratory.intrinsic+json": {
              "type": "string"
            }
          },
          "metadata": {},
          "execution_count": 16
        }
      ]
    },
    {
      "cell_type": "code",
      "source": [
        "'''\n",
        "df_test_new_list = []\n",
        "for i in range(len(df_test_new['filename'])):\n",
        "  if '_' in df_test_new['filename'][i]:\n",
        "    df_test_new_list.append(remove_underscore_before_slash(df_test_new['filename'][i]))\n",
        "\n",
        "  else:\n",
        "    df_test_new_list.append(df_test_new['filename'][i])\n",
        "\n",
        "df_test_new['filename'] = df_test_new_list\n",
        "'''"
      ],
      "metadata": {
        "id": "5pr3B6i8lqcF",
        "colab": {
          "base_uri": "https://localhost:8080/",
          "height": 54
        },
        "outputId": "adce6310-6abf-48a0-f2c4-807c64822e2d"
      },
      "execution_count": null,
      "outputs": [
        {
          "output_type": "execute_result",
          "data": {
            "text/plain": [
              "\"\\ndf_test_new_list = []\\nfor i in range(len(df_test_new['filename'])):\\n  if '_' in df_test_new['filename'][i]:\\n    df_test_new_list.append(remove_underscore_before_slash(df_test_new['filename'][i]))\\n    \\n  else: \\n    df_test_new_list.append(df_test_new['filename'][i])\\n\\ndf_test_new['filename'] = df_test_new_list\\n\""
            ],
            "application/vnd.google.colaboratory.intrinsic+json": {
              "type": "string"
            }
          },
          "metadata": {},
          "execution_count": 17
        }
      ]
    },
    {
      "cell_type": "code",
      "source": [
        "print(f'Found {len(df_train_new)} train, {len(df_valid)} validation and {len(df_test)} test.')"
      ],
      "metadata": {
        "colab": {
          "base_uri": "https://localhost:8080/"
        },
        "id": "r7UK1tNLRj1V",
        "outputId": "2169220c-a56e-4a88-faa2-1d97877f6c5b"
      },
      "execution_count": null,
      "outputs": [
        {
          "output_type": "stream",
          "name": "stdout",
          "text": [
            "Found 6826 train, 328 validation and 431 test.\n"
          ]
        }
      ]
    },
    {
      "cell_type": "code",
      "source": [
        "import pandas as pd\n",
        "df_test.sort_values('category')"
      ],
      "metadata": {
        "colab": {
          "base_uri": "https://localhost:8080/",
          "height": 424
        },
        "id": "JzWLB3p2q0pe",
        "outputId": "8a91c2b7-908c-4f11-8995-ff108bfb1393"
      },
      "execution_count": null,
      "outputs": [
        {
          "output_type": "execute_result",
          "data": {
            "text/plain": [
              "               filename  category category_str\n",
              "314  glass/glass148.jpg         0        glass\n",
              "280  glass/glass139.jpg         0        glass\n",
              "137  glass/glass297.jpg         0        glass\n",
              "288  glass/glass426.jpg         0        glass\n",
              "133   glass/glass59.jpg         0        glass\n",
              "..                  ...       ...          ...\n",
              "366  trash/trash109.jpg         5        trash\n",
              "55    trash/trash29.jpg         5        trash\n",
              "42    trash/trash46.jpg         5        trash\n",
              "309   trash/trash93.jpg         5        trash\n",
              "430  trash/trash132.jpg         5        trash\n",
              "\n",
              "[431 rows x 3 columns]"
            ],
            "text/html": [
              "\n",
              "  <div id=\"df-4f29b1f6-8766-42c8-ab1d-75de89b2cf23\">\n",
              "    <div class=\"colab-df-container\">\n",
              "      <div>\n",
              "<style scoped>\n",
              "    .dataframe tbody tr th:only-of-type {\n",
              "        vertical-align: middle;\n",
              "    }\n",
              "\n",
              "    .dataframe tbody tr th {\n",
              "        vertical-align: top;\n",
              "    }\n",
              "\n",
              "    .dataframe thead th {\n",
              "        text-align: right;\n",
              "    }\n",
              "</style>\n",
              "<table border=\"1\" class=\"dataframe\">\n",
              "  <thead>\n",
              "    <tr style=\"text-align: right;\">\n",
              "      <th></th>\n",
              "      <th>filename</th>\n",
              "      <th>category</th>\n",
              "      <th>category_str</th>\n",
              "    </tr>\n",
              "  </thead>\n",
              "  <tbody>\n",
              "    <tr>\n",
              "      <th>314</th>\n",
              "      <td>glass/glass148.jpg</td>\n",
              "      <td>0</td>\n",
              "      <td>glass</td>\n",
              "    </tr>\n",
              "    <tr>\n",
              "      <th>280</th>\n",
              "      <td>glass/glass139.jpg</td>\n",
              "      <td>0</td>\n",
              "      <td>glass</td>\n",
              "    </tr>\n",
              "    <tr>\n",
              "      <th>137</th>\n",
              "      <td>glass/glass297.jpg</td>\n",
              "      <td>0</td>\n",
              "      <td>glass</td>\n",
              "    </tr>\n",
              "    <tr>\n",
              "      <th>288</th>\n",
              "      <td>glass/glass426.jpg</td>\n",
              "      <td>0</td>\n",
              "      <td>glass</td>\n",
              "    </tr>\n",
              "    <tr>\n",
              "      <th>133</th>\n",
              "      <td>glass/glass59.jpg</td>\n",
              "      <td>0</td>\n",
              "      <td>glass</td>\n",
              "    </tr>\n",
              "    <tr>\n",
              "      <th>...</th>\n",
              "      <td>...</td>\n",
              "      <td>...</td>\n",
              "      <td>...</td>\n",
              "    </tr>\n",
              "    <tr>\n",
              "      <th>366</th>\n",
              "      <td>trash/trash109.jpg</td>\n",
              "      <td>5</td>\n",
              "      <td>trash</td>\n",
              "    </tr>\n",
              "    <tr>\n",
              "      <th>55</th>\n",
              "      <td>trash/trash29.jpg</td>\n",
              "      <td>5</td>\n",
              "      <td>trash</td>\n",
              "    </tr>\n",
              "    <tr>\n",
              "      <th>42</th>\n",
              "      <td>trash/trash46.jpg</td>\n",
              "      <td>5</td>\n",
              "      <td>trash</td>\n",
              "    </tr>\n",
              "    <tr>\n",
              "      <th>309</th>\n",
              "      <td>trash/trash93.jpg</td>\n",
              "      <td>5</td>\n",
              "      <td>trash</td>\n",
              "    </tr>\n",
              "    <tr>\n",
              "      <th>430</th>\n",
              "      <td>trash/trash132.jpg</td>\n",
              "      <td>5</td>\n",
              "      <td>trash</td>\n",
              "    </tr>\n",
              "  </tbody>\n",
              "</table>\n",
              "<p>431 rows × 3 columns</p>\n",
              "</div>\n",
              "      <button class=\"colab-df-convert\" onclick=\"convertToInteractive('df-4f29b1f6-8766-42c8-ab1d-75de89b2cf23')\"\n",
              "              title=\"Convert this dataframe to an interactive table.\"\n",
              "              style=\"display:none;\">\n",
              "        \n",
              "  <svg xmlns=\"http://www.w3.org/2000/svg\" height=\"24px\"viewBox=\"0 0 24 24\"\n",
              "       width=\"24px\">\n",
              "    <path d=\"M0 0h24v24H0V0z\" fill=\"none\"/>\n",
              "    <path d=\"M18.56 5.44l.94 2.06.94-2.06 2.06-.94-2.06-.94-.94-2.06-.94 2.06-2.06.94zm-11 1L8.5 8.5l.94-2.06 2.06-.94-2.06-.94L8.5 2.5l-.94 2.06-2.06.94zm10 10l.94 2.06.94-2.06 2.06-.94-2.06-.94-.94-2.06-.94 2.06-2.06.94z\"/><path d=\"M17.41 7.96l-1.37-1.37c-.4-.4-.92-.59-1.43-.59-.52 0-1.04.2-1.43.59L10.3 9.45l-7.72 7.72c-.78.78-.78 2.05 0 2.83L4 21.41c.39.39.9.59 1.41.59.51 0 1.02-.2 1.41-.59l7.78-7.78 2.81-2.81c.8-.78.8-2.07 0-2.86zM5.41 20L4 18.59l7.72-7.72 1.47 1.35L5.41 20z\"/>\n",
              "  </svg>\n",
              "      </button>\n",
              "      \n",
              "  <style>\n",
              "    .colab-df-container {\n",
              "      display:flex;\n",
              "      flex-wrap:wrap;\n",
              "      gap: 12px;\n",
              "    }\n",
              "\n",
              "    .colab-df-convert {\n",
              "      background-color: #E8F0FE;\n",
              "      border: none;\n",
              "      border-radius: 50%;\n",
              "      cursor: pointer;\n",
              "      display: none;\n",
              "      fill: #1967D2;\n",
              "      height: 32px;\n",
              "      padding: 0 0 0 0;\n",
              "      width: 32px;\n",
              "    }\n",
              "\n",
              "    .colab-df-convert:hover {\n",
              "      background-color: #E2EBFA;\n",
              "      box-shadow: 0px 1px 2px rgba(60, 64, 67, 0.3), 0px 1px 3px 1px rgba(60, 64, 67, 0.15);\n",
              "      fill: #174EA6;\n",
              "    }\n",
              "\n",
              "    [theme=dark] .colab-df-convert {\n",
              "      background-color: #3B4455;\n",
              "      fill: #D2E3FC;\n",
              "    }\n",
              "\n",
              "    [theme=dark] .colab-df-convert:hover {\n",
              "      background-color: #434B5C;\n",
              "      box-shadow: 0px 1px 3px 1px rgba(0, 0, 0, 0.15);\n",
              "      filter: drop-shadow(0px 1px 2px rgba(0, 0, 0, 0.3));\n",
              "      fill: #FFFFFF;\n",
              "    }\n",
              "  </style>\n",
              "\n",
              "      <script>\n",
              "        const buttonEl =\n",
              "          document.querySelector('#df-4f29b1f6-8766-42c8-ab1d-75de89b2cf23 button.colab-df-convert');\n",
              "        buttonEl.style.display =\n",
              "          google.colab.kernel.accessAllowed ? 'block' : 'none';\n",
              "\n",
              "        async function convertToInteractive(key) {\n",
              "          const element = document.querySelector('#df-4f29b1f6-8766-42c8-ab1d-75de89b2cf23');\n",
              "          const dataTable =\n",
              "            await google.colab.kernel.invokeFunction('convertToInteractive',\n",
              "                                                     [key], {});\n",
              "          if (!dataTable) return;\n",
              "\n",
              "          const docLinkHtml = 'Like what you see? Visit the ' +\n",
              "            '<a target=\"_blank\" href=https://colab.research.google.com/notebooks/data_table.ipynb>data table notebook</a>'\n",
              "            + ' to learn more about interactive tables.';\n",
              "          element.innerHTML = '';\n",
              "          dataTable['output_type'] = 'display_data';\n",
              "          await google.colab.output.renderOutput(dataTable, element);\n",
              "          const docLink = document.createElement('div');\n",
              "          docLink.innerHTML = docLinkHtml;\n",
              "          element.appendChild(docLink);\n",
              "        }\n",
              "      </script>\n",
              "    </div>\n",
              "  </div>\n",
              "  "
            ]
          },
          "metadata": {},
          "execution_count": 19
        }
      ]
    },
    {
      "cell_type": "code",
      "source": [
        "# 데이터셋 순서 섞기\n",
        "\n",
        "def df_suffled(df):\n",
        "  return(df.sample(frac=1).reset_index(drop=True))\n",
        "\n",
        "df_train_new = df_suffled(df_train_new)\n",
        "df_valid = df_suffled(df_valid)\n",
        "df_test = df_suffled(df_test)"
      ],
      "metadata": {
        "id": "P8td3t6-yGf8"
      },
      "execution_count": null,
      "outputs": []
    },
    {
      "cell_type": "code",
      "source": [
        "df_train_new = df_train_new[0:2200]\n",
        "df_train_new"
      ],
      "metadata": {
        "colab": {
          "base_uri": "https://localhost:8080/",
          "height": 424
        },
        "id": "w0sWFpXryylZ",
        "outputId": "c914357c-3be2-4623-9200-f2d1ca1baaca"
      },
      "execution_count": null,
      "outputs": [
        {
          "output_type": "execute_result",
          "data": {
            "text/plain": [
              "                            filename  category\n",
              "0         plastic/plastic_0_8106.jpg         3\n",
              "1             metal/metal_0_4588.jpg         4\n",
              "2         plastic/plastic_0_4598.jpg         3\n",
              "3     cardboard/cardboard_0_2428.jpg         2\n",
              "4             paper/paper_0_7531.jpg         1\n",
              "...                              ...       ...\n",
              "2195  cardboard/cardboard_0_7236.jpg         2\n",
              "2196          metal/metal_0_3396.jpg         4\n",
              "2197      plastic/plastic_0_5505.jpg         3\n",
              "2198          paper/paper_0_4372.jpg         1\n",
              "2199          paper/paper_0_8308.jpg         1\n",
              "\n",
              "[2200 rows x 2 columns]"
            ],
            "text/html": [
              "\n",
              "  <div id=\"df-b3f4007c-6e54-43fb-a3a6-c8786b31b6dd\">\n",
              "    <div class=\"colab-df-container\">\n",
              "      <div>\n",
              "<style scoped>\n",
              "    .dataframe tbody tr th:only-of-type {\n",
              "        vertical-align: middle;\n",
              "    }\n",
              "\n",
              "    .dataframe tbody tr th {\n",
              "        vertical-align: top;\n",
              "    }\n",
              "\n",
              "    .dataframe thead th {\n",
              "        text-align: right;\n",
              "    }\n",
              "</style>\n",
              "<table border=\"1\" class=\"dataframe\">\n",
              "  <thead>\n",
              "    <tr style=\"text-align: right;\">\n",
              "      <th></th>\n",
              "      <th>filename</th>\n",
              "      <th>category</th>\n",
              "    </tr>\n",
              "  </thead>\n",
              "  <tbody>\n",
              "    <tr>\n",
              "      <th>0</th>\n",
              "      <td>plastic/plastic_0_8106.jpg</td>\n",
              "      <td>3</td>\n",
              "    </tr>\n",
              "    <tr>\n",
              "      <th>1</th>\n",
              "      <td>metal/metal_0_4588.jpg</td>\n",
              "      <td>4</td>\n",
              "    </tr>\n",
              "    <tr>\n",
              "      <th>2</th>\n",
              "      <td>plastic/plastic_0_4598.jpg</td>\n",
              "      <td>3</td>\n",
              "    </tr>\n",
              "    <tr>\n",
              "      <th>3</th>\n",
              "      <td>cardboard/cardboard_0_2428.jpg</td>\n",
              "      <td>2</td>\n",
              "    </tr>\n",
              "    <tr>\n",
              "      <th>4</th>\n",
              "      <td>paper/paper_0_7531.jpg</td>\n",
              "      <td>1</td>\n",
              "    </tr>\n",
              "    <tr>\n",
              "      <th>...</th>\n",
              "      <td>...</td>\n",
              "      <td>...</td>\n",
              "    </tr>\n",
              "    <tr>\n",
              "      <th>2195</th>\n",
              "      <td>cardboard/cardboard_0_7236.jpg</td>\n",
              "      <td>2</td>\n",
              "    </tr>\n",
              "    <tr>\n",
              "      <th>2196</th>\n",
              "      <td>metal/metal_0_3396.jpg</td>\n",
              "      <td>4</td>\n",
              "    </tr>\n",
              "    <tr>\n",
              "      <th>2197</th>\n",
              "      <td>plastic/plastic_0_5505.jpg</td>\n",
              "      <td>3</td>\n",
              "    </tr>\n",
              "    <tr>\n",
              "      <th>2198</th>\n",
              "      <td>paper/paper_0_4372.jpg</td>\n",
              "      <td>1</td>\n",
              "    </tr>\n",
              "    <tr>\n",
              "      <th>2199</th>\n",
              "      <td>paper/paper_0_8308.jpg</td>\n",
              "      <td>1</td>\n",
              "    </tr>\n",
              "  </tbody>\n",
              "</table>\n",
              "<p>2200 rows × 2 columns</p>\n",
              "</div>\n",
              "      <button class=\"colab-df-convert\" onclick=\"convertToInteractive('df-b3f4007c-6e54-43fb-a3a6-c8786b31b6dd')\"\n",
              "              title=\"Convert this dataframe to an interactive table.\"\n",
              "              style=\"display:none;\">\n",
              "        \n",
              "  <svg xmlns=\"http://www.w3.org/2000/svg\" height=\"24px\"viewBox=\"0 0 24 24\"\n",
              "       width=\"24px\">\n",
              "    <path d=\"M0 0h24v24H0V0z\" fill=\"none\"/>\n",
              "    <path d=\"M18.56 5.44l.94 2.06.94-2.06 2.06-.94-2.06-.94-.94-2.06-.94 2.06-2.06.94zm-11 1L8.5 8.5l.94-2.06 2.06-.94-2.06-.94L8.5 2.5l-.94 2.06-2.06.94zm10 10l.94 2.06.94-2.06 2.06-.94-2.06-.94-.94-2.06-.94 2.06-2.06.94z\"/><path d=\"M17.41 7.96l-1.37-1.37c-.4-.4-.92-.59-1.43-.59-.52 0-1.04.2-1.43.59L10.3 9.45l-7.72 7.72c-.78.78-.78 2.05 0 2.83L4 21.41c.39.39.9.59 1.41.59.51 0 1.02-.2 1.41-.59l7.78-7.78 2.81-2.81c.8-.78.8-2.07 0-2.86zM5.41 20L4 18.59l7.72-7.72 1.47 1.35L5.41 20z\"/>\n",
              "  </svg>\n",
              "      </button>\n",
              "      \n",
              "  <style>\n",
              "    .colab-df-container {\n",
              "      display:flex;\n",
              "      flex-wrap:wrap;\n",
              "      gap: 12px;\n",
              "    }\n",
              "\n",
              "    .colab-df-convert {\n",
              "      background-color: #E8F0FE;\n",
              "      border: none;\n",
              "      border-radius: 50%;\n",
              "      cursor: pointer;\n",
              "      display: none;\n",
              "      fill: #1967D2;\n",
              "      height: 32px;\n",
              "      padding: 0 0 0 0;\n",
              "      width: 32px;\n",
              "    }\n",
              "\n",
              "    .colab-df-convert:hover {\n",
              "      background-color: #E2EBFA;\n",
              "      box-shadow: 0px 1px 2px rgba(60, 64, 67, 0.3), 0px 1px 3px 1px rgba(60, 64, 67, 0.15);\n",
              "      fill: #174EA6;\n",
              "    }\n",
              "\n",
              "    [theme=dark] .colab-df-convert {\n",
              "      background-color: #3B4455;\n",
              "      fill: #D2E3FC;\n",
              "    }\n",
              "\n",
              "    [theme=dark] .colab-df-convert:hover {\n",
              "      background-color: #434B5C;\n",
              "      box-shadow: 0px 1px 3px 1px rgba(0, 0, 0, 0.15);\n",
              "      filter: drop-shadow(0px 1px 2px rgba(0, 0, 0, 0.3));\n",
              "      fill: #FFFFFF;\n",
              "    }\n",
              "  </style>\n",
              "\n",
              "      <script>\n",
              "        const buttonEl =\n",
              "          document.querySelector('#df-b3f4007c-6e54-43fb-a3a6-c8786b31b6dd button.colab-df-convert');\n",
              "        buttonEl.style.display =\n",
              "          google.colab.kernel.accessAllowed ? 'block' : 'none';\n",
              "\n",
              "        async function convertToInteractive(key) {\n",
              "          const element = document.querySelector('#df-b3f4007c-6e54-43fb-a3a6-c8786b31b6dd');\n",
              "          const dataTable =\n",
              "            await google.colab.kernel.invokeFunction('convertToInteractive',\n",
              "                                                     [key], {});\n",
              "          if (!dataTable) return;\n",
              "\n",
              "          const docLinkHtml = 'Like what you see? Visit the ' +\n",
              "            '<a target=\"_blank\" href=https://colab.research.google.com/notebooks/data_table.ipynb>data table notebook</a>'\n",
              "            + ' to learn more about interactive tables.';\n",
              "          element.innerHTML = '';\n",
              "          dataTable['output_type'] = 'display_data';\n",
              "          await google.colab.output.renderOutput(dataTable, element);\n",
              "          const docLink = document.createElement('div');\n",
              "          docLink.innerHTML = docLinkHtml;\n",
              "          element.appendChild(docLink);\n",
              "        }\n",
              "      </script>\n",
              "    </div>\n",
              "  </div>\n",
              "  "
            ]
          },
          "metadata": {},
          "execution_count": 21
        }
      ]
    },
    {
      "cell_type": "code",
      "source": [
        "# X dataset 생성: image를 array 형식으로 만들기\n",
        "# X_train, X_valid, X_test\n",
        "\n",
        "from tensorflow.python.ops.math_ops import Xdivy\n",
        "import numpy as np\n",
        "from PIL import Image\n",
        "\n",
        "# X_train\n",
        "X_train = []\n",
        "for i in range(len(df_train_new['filename'])):\n",
        "  path = os.path.join('/content/drive/MyDrive/Colab Notebooks/input/augmentation_data/train/' + df_train_new['filename'][i])\n",
        "  img = Image.open(path)\n",
        "  img = img.resize((224,224),Image.ANTIALIAS)\n",
        "  x = np.array(img)\n",
        "  X_train.append(x)\n",
        "# X_valid\n",
        "X_valid = []\n",
        "for i in range(len(df_valid['filename'])):\n",
        "  path = os.path.join(IMAGES_DIR + df_valid['filename'][i])\n",
        "  img = Image.open(path)\n",
        "  img = img.resize((224,224),Image.ANTIALIAS)\n",
        "  x = np.array(img)\n",
        "  X_valid.append(x)\n",
        "\n",
        "img_2 = Image.fromarray(X_train[0]) # NumPy array to PIL image\n",
        "img_2.show()"
      ],
      "metadata": {
        "colab": {
          "base_uri": "https://localhost:8080/",
          "height": 241
        },
        "id": "WcCFzBRuFSYh",
        "outputId": "4a76d13d-630d-48a8-94d2-a9cd667d7014"
      },
      "execution_count": null,
      "outputs": [
        {
          "output_type": "display_data",
          "data": {
            "text/plain": [
              "<PIL.Image.Image image mode=RGB size=224x224 at 0x7FB6BB5DEB30>"
            ],
            "image/png": "[encoded data removed]"
          },
          "metadata": {}
        }
      ]
    },
    {
      "cell_type": "code",
      "source": [
        "# X_valid\n",
        "X_valid = []\n",
        "for i in range(len(df_valid['filename'])):\n",
        "  path = os.path.join(IMAGES_DIR + df_valid['filename'][i])\n",
        "  img = Image.open(path)\n",
        "  img = img.resize((224,224),Image.ANTIALIAS)\n",
        "  x = np.array(img)\n",
        "  X_valid.append(x)\n",
        "\n",
        "img_2 = Image.fromarray(X_valid[0]) # NumPy array to PIL image\n",
        "img_2.show()"
      ],
      "metadata": {
        "colab": {
          "base_uri": "https://localhost:8080/",
          "height": 241
        },
        "id": "TN6uFAuk4srY",
        "outputId": "0b61d927-6d51-4b7f-92cb-c89796d775c0"
      },
      "execution_count": null,
      "outputs": [
        {
          "output_type": "display_data",
          "data": {
            "text/plain": [
              "<PIL.Image.Image image mode=RGB size=224x224 at 0x7FB6BB78A110>"
            ],
            "image/png": "[encoded data removed]"
          },
          "metadata": {}
        }
      ]
    },
    {
      "cell_type": "code",
      "source": [
        "# X_test\n",
        "X_test = []\n",
        "for i in range(len(df_test['filename'])):\n",
        "  path = os.path.join(IMAGES_DIR + df_test['filename'][i])\n",
        "  img = Image.open(path)\n",
        "  img = img.resize((224,224),Image.ANTIALIAS)\n",
        "  x = np.array(img)\n",
        "\n",
        "  X_test.append(x)\n",
        "\n",
        "img_2 = Image.fromarray(X_test[0]) # NumPy array to PIL image\n",
        "img_2.show()"
      ],
      "metadata": {
        "colab": {
          "base_uri": "https://localhost:8080/",
          "height": 241
        },
        "id": "sqRGHNXh5PVS",
        "outputId": "10aedc07-9805-4852-d64f-80b414437f6d"
      },
      "execution_count": null,
      "outputs": [
        {
          "output_type": "display_data",
          "data": {
            "text/plain": [
              "<PIL.Image.Image image mode=RGB size=224x224 at 0x7FB745E828C0>"
            ],
            "image/png": "[encoded data removed]"
          },
          "metadata": {}
        }
      ]
    },
    {
      "cell_type": "code",
      "source": [
        "# Y dataset 생성\n",
        "# Y_train, Y_valid, Y_test\n",
        "\n",
        "# Y_train\n",
        "Y_train = []\n",
        "for i in range(len(df_train_new['filename'])):\n",
        "  Y_train.append(df_train_new['category'][i])\n",
        "# Y_valid\n",
        "Y_valid = []\n",
        "for i in range(len(df_valid['filename'])):\n",
        "  Y_valid.append(df_valid['category'][i])\n",
        "\n",
        "print(Y_train)\n",
        "print(len(Y_train))\n",
        "\n",
        "# Y_valid\n",
        "Y_valid = []\n",
        "for i in range(len(df_valid['filename'])):\n",
        "  Y_valid.append(df_valid['category'][i])\n",
        "\n",
        "print(Y_valid)\n",
        "print(len(Y_valid))\n",
        "\n",
        "# Y_test\n",
        "Y_test = []\n",
        "for i in range(len(df_test['filename'])):\n",
        "  Y_test.append(df_test['category'][i])\n",
        "\n",
        "print(Y_test)\n",
        "print(len(Y_test))\n"
      ],
      "metadata": {
        "colab": {
          "base_uri": "https://localhost:8080/"
        },
        "id": "Pyr19qlP5PX3",
        "outputId": "551aad0d-7e37-46d3-b533-f2b98b1d9bb4"
      },
      "execution_count": null,
      "outputs": [
        {
          "output_type": "stream",
          "name": "stdout",
          "text": [
            "[3, 4, 3, 2, 1, 4, 3, 0, 1, 4, 0, 2, 0, 2, 3, 1, 0, 3, 0, 2, 0, 4, 1, 1, 3, 3, 3, 2, 0, 4, 1, 0, 2, 3, 2, 4, 4, 2, 4, 4, 4, 2, 0, 2, 3, 3, 0, 3, 1, 5, 1, 1, 1, 1, 1, 1, 2, 2, 3, 2, 0, 2, 4, 5, 3, 4, 0, 1, 3, 2, 0, 2, 4, 1, 3, 0, 3, 4, 0, 3, 0, 3, 1, 0, 5, 4, 1, 1, 1, 4, 1, 1, 2, 4, 2, 1, 3, 1, 2, 4, 4, 3, 0, 3, 4, 0, 3, 1, 2, 1, 3, 4, 0, 3, 1, 0, 4, 2, 3, 3, 2, 3, 3, 1, 4, 3, 2, 1, 3, 0, 4, 4, 5, 4, 1, 4, 1, 0, 5, 3, 3, 2, 1, 0, 1, 3, 2, 4, 3, 0, 0, 0, 1, 1, 1, 2, 1, 4, 0, 1, 3, 3, 3, 1, 1, 4, 1, 4, 3, 3, 1, 5, 1, 1, 5, 0, 1, 2, 3, 2, 4, 1, 2, 4, 0, 1, 2, 3, 1, 0, 2, 4, 1, 3, 3, 0, 4, 4, 0, 4, 3, 2, 3, 3, 3, 2, 1, 2, 1, 0, 3, 3, 3, 3, 5, 1, 5, 4, 1, 0, 0, 2, 4, 3, 1, 0, 2, 2, 2, 4, 0, 3, 4, 4, 2, 3, 2, 1, 4, 3, 1, 2, 4, 3, 0, 0, 4, 1, 2, 0, 4, 5, 2, 3, 3, 2, 1, 2, 1, 1, 0, 1, 2, 4, 4, 2, 0, 0, 1, 1, 2, 1, 5, 4, 2, 3, 3, 0, 3, 3, 5, 2, 1, 4, 1, 2, 5, 3, 1, 1, 2, 3, 4, 0, 1, 0, 0, 2, 0, 0, 0, 0, 5, 0, 0, 1, 2, 1, 4, 4, 4, 2, 0, 0, 4, 3, 2, 1, 1, 5, 3, 1, 1, 1, 2, 0, 0, 0, 1, 3, 5, 3, 4, 0, 5, 2, 3, 2, 4, 0, 3, 1, 1, 3, 1, 1, 3, 4, 4, 2, 4, 3, 3, 2, 2, 1, 0, 0, 3, 1, 4, 4, 4, 1, 1, 2, 2, 2, 3, 2, 3, 1, 1, 2, 4, 1, 2, 2, 2, 0, 3, 2, 4, 4, 1, 0, 4, 2, 3, 0, 4, 3, 1, 3, 2, 1, 0, 3, 1, 4, 2, 2, 2, 2, 2, 1, 1, 4, 1, 3, 1, 2, 0, 0, 0, 1, 2, 1, 2, 0, 2, 0, 2, 2, 1, 3, 3, 3, 1, 1, 4, 3, 0, 3, 2, 3, 4, 0, 2, 1, 1, 3, 0, 0, 4, 0, 1, 0, 2, 1, 0, 2, 5, 2, 3, 1, 1, 3, 1, 3, 0, 4, 3, 4, 0, 0, 4, 1, 2, 3, 1, 3, 0, 2, 2, 0, 4, 0, 0, 2, 3, 3, 4, 3, 3, 0, 3, 3, 1, 1, 4, 3, 2, 1, 1, 1, 4, 1, 2, 0, 3, 3, 0, 0, 2, 2, 1, 4, 2, 5, 1, 3, 2, 1, 2, 0, 2, 2, 3, 3, 3, 4, 3, 2, 3, 3, 0, 3, 0, 4, 4, 0, 4, 2, 2, 1, 3, 1, 0, 1, 1, 2, 3, 3, 4, 3, 4, 1, 4, 4, 4, 0, 1, 1, 4, 4, 1, 5, 2, 4, 3, 0, 5, 4, 4, 3, 0, 3, 4, 0, 1, 2, 5, 0, 4, 1, 1, 4, 3, 2, 2, 2, 0, 0, 1, 0, 3, 4, 2, 4, 0, 0, 4, 1, 1, 4, 1, 0, 2, 0, 1, 2, 4, 1, 0, 3, 3, 3, 5, 0, 1, 4, 4, 3, 1, 0, 3, 4, 3, 2, 2, 1, 4, 3, 4, 2, 0, 1, 4, 4, 1, 1, 0, 4, 1, 3, 4, 2, 4, 3, 2, 0, 3, 1, 2, 4, 2, 1, 3, 2, 1, 3, 2, 3, 3, 0, 2, 2, 2, 1, 1, 5, 2, 2, 3, 0, 1, 2, 4, 2, 2, 2, 3, 4, 3, 1, 1, 0, 3, 1, 0, 0, 5, 2, 1, 2, 5, 3, 4, 0, 1, 1, 1, 2, 2, 0, 4, 4, 1, 4, 1, 3, 2, 3, 3, 0, 0, 0, 4, 3, 3, 3, 1, 1, 4, 2, 1, 4, 1, 1, 3, 1, 1, 3, 4, 5, 3, 3, 3, 2, 5, 1, 5, 2, 2, 3, 4, 3, 4, 2, 1, 2, 0, 3, 3, 0, 0, 4, 0, 3, 5, 2, 3, 1, 3, 0, 1, 5, 0, 2, 1, 0, 0, 2, 1, 1, 2, 2, 3, 3, 4, 4, 3, 3, 3, 0, 4, 3, 5, 4, 3, 3, 0, 0, 2, 0, 1, 0, 0, 5, 3, 2, 1, 1, 2, 3, 0, 3, 3, 0, 3, 2, 5, 0, 3, 3, 1, 1, 4, 4, 4, 4, 2, 3, 1, 2, 3, 0, 1, 3, 4, 0, 4, 2, 4, 1, 0, 1, 3, 4, 1, 2, 5, 1, 3, 3, 1, 0, 0, 2, 1, 1, 3, 3, 2, 3, 3, 2, 1, 3, 5, 1, 0, 3, 1, 1, 0, 0, 1, 4, 4, 1, 0, 3, 0, 4, 3, 1, 3, 1, 1, 3, 1, 0, 2, 5, 1, 1, 1, 0, 1, 3, 3, 2, 2, 2, 1, 1, 2, 3, 0, 2, 4, 3, 4, 3, 4, 4, 4, 1, 5, 1, 2, 4, 3, 4, 1, 4, 3, 2, 2, 3, 3, 0, 4, 3, 3, 1, 1, 0, 0, 1, 3, 0, 1, 0, 1, 0, 0, 3, 2, 3, 1, 1, 3, 3, 2, 3, 0, 3, 2, 1, 2, 1, 4, 1, 5, 2, 0, 0, 3, 2, 1, 0, 1, 2, 1, 0, 3, 5, 2, 1, 4, 3, 4, 3, 0, 4, 0, 0, 1, 4, 0, 0, 3, 3, 0, 0, 1, 0, 4, 4, 4, 4, 0, 1, 4, 1, 1, 2, 3, 3, 1, 0, 3, 0, 4, 3, 2, 0, 5, 3, 2, 3, 3, 3, 4, 0, 0, 0, 4, 3, 1, 4, 3, 0, 3, 2, 0, 4, 1, 0, 2, 4, 1, 3, 2, 4, 1, 4, 0, 5, 1, 3, 3, 2, 4, 5, 5, 0, 4, 2, 3, 1, 0, 1, 0, 4, 0, 5, 3, 3, 4, 2, 1, 3, 0, 0, 0, 2, 1, 3, 3, 0, 0, 1, 3, 3, 4, 2, 4, 2, 4, 1, 4, 2, 4, 2, 1, 0, 3, 1, 5, 4, 1, 1, 4, 2, 4, 4, 2, 2, 3, 2, 4, 2, 3, 0, 2, 0, 3, 5, 0, 2, 0, 1, 2, 3, 1, 1, 4, 3, 3, 0, 2, 1, 5, 1, 0, 3, 2, 4, 1, 5, 1, 0, 4, 5, 2, 2, 5, 3, 2, 0, 3, 0, 2, 2, 1, 2, 2, 0, 0, 2, 0, 0, 3, 3, 4, 2, 4, 3, 3, 3, 1, 1, 1, 4, 0, 1, 4, 4, 3, 4, 2, 1, 2, 3, 4, 0, 4, 3, 3, 1, 4, 1, 3, 4, 1, 4, 1, 0, 1, 5, 4, 4, 2, 3, 2, 1, 0, 3, 4, 4, 1, 3, 3, 4, 2, 3, 5, 3, 5, 1, 2, 2, 1, 3, 3, 1, 2, 4, 3, 3, 1, 3, 4, 1, 2, 0, 0, 3, 1, 0, 5, 5, 1, 4, 5, 3, 0, 3, 5, 0, 1, 1, 0, 4, 2, 3, 4, 5, 0, 4, 3, 3, 2, 0, 1, 4, 0, 1, 0, 4, 3, 0, 0, 1, 1, 3, 1, 1, 1, 3, 2, 3, 3, 2, 2, 3, 1, 2, 4, 1, 0, 2, 1, 1, 4, 1, 5, 1, 3, 3, 0, 2, 2, 4, 2, 2, 4, 4, 3, 2, 2, 3, 1, 2, 1, 0, 3, 4, 0, 2, 2, 1, 4, 3, 1, 1, 0, 5, 5, 4, 5, 2, 1, 1, 4, 1, 4, 0, 3, 5, 3, 0, 2, 2, 1, 4, 1, 0, 2, 4, 2, 2, 0, 2, 0, 0, 2, 1, 5, 0, 0, 3, 1, 0, 5, 2, 4, 1, 1, 5, 0, 4, 0, 1, 0, 4, 4, 4, 4, 1, 5, 3, 0, 4, 2, 4, 3, 1, 4, 3, 0, 4, 4, 0, 2, 1, 4, 2, 0, 4, 2, 4, 0, 3, 1, 4, 0, 5, 0, 2, 4, 4, 5, 3, 3, 4, 4, 0, 1, 1, 3, 3, 1, 2, 5, 1, 0, 3, 1, 3, 0, 0, 3, 4, 0, 1, 2, 0, 4, 3, 0, 1, 1, 2, 3, 3, 2, 0, 1, 5, 4, 1, 0, 1, 3, 4, 1, 1, 4, 2, 4, 4, 4, 2, 0, 3, 2, 2, 3, 2, 1, 3, 0, 3, 3, 4, 0, 1, 2, 3, 3, 0, 4, 5, 1, 0, 5, 1, 0, 0, 0, 1, 3, 0, 2, 4, 1, 2, 3, 1, 0, 2, 2, 4, 1, 2, 1, 2, 0, 2, 2, 1, 1, 1, 2, 3, 3, 1, 4, 0, 4, 2, 1, 0, 0, 1, 0, 5, 2, 3, 4, 2, 4, 4, 0, 4, 3, 4, 0, 3, 5, 2, 3, 4, 4, 1, 3, 3, 1, 1, 1, 3, 2, 4, 0, 1, 3, 3, 3, 2, 3, 1, 4, 0, 2, 1, 4, 0, 4, 0, 4, 2, 2, 1, 2, 0, 4, 3, 4, 0, 1, 0, 1, 1, 4, 1, 3, 2, 1, 4, 1, 0, 4, 1, 5, 3, 4, 4, 2, 0, 0, 3, 2, 0, 3, 2, 3, 3, 0, 2, 2, 1, 2, 2, 1, 3, 3, 0, 2, 1, 4, 2, 3, 3, 3, 4, 5, 4, 3, 2, 3, 2, 4, 2, 1, 3, 2, 2, 2, 3, 0, 2, 0, 4, 2, 3, 3, 0, 2, 0, 4, 3, 4, 4, 0, 1, 1, 4, 3, 1, 1, 3, 0, 2, 3, 3, 3, 1, 0, 4, 0, 2, 5, 0, 1, 1, 1, 0, 1, 2, 1, 0, 4, 4, 2, 1, 1, 3, 1, 0, 5, 0, 3, 1, 1, 3, 4, 3, 0, 3, 4, 0, 3, 1, 4, 1, 0, 0, 3, 3, 3, 2, 3, 3, 3, 0, 4, 1, 0, 2, 5, 1, 4, 2, 4, 1, 0, 1, 5, 2, 2, 3, 0, 1, 1, 1, 2, 4, 0, 2, 4, 1, 2, 1, 3, 1, 2, 0, 1, 2, 4, 2, 3, 0, 1, 1, 0, 2, 3, 0, 0, 0, 4, 0, 4, 2, 4, 1, 2, 1, 1, 0, 2, 1, 4, 4, 3, 2, 1, 2, 1, 1, 3, 1, 3, 4, 0, 4, 3, 0, 3, 0, 2, 1, 2, 3, 4, 2, 4, 1, 1, 2, 2, 2, 4, 3, 4, 4, 3, 3, 1, 1, 4, 5, 4, 0, 1, 1, 1, 1, 5, 3, 0, 1, 1, 1, 0, 1, 4, 3, 0, 4, 1, 4, 4, 5, 4, 0, 1, 4, 5, 1, 3, 4, 1, 2, 2, 4, 0, 4, 4, 2, 3, 5, 3, 1, 1, 3, 1, 2, 3, 0, 1, 3, 1, 1, 0, 2, 0, 3, 4, 0, 3, 0, 0, 1, 4, 0, 2, 3, 5, 4, 4, 2, 3, 1, 1, 4, 4, 3, 1, 0, 0, 1, 5, 2, 1, 3, 2, 1, 1, 0, 3, 4, 5, 0, 2, 4, 0, 2, 3, 2, 2, 1, 1, 1, 2, 0, 3, 2, 1, 0, 3, 3, 3, 3, 0, 5, 0, 4, 1, 3, 4, 1, 1, 2, 1, 0, 3, 2, 4, 4, 3, 1, 3, 2, 2, 0, 0, 1, 1, 0, 1, 3, 5, 0, 4, 2, 2, 0, 1, 3, 2, 2, 1, 4, 1, 3, 0, 1, 3, 3, 3, 4, 0, 4, 0, 2, 1, 1, 2, 2, 1, 3, 4, 1, 5, 3, 0, 2, 0, 0, 1, 4, 0, 0, 0, 1, 0, 2, 1, 1, 0, 1, 0, 0, 1, 3, 4, 4, 4, 3, 1, 4, 3, 2, 0, 4, 3, 1, 1, 0, 3, 3, 3, 1, 0, 0, 0, 0, 3, 2, 1, 2, 5, 1, 4, 0, 2, 0, 1, 1, 0, 2, 5, 0, 3, 0, 2, 3, 1, 4, 1, 1, 4, 2, 3, 4, 1, 3, 2, 3, 3, 3, 2, 4, 1, 4, 1, 1, 4, 3, 1, 0, 1, 2, 3, 2, 0, 0, 1, 0, 4, 1, 4, 0, 3, 3, 3, 1, 0, 1, 0, 2, 3, 4, 1, 4, 2, 2, 2, 4, 1, 1, 2, 0, 1, 1, 1, 1, 1, 0, 2, 3, 1, 3, 0, 1, 3, 3, 3, 0, 3, 0, 1, 2, 4, 1, 1, 1, 0, 4, 1, 1, 4, 0, 2, 3, 2, 4, 1, 0, 4, 0, 4, 2, 5, 2, 1, 2, 2, 3, 1, 0, 3, 4, 4, 1, 1, 3, 0, 2, 0, 4, 2, 1, 1, 0, 0, 4, 2, 0, 0, 0, 4, 4, 1, 0, 2, 3, 2, 1, 3, 3, 1, 2, 1, 3, 2, 3, 4, 3, 4, 2, 0, 0, 2, 1, 0, 0, 1, 0, 4, 4, 4, 3, 5, 1, 3, 2, 0, 2, 4, 3, 1, 1]\n",
            "2200\n",
            "[3, 0, 0, 2, 3, 1, 3, 1, 3, 2, 0, 4, 4, 2, 1, 0, 1, 0, 1, 4, 0, 4, 0, 3, 1, 0, 3, 3, 1, 1, 4, 4, 1, 3, 1, 1, 1, 3, 1, 4, 1, 0, 1, 3, 4, 2, 4, 1, 3, 0, 4, 3, 3, 2, 2, 1, 1, 4, 1, 0, 3, 1, 1, 4, 4, 1, 2, 1, 4, 5, 1, 5, 0, 1, 1, 1, 4, 1, 2, 4, 3, 0, 1, 3, 1, 0, 1, 1, 0, 4, 0, 4, 1, 4, 1, 0, 0, 1, 2, 1, 4, 5, 2, 2, 2, 1, 3, 2, 0, 0, 2, 1, 0, 2, 5, 2, 2, 0, 0, 0, 5, 3, 0, 4, 0, 0, 4, 4, 2, 1, 1, 1, 1, 3, 1, 1, 0, 3, 2, 4, 1, 3, 3, 2, 4, 4, 1, 1, 3, 1, 0, 2, 5, 4, 4, 0, 3, 4, 1, 3, 5, 0, 3, 3, 0, 0, 2, 4, 3, 0, 0, 4, 1, 3, 0, 3, 4, 5, 1, 2, 4, 0, 1, 2, 2, 2, 2, 3, 5, 3, 1, 3, 1, 4, 2, 0, 3, 2, 0, 1, 2, 1, 4, 1, 1, 0, 2, 0, 0, 3, 1, 5, 5, 4, 0, 1, 0, 4, 2, 0, 1, 4, 4, 3, 2, 3, 4, 1, 1, 3, 1, 3, 0, 3, 3, 5, 5, 2, 1, 4, 3, 3, 1, 1, 1, 3, 2, 2, 0, 4, 0, 3, 1, 3, 0, 1, 4, 3, 1, 3, 3, 5, 4, 5, 2, 2, 2, 2, 0, 4, 0, 4, 4, 1, 0, 1, 1, 0, 4, 1, 4, 0, 0, 1, 3, 2, 2, 3, 4, 3, 2, 0, 0, 3, 3, 0, 3, 4, 1, 3, 1, 3, 1, 2, 5, 2, 4, 0, 4, 1, 4, 0, 3, 3, 0, 2, 1, 4, 1, 0, 3, 1, 3, 4, 0, 0, 5, 0]\n",
            "328\n",
            "[0, 3, 1, 1, 5, 4, 1, 1, 1, 1, 3, 5, 0, 1, 1, 4, 0, 2, 3, 4, 1, 1, 2, 4, 1, 5, 0, 1, 3, 0, 4, 3, 3, 0, 1, 4, 0, 2, 1, 3, 5, 1, 1, 0, 4, 1, 1, 3, 1, 0, 4, 3, 0, 2, 1, 3, 1, 1, 2, 2, 2, 5, 2, 0, 3, 0, 4, 0, 1, 3, 5, 4, 4, 1, 1, 1, 4, 4, 5, 2, 4, 3, 2, 3, 4, 0, 0, 3, 0, 4, 5, 3, 1, 0, 3, 0, 3, 0, 1, 4, 2, 0, 0, 0, 1, 2, 4, 1, 0, 3, 3, 1, 0, 1, 5, 3, 0, 2, 4, 3, 1, 0, 2, 1, 0, 1, 1, 1, 4, 1, 0, 1, 5, 1, 2, 3, 0, 4, 2, 2, 1, 0, 2, 2, 0, 1, 1, 1, 0, 4, 3, 4, 0, 3, 2, 3, 2, 1, 4, 1, 2, 0, 3, 0, 3, 2, 1, 4, 2, 3, 3, 1, 4, 3, 3, 4, 1, 1, 0, 1, 3, 0, 2, 3, 0, 1, 1, 1, 2, 1, 2, 5, 3, 4, 4, 0, 1, 2, 4, 1, 2, 4, 3, 2, 1, 0, 4, 1, 1, 1, 3, 3, 0, 4, 3, 1, 4, 5, 0, 1, 0, 1, 0, 4, 4, 3, 1, 3, 4, 3, 1, 2, 4, 2, 5, 3, 1, 3, 2, 1, 4, 5, 1, 2, 4, 1, 2, 2, 1, 5, 2, 0, 4, 4, 2, 1, 3, 3, 2, 5, 0, 3, 2, 0, 0, 0, 4, 1, 2, 2, 3, 2, 5, 1, 0, 1, 0, 3, 1, 3, 4, 0, 1, 0, 2, 1, 3, 1, 3, 0, 5, 3, 0, 0, 1, 0, 2, 4, 0, 1, 1, 2, 2, 0, 0, 2, 4, 1, 1, 2, 3, 1, 3, 3, 0, 2, 1, 3, 0, 0, 2, 0, 0, 1, 2, 2, 3, 0, 2, 3, 2, 3, 1, 3, 0, 4, 1, 1, 5, 2, 4, 3, 2, 5, 3, 1, 5, 4, 4, 3, 3, 2, 3, 1, 3, 5, 5, 4, 5, 0, 2, 3, 0, 4, 4, 4, 1, 0, 5, 2, 5, 5, 1, 0, 0, 1, 4, 2, 0, 4, 0, 3, 3, 3, 4, 0, 5, 0, 1, 1, 1, 4, 4, 0, 0, 4, 1, 4, 0, 2, 4, 4, 3, 1, 2, 2, 1, 1, 4, 2, 0, 1, 3, 5, 0, 1, 4, 1, 2, 4, 0, 2, 1, 4, 2, 4, 2, 2, 3, 1, 1]\n",
            "431\n"
          ]
        }
      ]
    },
    {
      "cell_type": "code",
      "source": [
        "'''\n",
        "from tensorflow.keras.preprocessing.image import ImageDataGenerator, load_img, img_to_array, array_to_img\n",
        "\n",
        "for i, img_path in enumerate(df_train.rel_path.sample(n=6, random_state=123)):\n",
        "    img = load_img(IMAGES_DIR+img_path)\n",
        "    img = img_to_array(img, dtype=np.uint8)\n",
        "\n",
        "    #plt.figure(figsize = (5,5))\n",
        "    plt.subplot(2, 3, i+1)\n",
        "    plt.imshow(img.squeeze())\n",
        "'''"
      ],
      "metadata": {
        "id": "EQgNubegB-gB",
        "colab": {
          "base_uri": "https://localhost:8080/",
          "height": 54
        },
        "outputId": "f38e021a-ad50-489a-b74d-04939aa5d822"
      },
      "execution_count": null,
      "outputs": [
        {
          "output_type": "execute_result",
          "data": {
            "text/plain": [
              "'\\nfrom tensorflow.keras.preprocessing.image import ImageDataGenerator, load_img, img_to_array, array_to_img\\n\\nfor i, img_path in enumerate(df_train.rel_path.sample(n=6, random_state=123)):\\n    img = load_img(IMAGES_DIR+img_path)\\n    img = img_to_array(img, dtype=np.uint8)\\n    \\n    #plt.figure(figsize = (5,5))\\n    plt.subplot(2, 3, i+1)\\n    plt.imshow(img.squeeze())\\n'"
            ],
            "application/vnd.google.colaboratory.intrinsic+json": {
              "type": "string"
            }
          },
          "metadata": {},
          "execution_count": 26
        }
      ]
    },
    {
      "cell_type": "code",
      "source": [
        "# array로 변환\n",
        "X_train = np.array(X_train, ndmin=2)\n",
        "X_valid = np.array(X_valid, ndmin=2)\n",
        "X_test = np.array(X_test, ndmin=2)\n",
        "Y_train = np.array(Y_train, ndmin=1)\n",
        "Y_valid = np.array(Y_valid, ndmin=1)\n",
        "Y_test = np.array(Y_test, ndmin=1)\n",
        "\n",
        "# shape 조절\n",
        "len_train_X = len(X_train)\n",
        "len_validate_X = len(X_valid)\n",
        "len_test_X = len(X_test)\n",
        "\n",
        "X_train = X_train.reshape(len_train_X,3*224*224)\n",
        "X_valid = X_valid.reshape(len_validate_X,3*224*224)\n",
        "X_test = X_test.reshape(len_test_X,3*224*224)"
      ],
      "metadata": {
        "id": "vLhsNFYs5LCh"
      },
      "execution_count": null,
      "outputs": []
    },
    {
      "cell_type": "code",
      "source": [
        "X_train.shape"
      ],
      "metadata": {
        "colab": {
          "base_uri": "https://localhost:8080/"
        },
        "id": "M3Uw-Xnv5LEv",
        "outputId": "6f5f1b4b-d92b-4d00-cb0e-58fcfc15dfee"
      },
      "execution_count": null,
      "outputs": [
        {
          "output_type": "execute_result",
          "data": {
            "text/plain": [
              "(2200, 150528)"
            ]
          },
          "metadata": {},
          "execution_count": 28
        }
      ]
    },
    {
      "cell_type": "code",
      "source": [
        "# Normalize the images. (0~1)\n",
        "\n",
        "X_train = (X_train / 255)\n",
        "X_valid = (X_valid / 255)\n",
        "X_test = (X_test / 255)"
      ],
      "metadata": {
        "id": "RoeP3T7Z9_S1"
      },
      "execution_count": null,
      "outputs": []
    },
    {
      "cell_type": "markdown",
      "source": [
        "XGBoost 학습"
      ],
      "metadata": {
        "id": "m4kBZWhX_8mK"
      }
    },
    {
      "cell_type": "code",
      "source": [
        "!sudo pip install --upgrade xgboost"
      ],
      "metadata": {
        "id": "aG8T8TKaUNAv",
        "colab": {
          "base_uri": "https://localhost:8080/"
        },
        "outputId": "c1d34bb4-9833-4e62-bd69-c7e8019d9da5"
      },
      "execution_count": null,
      "outputs": [
        {
          "output_type": "stream",
          "name": "stdout",
          "text": [
            "Looking in indexes: https://pypi.org/simple, https://us-python.pkg.dev/colab-wheels/public/simple/\n",
            "Requirement already satisfied: xgboost in /usr/local/lib/python3.10/dist-packages (1.7.5)\n",
            "Requirement already satisfied: numpy in /usr/local/lib/python3.10/dist-packages (from xgboost) (1.22.4)\n",
            "Requirement already satisfied: scipy in /usr/local/lib/python3.10/dist-packages (from xgboost) (1.10.1)\n"
          ]
        }
      ]
    },
    {
      "cell_type": "markdown",
      "source": [
        "최적의 모델 선정"
      ],
      "metadata": {
        "id": "JSM8DP9SZHBl"
      }
    },
    {
      "cell_type": "markdown",
      "source": [
        "기본적인 xgboost (약 3시간 반 소요)"
      ],
      "metadata": {
        "id": "bdeIYQRMUQfg"
      }
    },
    {
      "cell_type": "code",
      "source": [
        "import time\n",
        "import xgboost as xgb\n",
        "from xgboost import XGBClassifier\n",
        "\n",
        "start = time.time()\n",
        "xgb_clf = XGBClassifier(objective = \"multi:softmax\")\n",
        "# tree_method = \"gpu_hist\"\n",
        "xgb_clf.fit(X_train,Y_train,eval_metric=['mlogloss','auc'], early_stopping_rounds = 100, eval_set = [(X_train, Y_train), (X_valid, Y_valid)], verbose=True)\n",
        "stop = time.time()\n",
        "print(xgb_clf.get_params)\n",
        "print(f\"Training time: {stop - start}s\")"
      ],
      "metadata": {
        "id": "T-26W5m9UQGi",
        "colab": {
          "base_uri": "https://localhost:8080/"
        },
        "outputId": "124788f5-7392-4dd8-c631-aec97a3b7eb6"
      },
      "execution_count": null,
      "outputs": [
        {
          "output_type": "stream",
          "name": "stderr",
          "text": [
            "/usr/local/lib/python3.10/dist-packages/xgboost/sklearn.py:835: UserWarning: `eval_metric` in `fit` method is deprecated for better compatibility with scikit-learn, use `eval_metric` in constructor or`set_params` instead.\n",
            "  warnings.warn(\n",
            "/usr/local/lib/python3.10/dist-packages/xgboost/sklearn.py:835: UserWarning: `early_stopping_rounds` in `fit` method is deprecated for better compatibility with scikit-learn, use `early_stopping_rounds` in constructor or`set_params` instead.\n",
            "  warnings.warn(\n"
          ]
        },
        {
          "output_type": "stream",
          "name": "stdout",
          "text": [
            "[0]\tvalidation_0-mlogloss:1.44512\tvalidation_0-auc:0.92186\tvalidation_1-mlogloss:1.64146\tvalidation_1-auc:0.71271\n",
            "[1]\tvalidation_0-mlogloss:1.20154\tvalidation_0-auc:0.96505\tvalidation_1-mlogloss:1.54675\tvalidation_1-auc:0.75864\n",
            "[2]\tvalidation_0-mlogloss:1.01365\tvalidation_0-auc:0.98295\tvalidation_1-mlogloss:1.47942\tvalidation_1-auc:0.77244\n",
            "[3]\tvalidation_0-mlogloss:0.86969\tvalidation_0-auc:0.98957\tvalidation_1-mlogloss:1.42778\tvalidation_1-auc:0.78625\n",
            "[4]\tvalidation_0-mlogloss:0.74676\tvalidation_0-auc:0.99419\tvalidation_1-mlogloss:1.37513\tvalidation_1-auc:0.80192\n",
            "[5]\tvalidation_0-mlogloss:0.64030\tvalidation_0-auc:0.99654\tvalidation_1-mlogloss:1.33701\tvalidation_1-auc:0.81145\n",
            "[6]\tvalidation_0-mlogloss:0.55795\tvalidation_0-auc:0.99774\tvalidation_1-mlogloss:1.31128\tvalidation_1-auc:0.81674\n",
            "[7]\tvalidation_0-mlogloss:0.48288\tvalidation_0-auc:0.99862\tvalidation_1-mlogloss:1.29583\tvalidation_1-auc:0.81501\n",
            "[8]\tvalidation_0-mlogloss:0.41932\tvalidation_0-auc:0.99916\tvalidation_1-mlogloss:1.27081\tvalidation_1-auc:0.81998\n",
            "[9]\tvalidation_0-mlogloss:0.36495\tvalidation_0-auc:0.99953\tvalidation_1-mlogloss:1.26209\tvalidation_1-auc:0.82071\n",
            "[10]\tvalidation_0-mlogloss:0.32245\tvalidation_0-auc:0.99962\tvalidation_1-mlogloss:1.25257\tvalidation_1-auc:0.82261\n",
            "[11]\tvalidation_0-mlogloss:0.28652\tvalidation_0-auc:0.99973\tvalidation_1-mlogloss:1.24028\tvalidation_1-auc:0.82552\n",
            "[12]\tvalidation_0-mlogloss:0.25199\tvalidation_0-auc:0.99979\tvalidation_1-mlogloss:1.23758\tvalidation_1-auc:0.82396\n",
            "[13]\tvalidation_0-mlogloss:0.22275\tvalidation_0-auc:0.99989\tvalidation_1-mlogloss:1.22915\tvalidation_1-auc:0.82617\n",
            "[14]\tvalidation_0-mlogloss:0.20057\tvalidation_0-auc:0.99995\tvalidation_1-mlogloss:1.22783\tvalidation_1-auc:0.82849\n",
            "[15]\tvalidation_0-mlogloss:0.18039\tvalidation_0-auc:0.99997\tvalidation_1-mlogloss:1.21588\tvalidation_1-auc:0.83222\n",
            "[16]\tvalidation_0-mlogloss:0.16048\tvalidation_0-auc:0.99998\tvalidation_1-mlogloss:1.20217\tvalidation_1-auc:0.83792\n",
            "[17]\tvalidation_0-mlogloss:0.14150\tvalidation_0-auc:0.99999\tvalidation_1-mlogloss:1.19898\tvalidation_1-auc:0.83763\n",
            "[18]\tvalidation_0-mlogloss:0.12681\tvalidation_0-auc:1.00000\tvalidation_1-mlogloss:1.19910\tvalidation_1-auc:0.83778\n",
            "[19]\tvalidation_0-mlogloss:0.11510\tvalidation_0-auc:1.00000\tvalidation_1-mlogloss:1.19906\tvalidation_1-auc:0.83785\n",
            "[20]\tvalidation_0-mlogloss:0.10297\tvalidation_0-auc:1.00000\tvalidation_1-mlogloss:1.20144\tvalidation_1-auc:0.83806\n",
            "[21]\tvalidation_0-mlogloss:0.09076\tvalidation_0-auc:1.00000\tvalidation_1-mlogloss:1.20321\tvalidation_1-auc:0.83799\n",
            "[22]\tvalidation_0-mlogloss:0.08293\tvalidation_0-auc:1.00000\tvalidation_1-mlogloss:1.21046\tvalidation_1-auc:0.83689\n",
            "[23]\tvalidation_0-mlogloss:0.07445\tvalidation_0-auc:1.00000\tvalidation_1-mlogloss:1.20795\tvalidation_1-auc:0.83822\n",
            "[24]\tvalidation_0-mlogloss:0.06742\tvalidation_0-auc:1.00000\tvalidation_1-mlogloss:1.20461\tvalidation_1-auc:0.84012\n",
            "[25]\tvalidation_0-mlogloss:0.06051\tvalidation_0-auc:1.00000\tvalidation_1-mlogloss:1.21196\tvalidation_1-auc:0.83889\n",
            "[26]\tvalidation_0-mlogloss:0.05553\tvalidation_0-auc:1.00000\tvalidation_1-mlogloss:1.21092\tvalidation_1-auc:0.83965\n",
            "[27]\tvalidation_0-mlogloss:0.05057\tvalidation_0-auc:1.00000\tvalidation_1-mlogloss:1.20534\tvalidation_1-auc:0.84151\n",
            "[28]\tvalidation_0-mlogloss:0.04555\tvalidation_0-auc:1.00000\tvalidation_1-mlogloss:1.20504\tvalidation_1-auc:0.84275\n",
            "[29]\tvalidation_0-mlogloss:0.04161\tvalidation_0-auc:1.00000\tvalidation_1-mlogloss:1.21282\tvalidation_1-auc:0.84153\n",
            "[30]\tvalidation_0-mlogloss:0.03873\tvalidation_0-auc:1.00000\tvalidation_1-mlogloss:1.21325\tvalidation_1-auc:0.84213\n",
            "[31]\tvalidation_0-mlogloss:0.03635\tvalidation_0-auc:1.00000\tvalidation_1-mlogloss:1.21468\tvalidation_1-auc:0.84244\n",
            "[32]\tvalidation_0-mlogloss:0.03352\tvalidation_0-auc:1.00000\tvalidation_1-mlogloss:1.21734\tvalidation_1-auc:0.84277\n",
            "[33]\tvalidation_0-mlogloss:0.03134\tvalidation_0-auc:1.00000\tvalidation_1-mlogloss:1.22163\tvalidation_1-auc:0.84300\n",
            "[34]\tvalidation_0-mlogloss:0.02941\tvalidation_0-auc:1.00000\tvalidation_1-mlogloss:1.22249\tvalidation_1-auc:0.84294\n",
            "[35]\tvalidation_0-mlogloss:0.02771\tvalidation_0-auc:1.00000\tvalidation_1-mlogloss:1.22097\tvalidation_1-auc:0.84404\n",
            "[36]\tvalidation_0-mlogloss:0.02583\tvalidation_0-auc:1.00000\tvalidation_1-mlogloss:1.22367\tvalidation_1-auc:0.84352\n",
            "[37]\tvalidation_0-mlogloss:0.02435\tvalidation_0-auc:1.00000\tvalidation_1-mlogloss:1.22125\tvalidation_1-auc:0.84515\n",
            "[38]\tvalidation_0-mlogloss:0.02313\tvalidation_0-auc:1.00000\tvalidation_1-mlogloss:1.22087\tvalidation_1-auc:0.84498\n",
            "[39]\tvalidation_0-mlogloss:0.02195\tvalidation_0-auc:1.00000\tvalidation_1-mlogloss:1.22699\tvalidation_1-auc:0.84484\n",
            "[40]\tvalidation_0-mlogloss:0.02072\tvalidation_0-auc:1.00000\tvalidation_1-mlogloss:1.23164\tvalidation_1-auc:0.84479\n",
            "[41]\tvalidation_0-mlogloss:0.01974\tvalidation_0-auc:1.00000\tvalidation_1-mlogloss:1.23174\tvalidation_1-auc:0.84532\n",
            "[42]\tvalidation_0-mlogloss:0.01892\tvalidation_0-auc:1.00000\tvalidation_1-mlogloss:1.23133\tvalidation_1-auc:0.84633\n",
            "[43]\tvalidation_0-mlogloss:0.01804\tvalidation_0-auc:1.00000\tvalidation_1-mlogloss:1.23371\tvalidation_1-auc:0.84658\n",
            "[44]\tvalidation_0-mlogloss:0.01723\tvalidation_0-auc:1.00000\tvalidation_1-mlogloss:1.23368\tvalidation_1-auc:0.84689\n",
            "[45]\tvalidation_0-mlogloss:0.01644\tvalidation_0-auc:1.00000\tvalidation_1-mlogloss:1.23656\tvalidation_1-auc:0.84658\n",
            "[46]\tvalidation_0-mlogloss:0.01570\tvalidation_0-auc:1.00000\tvalidation_1-mlogloss:1.23884\tvalidation_1-auc:0.84654\n",
            "[47]\tvalidation_0-mlogloss:0.01506\tvalidation_0-auc:1.00000\tvalidation_1-mlogloss:1.23978\tvalidation_1-auc:0.84742\n",
            "[48]\tvalidation_0-mlogloss:0.01443\tvalidation_0-auc:1.00000\tvalidation_1-mlogloss:1.24252\tvalidation_1-auc:0.84686\n",
            "[49]\tvalidation_0-mlogloss:0.01386\tvalidation_0-auc:1.00000\tvalidation_1-mlogloss:1.24172\tvalidation_1-auc:0.84796\n",
            "[50]\tvalidation_0-mlogloss:0.01334\tvalidation_0-auc:1.00000\tvalidation_1-mlogloss:1.24128\tvalidation_1-auc:0.84839\n",
            "[51]\tvalidation_0-mlogloss:0.01285\tvalidation_0-auc:1.00000\tvalidation_1-mlogloss:1.24357\tvalidation_1-auc:0.84848\n",
            "[52]\tvalidation_0-mlogloss:0.01241\tvalidation_0-auc:1.00000\tvalidation_1-mlogloss:1.24329\tvalidation_1-auc:0.84887\n",
            "[53]\tvalidation_0-mlogloss:0.01197\tvalidation_0-auc:1.00000\tvalidation_1-mlogloss:1.24785\tvalidation_1-auc:0.84818\n",
            "[54]\tvalidation_0-mlogloss:0.01159\tvalidation_0-auc:1.00000\tvalidation_1-mlogloss:1.25201\tvalidation_1-auc:0.84768\n",
            "[55]\tvalidation_0-mlogloss:0.01123\tvalidation_0-auc:1.00000\tvalidation_1-mlogloss:1.25007\tvalidation_1-auc:0.84830\n",
            "[56]\tvalidation_0-mlogloss:0.01092\tvalidation_0-auc:1.00000\tvalidation_1-mlogloss:1.25131\tvalidation_1-auc:0.84839\n",
            "[57]\tvalidation_0-mlogloss:0.01057\tvalidation_0-auc:1.00000\tvalidation_1-mlogloss:1.25026\tvalidation_1-auc:0.84882\n",
            "[58]\tvalidation_0-mlogloss:0.01026\tvalidation_0-auc:1.00000\tvalidation_1-mlogloss:1.24938\tvalidation_1-auc:0.84876\n",
            "[59]\tvalidation_0-mlogloss:0.00996\tvalidation_0-auc:1.00000\tvalidation_1-mlogloss:1.25053\tvalidation_1-auc:0.84912\n",
            "[60]\tvalidation_0-mlogloss:0.00969\tvalidation_0-auc:1.00000\tvalidation_1-mlogloss:1.25437\tvalidation_1-auc:0.84903\n",
            "[61]\tvalidation_0-mlogloss:0.00943\tvalidation_0-auc:1.00000\tvalidation_1-mlogloss:1.25570\tvalidation_1-auc:0.84900\n",
            "[62]\tvalidation_0-mlogloss:0.00919\tvalidation_0-auc:1.00000\tvalidation_1-mlogloss:1.25504\tvalidation_1-auc:0.84912\n",
            "[63]\tvalidation_0-mlogloss:0.00898\tvalidation_0-auc:1.00000\tvalidation_1-mlogloss:1.25516\tvalidation_1-auc:0.84919\n",
            "[64]\tvalidation_0-mlogloss:0.00877\tvalidation_0-auc:1.00000\tvalidation_1-mlogloss:1.25836\tvalidation_1-auc:0.84916\n",
            "[65]\tvalidation_0-mlogloss:0.00855\tvalidation_0-auc:1.00000\tvalidation_1-mlogloss:1.25956\tvalidation_1-auc:0.84929\n",
            "[66]\tvalidation_0-mlogloss:0.00835\tvalidation_0-auc:1.00000\tvalidation_1-mlogloss:1.26164\tvalidation_1-auc:0.84914\n",
            "[67]\tvalidation_0-mlogloss:0.00816\tvalidation_0-auc:1.00000\tvalidation_1-mlogloss:1.26301\tvalidation_1-auc:0.84923\n",
            "[68]\tvalidation_0-mlogloss:0.00798\tvalidation_0-auc:1.00000\tvalidation_1-mlogloss:1.26257\tvalidation_1-auc:0.84969\n",
            "[69]\tvalidation_0-mlogloss:0.00781\tvalidation_0-auc:1.00000\tvalidation_1-mlogloss:1.26524\tvalidation_1-auc:0.84921\n",
            "[70]\tvalidation_0-mlogloss:0.00764\tvalidation_0-auc:1.00000\tvalidation_1-mlogloss:1.26834\tvalidation_1-auc:0.84918\n",
            "[71]\tvalidation_0-mlogloss:0.00748\tvalidation_0-auc:1.00000\tvalidation_1-mlogloss:1.26999\tvalidation_1-auc:0.84934\n",
            "[72]\tvalidation_0-mlogloss:0.00734\tvalidation_0-auc:1.00000\tvalidation_1-mlogloss:1.27198\tvalidation_1-auc:0.84911\n",
            "[73]\tvalidation_0-mlogloss:0.00721\tvalidation_0-auc:1.00000\tvalidation_1-mlogloss:1.26980\tvalidation_1-auc:0.84954\n",
            "[74]\tvalidation_0-mlogloss:0.00706\tvalidation_0-auc:1.00000\tvalidation_1-mlogloss:1.26881\tvalidation_1-auc:0.84989\n",
            "[75]\tvalidation_0-mlogloss:0.00694\tvalidation_0-auc:1.00000\tvalidation_1-mlogloss:1.27015\tvalidation_1-auc:0.84985\n",
            "[76]\tvalidation_0-mlogloss:0.00682\tvalidation_0-auc:1.00000\tvalidation_1-mlogloss:1.27067\tvalidation_1-auc:0.84977\n",
            "[77]\tvalidation_0-mlogloss:0.00669\tvalidation_0-auc:1.00000\tvalidation_1-mlogloss:1.27176\tvalidation_1-auc:0.84978\n",
            "[78]\tvalidation_0-mlogloss:0.00657\tvalidation_0-auc:1.00000\tvalidation_1-mlogloss:1.27346\tvalidation_1-auc:0.85003\n",
            "[79]\tvalidation_0-mlogloss:0.00646\tvalidation_0-auc:1.00000\tvalidation_1-mlogloss:1.27495\tvalidation_1-auc:0.84968\n",
            "[80]\tvalidation_0-mlogloss:0.00635\tvalidation_0-auc:1.00000\tvalidation_1-mlogloss:1.27492\tvalidation_1-auc:0.84996\n",
            "[81]\tvalidation_0-mlogloss:0.00625\tvalidation_0-auc:1.00000\tvalidation_1-mlogloss:1.27332\tvalidation_1-auc:0.85100\n",
            "[82]\tvalidation_0-mlogloss:0.00615\tvalidation_0-auc:1.00000\tvalidation_1-mlogloss:1.27359\tvalidation_1-auc:0.85102\n",
            "[83]\tvalidation_0-mlogloss:0.00606\tvalidation_0-auc:1.00000\tvalidation_1-mlogloss:1.27500\tvalidation_1-auc:0.85088\n",
            "[84]\tvalidation_0-mlogloss:0.00597\tvalidation_0-auc:1.00000\tvalidation_1-mlogloss:1.27475\tvalidation_1-auc:0.85110\n",
            "[85]\tvalidation_0-mlogloss:0.00588\tvalidation_0-auc:1.00000\tvalidation_1-mlogloss:1.27704\tvalidation_1-auc:0.85099\n",
            "[86]\tvalidation_0-mlogloss:0.00580\tvalidation_0-auc:1.00000\tvalidation_1-mlogloss:1.27875\tvalidation_1-auc:0.85127\n",
            "[87]\tvalidation_0-mlogloss:0.00572\tvalidation_0-auc:1.00000\tvalidation_1-mlogloss:1.28037\tvalidation_1-auc:0.85117\n",
            "[88]\tvalidation_0-mlogloss:0.00565\tvalidation_0-auc:1.00000\tvalidation_1-mlogloss:1.27882\tvalidation_1-auc:0.85152\n",
            "[89]\tvalidation_0-mlogloss:0.00557\tvalidation_0-auc:1.00000\tvalidation_1-mlogloss:1.27982\tvalidation_1-auc:0.85159\n",
            "[90]\tvalidation_0-mlogloss:0.00550\tvalidation_0-auc:1.00000\tvalidation_1-mlogloss:1.28006\tvalidation_1-auc:0.85168\n",
            "[91]\tvalidation_0-mlogloss:0.00543\tvalidation_0-auc:1.00000\tvalidation_1-mlogloss:1.28205\tvalidation_1-auc:0.85152\n",
            "[92]\tvalidation_0-mlogloss:0.00536\tvalidation_0-auc:1.00000\tvalidation_1-mlogloss:1.28340\tvalidation_1-auc:0.85138\n",
            "[93]\tvalidation_0-mlogloss:0.00529\tvalidation_0-auc:1.00000\tvalidation_1-mlogloss:1.28353\tvalidation_1-auc:0.85143\n",
            "[94]\tvalidation_0-mlogloss:0.00523\tvalidation_0-auc:1.00000\tvalidation_1-mlogloss:1.28329\tvalidation_1-auc:0.85154\n",
            "[95]\tvalidation_0-mlogloss:0.00517\tvalidation_0-auc:1.00000\tvalidation_1-mlogloss:1.28312\tvalidation_1-auc:0.85161\n",
            "[96]\tvalidation_0-mlogloss:0.00511\tvalidation_0-auc:1.00000\tvalidation_1-mlogloss:1.28385\tvalidation_1-auc:0.85156\n",
            "[97]\tvalidation_0-mlogloss:0.00505\tvalidation_0-auc:1.00000\tvalidation_1-mlogloss:1.28445\tvalidation_1-auc:0.85152\n",
            "[98]\tvalidation_0-mlogloss:0.00499\tvalidation_0-auc:1.00000\tvalidation_1-mlogloss:1.28554\tvalidation_1-auc:0.85156\n",
            "[99]\tvalidation_0-mlogloss:0.00493\tvalidation_0-auc:1.00000\tvalidation_1-mlogloss:1.28647\tvalidation_1-auc:0.85146\n",
            "<bound method XGBModel.get_params of XGBClassifier(base_score=None, booster=None, callbacks=None,\n",
            "              colsample_bylevel=None, colsample_bynode=None,\n",
            "              colsample_bytree=None, early_stopping_rounds=None,\n",
            "              enable_categorical=False, eval_metric=None, feature_types=None,\n",
            "              gamma=None, gpu_id=None, grow_policy=None, importance_type=None,\n",
            "              interaction_constraints=None, learning_rate=None, max_bin=None,\n",
            "              max_cat_threshold=None, max_cat_to_onehot=None,\n",
            "              max_delta_step=None, max_depth=None, max_leaves=None,\n",
            "              min_child_weight=None, missing=nan, monotone_constraints=None,\n",
            "              n_estimators=100, n_jobs=None, num_parallel_tree=None,\n",
            "              objective='multi:softmax', predictor=None, ...)>\n",
            "Training time: 9367.624859333038s\n"
          ]
        }
      ]
    },
    {
      "cell_type": "markdown",
      "source": [
        "기본적인 xgboost - 결과 확인"
      ],
      "metadata": {
        "id": "zuWQXF-Djtm0"
      }
    },
    {
      "cell_type": "code",
      "source": [
        "# Print F1 scores and Accuracy\n",
        "from sklearn.metrics import f1_score\n",
        "from sklearn.metrics import accuracy_score\n",
        "\n",
        "y_test_preds = xgb_clf.predict(X_test)\n",
        "print(\"Test F1 score: \", f1_score(Y_test, y_test_preds, average = \"macro\"))\n",
        "print(\"Test Accuracy: \", accuracy_score(Y_test, y_test_preds))"
      ],
      "metadata": {
        "id": "5uEmNSsATAmd",
        "colab": {
          "base_uri": "https://localhost:8080/"
        },
        "outputId": "0df85246-9e50-4691-ee98-8b95e7bdcc65"
      },
      "execution_count": null,
      "outputs": [
        {
          "output_type": "stream",
          "name": "stdout",
          "text": [
            "Test F1 score:  0.5656832008782429\n",
            "Test Accuracy:  0.6148491879350348\n"
          ]
        }
      ]
    },
    {
      "cell_type": "code",
      "source": [
        "# accuracy, loss 그래프\n",
        "\n",
        "# retrieve performance metrics\n",
        "results_1 = xgb_clf.evals_result()\n",
        "\n",
        "import matplotlib.pyplot as plt\n",
        "plt.figure(figsize=(14, 5))\n",
        "\n",
        "plt.subplot(1, 2, 1)\n",
        "plt.plot(results_1['validation_0']['auc'], label='Training Accuracy')\n",
        "plt.plot(results_1['validation_1']['auc'], label='Validation Accuracy')\n",
        "plt.legend(loc='lower right')\n",
        "plt.title('Training and Validation Accuracy')\n",
        "\n",
        "plt.subplot(1, 2, 2)\n",
        "plt.plot(results_1['validation_0']['mlogloss'], label='Training mlogloss')\n",
        "plt.plot(results_1['validation_1']['mlogloss'], label='Validation mlogloss')\n",
        "plt.legend(loc='lower right')\n",
        "plt.title('Training and Validation mlogloss')\n",
        "\n",
        "plt.show()"
      ],
      "metadata": {
        "id": "heX9jK4Wj_wE",
        "colab": {
          "base_uri": "https://localhost:8080/",
          "height": 468
        },
        "outputId": "7a78b1e1-b96b-42db-9641-1415acb7ab5c"
      },
      "execution_count": null,
      "outputs": [
        {
          "output_type": "display_data",
          "data": {
            "text/plain": [
              "<Figure size 1400x500 with 2 Axes>"
            ],
            "image/png": "[encoded data removed]"
          },
          "metadata": {}
        }
      ]
    },
    {
      "cell_type": "code",
      "source": [
        "import itertools\n",
        "from sklearn.metrics import classification_report, confusion_matrix\n",
        "\n",
        "def plot_confusion_matrix(cm, classes, normalize=True, title='Confusion matrix', cmap=plt.cm.Blues):\n",
        "    \"\"\"\n",
        "    This function prints and plots the confusion matrix.\n",
        "    Normalization can be applied by setting `normalize=True`.\n",
        "    \"\"\"\n",
        "    plt.figure(figsize=(10,10))\n",
        "    plt.imshow(cm, interpolation='nearest', cmap=cmap)\n",
        "    plt.title(title)\n",
        "    plt.colorbar()\n",
        "    tick_marks = np.arange(len(classes))\n",
        "    plt.xticks(tick_marks, classes, rotation=45)\n",
        "    plt.yticks(tick_marks, classes)\n",
        "    if normalize:\n",
        "        cm = cm.astype('float') / cm.sum(axis=1)[:, np.newaxis]\n",
        "        cm = np.around(cm, decimals=2)\n",
        "        cm[np.isnan(cm)] = 0.0\n",
        "    thresh = cm.max() / 2.\n",
        "    for i, j in itertools.product(range(cm.shape[0]), range(cm.shape[1])):\n",
        "        plt.text(j, i, cm[i, j],\n",
        "                 horizontalalignment=\"center\",\n",
        "                 color=\"white\" if cm[i, j] > thresh else \"black\")\n",
        "    plt.tight_layout()\n",
        "    plt.ylabel('True label')\n",
        "    plt.xlabel('Predicted label')"
      ],
      "metadata": {
        "id": "pWsPbR_7O1pS"
      },
      "execution_count": null,
      "outputs": []
    },
    {
      "cell_type": "code",
      "source": [
        "from sklearn.metrics import classification_report, confusion_matrix\n",
        "\n",
        "\n",
        "target_names = ['cardboard', 'paper', 'glass', 'metal', 'trash', 'plastic']\n",
        "\n",
        "# Confusion Matrix\n",
        "cm = confusion_matrix(Y_test, y_test_preds)\n",
        "plot_confusion_matrix(cm, target_names, normalize=False, title='Confusion Matrix')\n",
        "\n",
        "# Classification Report\n",
        "print('Classification Report')\n",
        "print(classification_report(Y_test, y_test_preds, target_names=target_names))"
      ],
      "metadata": {
        "colab": {
          "base_uri": "https://localhost:8080/",
          "height": 1000
        },
        "id": "Jn1wsQLsO7TX",
        "outputId": "017a322c-a65b-41a5-99e3-899453e20bce"
      },
      "execution_count": null,
      "outputs": [
        {
          "output_type": "stream",
          "name": "stdout",
          "text": [
            "Classification Report\n",
            "              precision    recall  f1-score   support\n",
            "\n",
            "   cardboard       0.57      0.52      0.54        82\n",
            "       paper       0.69      0.83      0.75       108\n",
            "       glass       0.75      0.76      0.75        70\n",
            "       metal       0.53      0.66      0.59        74\n",
            "       trash       0.48      0.32      0.39        68\n",
            "     plastic       0.57      0.28      0.37        29\n",
            "\n",
            "    accuracy                           0.61       431\n",
            "   macro avg       0.60      0.56      0.57       431\n",
            "weighted avg       0.61      0.61      0.60       431\n",
            "\n"
          ]
        },
        {
          "output_type": "display_data",
          "data": {
            "text/plain": [
              "<Figure size 1000x1000 with 2 Axes>"
            ],
            "image/png": "[encoded data removed]"
          },
          "metadata": {}
        }
      ]
    },
    {
      "cell_type": "markdown",
      "source": [
        "파라미터 조절한 xgboost (약 2시간 소요)"
      ],
      "metadata": {
        "id": "VvhbRfed6m6t"
      }
    },
    {
      "cell_type": "code",
      "source": [
        "import time\n",
        "import xgboost as xgb\n",
        "from xgboost import XGBClassifier\n",
        "\n",
        "start = time.time()\n",
        "xgb_clf_2 = XGBClassifier(objective = \"multi:softmax\", n_estimators=100, n_jobs=-1, learning_rate=0.5, max_depth= 5, min_child_weight= 1, seed=0)\n",
        "# tree_method = \"gpu_hist\"\n",
        "xgb_clf_2.fit(X_train,Y_train,eval_metric=['mlogloss','auc'], early_stopping_rounds = 100, eval_set = [(X_train, Y_train), (X_valid, Y_valid)])\n",
        "stop = time.time()\n",
        "print(xgb_clf_2.get_params)\n",
        "print(f\"Training time: {stop - start}s\")"
      ],
      "metadata": {
        "id": "ySExTFqe6o7J"
      },
      "execution_count": null,
      "outputs": []
    },
    {
      "cell_type": "code",
      "source": [
        "from sklearn.metrics import f1_score\n",
        "from sklearn.metrics import accuracy_score\n",
        "\n",
        "y_test_pred_2 = xgb_clf_2.predict(X_test)\n",
        "\n",
        "print(\"Test F1 score: \", f1_score(Y_test, y_test_pred_2, average = \"macro\"))\n",
        "print(\"Test Accuracy: \", accuracy_score(Y_test, y_test_pred_2))"
      ],
      "metadata": {
        "id": "gUHQTgYP7qKp"
      },
      "execution_count": null,
      "outputs": []
    },
    {
      "cell_type": "code",
      "source": [
        "# accuracy, loss 그래프\n",
        "\n",
        "# retrieve performance metrics\n",
        "results = xgb_clf_2.evals_result()\n",
        "\n",
        "import matplotlib.pyplot as plt\n",
        "plt.figure(figsize=(14, 5))\n",
        "\n",
        "plt.subplot(1, 2, 1)\n",
        "plt.plot(results['validation_0']['auc'], label='Training Accuracy')\n",
        "plt.plot(results['validation_1']['auc'], label='Validation Accuracy')\n",
        "plt.legend(loc='lower right')\n",
        "plt.title('Training and Validation Accuracy')\n",
        "\n",
        "plt.subplot(1, 2, 2)\n",
        "plt.plot(results['validation_0']['mlogloss'], label='Training mlogloss')\n",
        "plt.plot(results['validation_1']['mlogloss'], label='Validation mlogloss')\n",
        "plt.legend(loc='lower right')\n",
        "plt.title('Training and Validation mlogloss')\n",
        "\n",
        "plt.show()"
      ],
      "metadata": {
        "id": "MBSmPeik7ka7"
      },
      "execution_count": null,
      "outputs": []
    },
    {
      "cell_type": "code",
      "source": [
        "from sklearn.metrics import classification_report, confusion_matrix\n",
        "from sklearn.metrics import plot_confusion_matrix\n",
        "\n",
        "target_names = ['cardboard', 'paper', 'glass', 'metal', 'trash', 'plastic']\n",
        "\n",
        "# Confusion Matrix\n",
        "cm = confusion_matrix(Y_test, y_test_pred_2)\n",
        "plot_confusion_matrix(cm, target_names, normalize=False, title='Confusion Matrix')\n",
        "\n",
        "# Classification Report\n",
        "print('Classification Report')\n",
        "print(classification_report(Y_test, y_test_pred_2, target_names=target_names))"
      ],
      "metadata": {
        "id": "u4N4uv5xjHDn"
      },
      "execution_count": null,
      "outputs": []
    },
    {
      "cell_type": "code",
      "source": [
        "# confusion matrix\n",
        "\n",
        "from sklearn.metrics import ConfusionMatrixDisplay\n",
        "\n",
        "class_names = ['cardboard', 'paper', 'glass', 'metal', 'trash', 'plastic']\n",
        "class_names = np.array(class_names, dtype='<U10')\n",
        "print(class_names)\n",
        "\n",
        "\n",
        "# Plot non-normalized confusion matrix\n",
        "titles_options = [\n",
        "    (\"Confusion matrix\", None),\n",
        "]\n",
        "for title, normalize in titles_options:\n",
        "    disp = ConfusionMatrixDisplay.from_estimator(\n",
        "        y_test_pred_2,\n",
        "        X_test,\n",
        "        Y_test,\n",
        "        display_labels=class_names,\n",
        "        cmap=plt.cm.Blues,\n",
        "    )\n",
        "    disp.ax_.set_title(title)\n",
        "\n",
        "    print(title)\n",
        "    print(disp.confusion_matrix)\n",
        "\n",
        "plt.show()"
      ],
      "metadata": {
        "id": "IGBPtanEa7pY"
      },
      "execution_count": null,
      "outputs": []
    },
    {
      "cell_type": "markdown",
      "source": [
        "confusion matrix"
      ],
      "metadata": {
        "id": "0dUzug-LoaAh"
      }
    },
    {
      "cell_type": "code",
      "source": [
        "from sklearn.metrics import ConfusionMatrixDisplay\n",
        "\n",
        "class_names = ['cardboard', 'paper', 'glass', 'metal', 'trash', 'plastic']\n",
        "class_names = np.array(class_names, dtype='<U10')\n",
        "print(class_names)\n",
        "\n",
        "\n",
        "# Plot non-normalized confusion matrix\n",
        "titles_options = [\n",
        "    (\"Confusion matrix\", None),\n",
        "]\n",
        "for title, normalize in titles_options:\n",
        "    disp = ConfusionMatrixDisplay.from_estimator(\n",
        "        xgb_clf_2,\n",
        "        X_test,\n",
        "        Y_test,\n",
        "        display_labels=class_names,\n",
        "        cmap=plt.cm.Blues,\n",
        "    )\n",
        "    disp.ax_.set_title(title)\n",
        "\n",
        "    print(title)\n",
        "    print(disp.confusion_matrix)\n",
        "\n",
        "plt.show()"
      ],
      "metadata": {
        "id": "HCc86TEgpUO9"
      },
      "execution_count": null,
      "outputs": []
    },
    {
      "cell_type": "markdown",
      "source": [
        "사용한 파일 제거"
      ],
      "metadata": {
        "id": "IGdunLGToLmT"
      }
    },
    {
      "cell_type": "code",
      "source": [
        "'''\n",
        "save_directory = '/content/drive/MyDrive/Colab_Notebooks/Data_driven_AI/input/augmentation_data/valid'\n",
        "\n",
        "import shutil\n",
        "\n",
        "shutil.rmtree(save_directory)\n",
        "'''"
      ],
      "metadata": {
        "id": "0mJmAcsd6XXp"
      },
      "execution_count": null,
      "outputs": []
    }
  ]
}