{
  "nbformat": 4,
  "nbformat_minor": 0,
  "metadata": {
    "colab": {
      "provenance": [],
      "gpuType": "T4"
    },
    "kernelspec": {
      "name": "python3",
      "display_name": "Python 3"
    },
    "language_info": {
      "name": "python"
    },
    "accelerator": "GPU"
  },
  "cells": [
    {
      "cell_type": "code",
      "execution_count": null,
      "metadata": {
        "id": "iwBaN7FiyJps",
        "colab": {
          "base_uri": "https://localhost:8080/"
        },
        "outputId": "653a9eb7-9cfe-4e6e-e6f6-951257af06da"
      },
      "outputs": [
        {
          "output_type": "stream",
          "name": "stdout",
          "text": [
            "Mounted at /content/drive\n"
          ]
        }
      ],
      "source": [
        "# 구글드라이브 마운트\n",
        "from google.colab import drive\n",
        "drive.mount('/content/drive')"
      ]
    },
    {
      "cell_type": "code",
      "source": [
        "import re\n",
        "import os\n",
        "import numpy as np\n",
        "import pandas as pd\n",
        "import matplotlib.pyplot as plt\n",
        "\n",
        "import tensorflow as tf\n",
        "from tensorflow.keras.preprocessing.image import ImageDataGenerator, load_img, img_to_array, array_to_img"
      ],
      "metadata": {
        "id": "eHDrfbbPB-T9"
      },
      "execution_count": null,
      "outputs": []
    },
    {
      "cell_type": "code",
      "source": [
        "'''\n",
        "# 파일 unzip\n",
        "path_to_zip_file = '/content/drive/MyDrive/Colab Notebooks/garbage_classification_real.zip'\n",
        "directory_to_extract_to = '/content/drive/MyDrive/Colab Notebooks/input'\n",
        "\n",
        "import zipfile\n",
        "with zipfile.ZipFile(path_to_zip_file, 'r') as zip_ref:\n",
        "    zip_ref.extractall(directory_to_extract_to)\n",
        "'''"
      ],
      "metadata": {
        "id": "TjD2Q9qTc_AA",
        "colab": {
          "base_uri": "https://localhost:8080/",
          "height": 72
        },
        "outputId": "842ab9c6-f600-4d12-ca55-05f3ae0353f3"
      },
      "execution_count": null,
      "outputs": [
        {
          "output_type": "execute_result",
          "data": {
            "text/plain": [
              "\"\\n# 파일 unzip\\npath_to_zip_file = '/content/drive/MyDrive/Colab Notebooks/garbage_classification_real.zip'\\ndirectory_to_extract_to = '/content/drive/MyDrive/Colab Notebooks/input'\\n\\nimport zipfile\\nwith zipfile.ZipFile(path_to_zip_file, 'r') as zip_ref:\\n    zip_ref.extractall(directory_to_extract_to)\\n\""
            ],
            "application/vnd.google.colaboratory.intrinsic+json": {
              "type": "string"
            }
          },
          "metadata": {},
          "execution_count": 3
        }
      ]
    },
    {
      "cell_type": "code",
      "source": [
        "def list_dataset():\n",
        "    for dirname, _, filenames in os.walk('/content/drive/MyDrive/Colab Notebooks/input/garbage_classification_real'):\n",
        "        for filename in filenames:\n",
        "            print(os.path.join(dirname, filename))\n",
        "\n",
        "# Add class name prefix to each path based on class name include in filename\n",
        "def add_class_name_prefix(df, col_name):\n",
        "    df[col_name] = df[col_name].apply(lambda x: x[:re.search(\"\\d\",x).start()] + '/' + x)\n",
        "    return df\n",
        "\n",
        "\n",
        "def class_id_to_label(id):\n",
        "    label_map = {1: 'glass', 2: 'paper', 3: 'cardboard', 4: 'plastic', 5: 'metal', 6: 'trash'}\n",
        "    return label_map[id]\n"
      ],
      "metadata": {
        "id": "l0fz4QCXB-V5"
      },
      "execution_count": null,
      "outputs": []
    },
    {
      "cell_type": "code",
      "source": [
        "IMAGES_DIR = \"/content/drive/MyDrive/Colab Notebooks/input/garbage_classification_real/\"\n",
        "\n",
        "train_file = '/content/drive/MyDrive/Colab Notebooks/input/one-indexed-files-notrash_train.txt'\n",
        "val_file   = '/content/drive/MyDrive/Colab Notebooks/input/one-indexed-files-notrash_val.txt'\n",
        "test_file  = '/content/drive/MyDrive/Colab Notebooks/input/one-indexed-files-notrash_test.txt'\n",
        "\n",
        "df_train = pd.read_csv(train_file, sep=' ', header=None, names=['filename', 'category'])\n",
        "df_valid = pd.read_csv(val_file,   sep=' ', header=None, names=['filename', 'category'])\n",
        "df_test  = pd.read_csv(test_file,   sep=' ', header=None, names=['filename', 'category'])\n",
        "\n",
        "df_train = add_class_name_prefix(df_train, 'filename')\n",
        "df_valid = add_class_name_prefix(df_valid, 'filename')\n",
        "df_test  = add_class_name_prefix(df_test,  'filename')\n",
        "\n",
        "df_train['category_str'] = df_train['category'].apply(class_id_to_label)\n",
        "df_valid['category_str'] = df_valid['category'].apply(class_id_to_label)\n",
        "df_test['category_str']  = df_test['category'].apply(class_id_to_label)\n",
        "\n",
        "df_train['category'] = df_train['category']-1\n",
        "df_valid['category'] = df_valid['category']-1\n",
        "df_test['category']  = df_test['category']-1\n",
        "\n",
        "print(f'Found {len(df_train)} training, {len(df_valid)} validation and {len(df_test)} test.')"
      ],
      "metadata": {
        "id": "S22tb1uGCx4C",
        "colab": {
          "base_uri": "https://localhost:8080/"
        },
        "outputId": "67eb0dbb-9a2f-472b-93b1-aa779a7f70f3"
      },
      "execution_count": null,
      "outputs": [
        {
          "output_type": "stream",
          "name": "stdout",
          "text": [
            "Found 1768 training, 328 validation and 431 test.\n"
          ]
        }
      ]
    },
    {
      "cell_type": "code",
      "source": [
        "df_test"
      ],
      "metadata": {
        "colab": {
          "base_uri": "https://localhost:8080/",
          "height": 423
        },
        "id": "MpKEXidl7cYW",
        "outputId": "a3d76846-1985-4e20-cd99-11843fa186ec"
      },
      "execution_count": null,
      "outputs": [
        {
          "output_type": "execute_result",
          "data": {
            "text/plain": [
              "                      filename  category category_str\n",
              "0            paper/paper70.jpg         1        paper\n",
              "1           paper/paper380.jpg         1        paper\n",
              "2    cardboard/cardboard31.jpg         2    cardboard\n",
              "3            glass/glass12.jpg         0        glass\n",
              "4           paper/paper169.jpg         1        paper\n",
              "..                         ...       ...          ...\n",
              "426         metal/metal389.jpg         4        metal\n",
              "427         paper/paper303.jpg         1        paper\n",
              "428         paper/paper405.jpg         1        paper\n",
              "429         paper/paper465.jpg         1        paper\n",
              "430         trash/trash132.jpg         5        trash\n",
              "\n",
              "[431 rows x 3 columns]"
            ],
            "text/html": [
              "\n",
              "  <div id=\"df-7df12655-bf69-4423-800c-5bfd5bd9ae61\">\n",
              "    <div class=\"colab-df-container\">\n",
              "      <div>\n",
              "<style scoped>\n",
              "    .dataframe tbody tr th:only-of-type {\n",
              "        vertical-align: middle;\n",
              "    }\n",
              "\n",
              "    .dataframe tbody tr th {\n",
              "        vertical-align: top;\n",
              "    }\n",
              "\n",
              "    .dataframe thead th {\n",
              "        text-align: right;\n",
              "    }\n",
              "</style>\n",
              "<table border=\"1\" class=\"dataframe\">\n",
              "  <thead>\n",
              "    <tr style=\"text-align: right;\">\n",
              "      <th></th>\n",
              "      <th>filename</th>\n",
              "      <th>category</th>\n",
              "      <th>category_str</th>\n",
              "    </tr>\n",
              "  </thead>\n",
              "  <tbody>\n",
              "    <tr>\n",
              "      <th>0</th>\n",
              "      <td>paper/paper70.jpg</td>\n",
              "      <td>1</td>\n",
              "      <td>paper</td>\n",
              "    </tr>\n",
              "    <tr>\n",
              "      <th>1</th>\n",
              "      <td>paper/paper380.jpg</td>\n",
              "      <td>1</td>\n",
              "      <td>paper</td>\n",
              "    </tr>\n",
              "    <tr>\n",
              "      <th>2</th>\n",
              "      <td>cardboard/cardboard31.jpg</td>\n",
              "      <td>2</td>\n",
              "      <td>cardboard</td>\n",
              "    </tr>\n",
              "    <tr>\n",
              "      <th>3</th>\n",
              "      <td>glass/glass12.jpg</td>\n",
              "      <td>0</td>\n",
              "      <td>glass</td>\n",
              "    </tr>\n",
              "    <tr>\n",
              "      <th>4</th>\n",
              "      <td>paper/paper169.jpg</td>\n",
              "      <td>1</td>\n",
              "      <td>paper</td>\n",
              "    </tr>\n",
              "    <tr>\n",
              "      <th>...</th>\n",
              "      <td>...</td>\n",
              "      <td>...</td>\n",
              "      <td>...</td>\n",
              "    </tr>\n",
              "    <tr>\n",
              "      <th>426</th>\n",
              "      <td>metal/metal389.jpg</td>\n",
              "      <td>4</td>\n",
              "      <td>metal</td>\n",
              "    </tr>\n",
              "    <tr>\n",
              "      <th>427</th>\n",
              "      <td>paper/paper303.jpg</td>\n",
              "      <td>1</td>\n",
              "      <td>paper</td>\n",
              "    </tr>\n",
              "    <tr>\n",
              "      <th>428</th>\n",
              "      <td>paper/paper405.jpg</td>\n",
              "      <td>1</td>\n",
              "      <td>paper</td>\n",
              "    </tr>\n",
              "    <tr>\n",
              "      <th>429</th>\n",
              "      <td>paper/paper465.jpg</td>\n",
              "      <td>1</td>\n",
              "      <td>paper</td>\n",
              "    </tr>\n",
              "    <tr>\n",
              "      <th>430</th>\n",
              "      <td>trash/trash132.jpg</td>\n",
              "      <td>5</td>\n",
              "      <td>trash</td>\n",
              "    </tr>\n",
              "  </tbody>\n",
              "</table>\n",
              "<p>431 rows × 3 columns</p>\n",
              "</div>\n",
              "      <button class=\"colab-df-convert\" onclick=\"convertToInteractive('df-7df12655-bf69-4423-800c-5bfd5bd9ae61')\"\n",
              "              title=\"Convert this dataframe to an interactive table.\"\n",
              "              style=\"display:none;\">\n",
              "        \n",
              "  <svg xmlns=\"http://www.w3.org/2000/svg\" height=\"24px\"viewBox=\"0 0 24 24\"\n",
              "       width=\"24px\">\n",
              "    <path d=\"M0 0h24v24H0V0z\" fill=\"none\"/>\n",
              "    <path d=\"M18.56 5.44l.94 2.06.94-2.06 2.06-.94-2.06-.94-.94-2.06-.94 2.06-2.06.94zm-11 1L8.5 8.5l.94-2.06 2.06-.94-2.06-.94L8.5 2.5l-.94 2.06-2.06.94zm10 10l.94 2.06.94-2.06 2.06-.94-2.06-.94-.94-2.06-.94 2.06-2.06.94z\"/><path d=\"M17.41 7.96l-1.37-1.37c-.4-.4-.92-.59-1.43-.59-.52 0-1.04.2-1.43.59L10.3 9.45l-7.72 7.72c-.78.78-.78 2.05 0 2.83L4 21.41c.39.39.9.59 1.41.59.51 0 1.02-.2 1.41-.59l7.78-7.78 2.81-2.81c.8-.78.8-2.07 0-2.86zM5.41 20L4 18.59l7.72-7.72 1.47 1.35L5.41 20z\"/>\n",
              "  </svg>\n",
              "      </button>\n",
              "      \n",
              "  <style>\n",
              "    .colab-df-container {\n",
              "      display:flex;\n",
              "      flex-wrap:wrap;\n",
              "      gap: 12px;\n",
              "    }\n",
              "\n",
              "    .colab-df-convert {\n",
              "      background-color: #E8F0FE;\n",
              "      border: none;\n",
              "      border-radius: 50%;\n",
              "      cursor: pointer;\n",
              "      display: none;\n",
              "      fill: #1967D2;\n",
              "      height: 32px;\n",
              "      padding: 0 0 0 0;\n",
              "      width: 32px;\n",
              "    }\n",
              "\n",
              "    .colab-df-convert:hover {\n",
              "      background-color: #E2EBFA;\n",
              "      box-shadow: 0px 1px 2px rgba(60, 64, 67, 0.3), 0px 1px 3px 1px rgba(60, 64, 67, 0.15);\n",
              "      fill: #174EA6;\n",
              "    }\n",
              "\n",
              "    [theme=dark] .colab-df-convert {\n",
              "      background-color: #3B4455;\n",
              "      fill: #D2E3FC;\n",
              "    }\n",
              "\n",
              "    [theme=dark] .colab-df-convert:hover {\n",
              "      background-color: #434B5C;\n",
              "      box-shadow: 0px 1px 3px 1px rgba(0, 0, 0, 0.15);\n",
              "      filter: drop-shadow(0px 1px 2px rgba(0, 0, 0, 0.3));\n",
              "      fill: #FFFFFF;\n",
              "    }\n",
              "  </style>\n",
              "\n",
              "      <script>\n",
              "        const buttonEl =\n",
              "          document.querySelector('#df-7df12655-bf69-4423-800c-5bfd5bd9ae61 button.colab-df-convert');\n",
              "        buttonEl.style.display =\n",
              "          google.colab.kernel.accessAllowed ? 'block' : 'none';\n",
              "\n",
              "        async function convertToInteractive(key) {\n",
              "          const element = document.querySelector('#df-7df12655-bf69-4423-800c-5bfd5bd9ae61');\n",
              "          const dataTable =\n",
              "            await google.colab.kernel.invokeFunction('convertToInteractive',\n",
              "                                                     [key], {});\n",
              "          if (!dataTable) return;\n",
              "\n",
              "          const docLinkHtml = 'Like what you see? Visit the ' +\n",
              "            '<a target=\"_blank\" href=https://colab.research.google.com/notebooks/data_table.ipynb>data table notebook</a>'\n",
              "            + ' to learn more about interactive tables.';\n",
              "          element.innerHTML = '';\n",
              "          dataTable['output_type'] = 'display_data';\n",
              "          await google.colab.output.renderOutput(dataTable, element);\n",
              "          const docLink = document.createElement('div');\n",
              "          docLink.innerHTML = docLinkHtml;\n",
              "          element.appendChild(docLink);\n",
              "        }\n",
              "      </script>\n",
              "    </div>\n",
              "  </div>\n",
              "  "
            ]
          },
          "metadata": {},
          "execution_count": 6
        }
      ]
    },
    {
      "cell_type": "code",
      "source": [
        "# 이미지 데이터를 로드하기 위한 ImageDataGenerator 객체 생성\n",
        "datagen = ImageDataGenerator(\n",
        "    rotation_range=30,\n",
        "    shear_range=0.1,\n",
        "    zoom_range=0.3,\n",
        "    horizontal_flip=True,\n",
        "    vertical_flip = True,\n",
        "    width_shift_range=0.2,\n",
        "    height_shift_range=0.2\n",
        "\n",
        ")\n",
        "\n",
        "# 이미지 데이터를 로드하고 증강 작업을 수행하는 함수\n",
        "def augment_images(dataframe,  save_directory):\n",
        "    for i in range(len(dataframe['filename'])):\n",
        "        # 이미지 파일의 클래스/레이블 추출\n",
        "        path = os.path.join(IMAGES_DIR + dataframe['filename'][i])\n",
        "        label = os.path.basename(os.path.dirname(path))\n",
        "        # label = dataframe['rel_path']\n",
        "\n",
        "        # 이미지 파일 로드\n",
        "        image = load_img(path)\n",
        "        image_array = img_to_array(image)\n",
        "\n",
        "        # 이미지 증강을 위해 배열 형태로 변환\n",
        "        image_array = image_array.reshape((1,) + image_array.shape)\n",
        "\n",
        "        # 증강된 이미지 저장 경로 생성\n",
        "        class_directory = os.path.join(save_directory, label)\n",
        "        os.makedirs(class_directory, exist_ok=True)\n",
        "\n",
        "        # 이미지 증강 수행 및 저장\n",
        "        i = 0\n",
        "        for batch in datagen.flow(image_array, save_to_dir=class_directory, save_prefix=label, save_format='jpg'):\n",
        "            i += 1\n",
        "            if i >= 1:  # 증강할 이미지 수 지정\n",
        "                break\n",
        "\n",
        "        # 원본 이미지 저장\n",
        "        image.save(os.path.join(class_directory, os.path.basename(path)))\n",
        "\n"
      ],
      "metadata": {
        "id": "plQWDqEi9T9s"
      },
      "execution_count": null,
      "outputs": []
    },
    {
      "cell_type": "code",
      "source": [
        "# train dataset 이미지 증강 수행 및 저장\n",
        "save_directory = '/content/drive/MyDrive/Colab Notebooks/input/augmentation_data/train'\n",
        "\n",
        "# 실제로는 밑에꺼 주석 풀고 돌려야 함.\n",
        "# augment_images(df_train, save_directory)"
      ],
      "metadata": {
        "id": "pqmRHsNh510M"
      },
      "execution_count": null,
      "outputs": []
    },
    {
      "cell_type": "code",
      "source": [
        "'''\n",
        "# Creating a dictionary from 6 classes\n",
        "categories={}\n",
        "i=-1\n",
        "for dirname, _, filenames in os.walk(save_directory):\n",
        "    for filename in filenames:\n",
        "        categories[i] = dirname.split('/')[-1]\n",
        "        break\n",
        "#         print(os.path.join(dirname, filename))\n",
        "    i += 1\n",
        "print(categories)\n",
        "'''\n"
      ],
      "metadata": {
        "colab": {
          "base_uri": "https://localhost:8080/",
          "height": 72
        },
        "id": "fF6k23PIMkzt",
        "outputId": "719348e0-0ab7-49eb-dcd0-6681a7d2ab49"
      },
      "execution_count": null,
      "outputs": [
        {
          "output_type": "execute_result",
          "data": {
            "text/plain": [
              "\"\\n# Creating a dictionary from 6 classes\\ncategories={}\\ni=-1\\nfor dirname, _, filenames in os.walk(save_directory):\\n    for filename in filenames:\\n        categories[i] = dirname.split('/')[-1]\\n        break\\n#         print(os.path.join(dirname, filename))\\n    i += 1\\nprint(categories)\\n\""
            ],
            "application/vnd.google.colaboratory.intrinsic+json": {
              "type": "string"
            }
          },
          "metadata": {},
          "execution_count": 9
        }
      ]
    },
    {
      "cell_type": "code",
      "source": [
        "# Add class name prefix to filename. So for example \"/paper104.jpg\" become \"paper/paper104.jpg\"\n",
        "\n",
        "def add_class_name_prefix(df, col_name):\n",
        "    df[col_name] = df[col_name].apply(lambda x: x[:re.search(\"\\d\",x).start()] + '/' + x)\n",
        "    return df\n",
        "\n",
        "# train dataset\n",
        "\n",
        "# list conatining all the filenames in the dataset\n",
        "filenames_list = []\n",
        "# list to store the corresponding category, note that each folder of the dataset has one class of data\n",
        "categories_list = []\n",
        "\n",
        "label_map = {0: 'glass', 1: 'paper', 2: 'cardboard', 3: 'plastic', 4: 'metal', 5: 'trash'}\n",
        "\n",
        "for category in label_map:\n",
        "    filenames = os.listdir('/content/drive/MyDrive/Colab Notebooks/input/augmentation_data/train/' + label_map[category])\n",
        "    filenames_list = filenames_list  + filenames\n",
        "    categories_list = categories_list + [category] * len(filenames)\n",
        "\n",
        "df_train_new = pd.DataFrame({\n",
        "    'filename': filenames_list,\n",
        "    'category': categories_list\n",
        "})\n",
        "\n",
        "'''\n",
        "for category in categories:\n",
        "    filenames = os.listdir('/content/drive/MyDrive/Colab_Notebooks/Data_driven_AI/input/augmentation_data/train/' + categories[category])\n",
        "    filenames_list = filenames_list  + filenames\n",
        "    categories_list = categories_list + [category] * len(filenames)\n",
        "\n",
        "df_train_new = pd.DataFrame({\n",
        "    'filename': filenames_list,\n",
        "    'category': categories_list\n",
        "})\n",
        "'''\n",
        "df_train_new = add_class_name_prefix(df_train_new, 'filename')"
      ],
      "metadata": {
        "id": "V7f-ju3nDV2J"
      },
      "execution_count": null,
      "outputs": []
    },
    {
      "cell_type": "code",
      "source": [
        "df_train_new"
      ],
      "metadata": {
        "colab": {
          "base_uri": "https://localhost:8080/",
          "height": 423
        },
        "id": "NcTZS7IJfme0",
        "outputId": "6bc2a6bc-960c-4c36-a4d2-6cfd258513ed"
      },
      "execution_count": null,
      "outputs": [
        {
          "output_type": "execute_result",
          "data": {
            "text/plain": [
              "                     filename  category\n",
              "0     glass_/glass_0_8538.jpg         0\n",
              "1          glass/glass189.jpg         0\n",
              "2     glass_/glass_0_5104.jpg         0\n",
              "3          glass/glass325.jpg         0\n",
              "4       glass_/glass_0_50.jpg         0\n",
              "...                       ...       ...\n",
              "3499        trash/trash58.jpg         5\n",
              "3500  trash_/trash_0_9522.jpg         5\n",
              "3501        trash/trash74.jpg         5\n",
              "3502  trash_/trash_0_3349.jpg         5\n",
              "3503        trash/trash69.jpg         5\n",
              "\n",
              "[3504 rows x 2 columns]"
            ],
            "text/html": [
              "\n",
              "  <div id=\"df-9e4033bb-8c00-4c67-b377-a0e6ea52b9fa\">\n",
              "    <div class=\"colab-df-container\">\n",
              "      <div>\n",
              "<style scoped>\n",
              "    .dataframe tbody tr th:only-of-type {\n",
              "        vertical-align: middle;\n",
              "    }\n",
              "\n",
              "    .dataframe tbody tr th {\n",
              "        vertical-align: top;\n",
              "    }\n",
              "\n",
              "    .dataframe thead th {\n",
              "        text-align: right;\n",
              "    }\n",
              "</style>\n",
              "<table border=\"1\" class=\"dataframe\">\n",
              "  <thead>\n",
              "    <tr style=\"text-align: right;\">\n",
              "      <th></th>\n",
              "      <th>filename</th>\n",
              "      <th>category</th>\n",
              "    </tr>\n",
              "  </thead>\n",
              "  <tbody>\n",
              "    <tr>\n",
              "      <th>0</th>\n",
              "      <td>glass_/glass_0_8538.jpg</td>\n",
              "      <td>0</td>\n",
              "    </tr>\n",
              "    <tr>\n",
              "      <th>1</th>\n",
              "      <td>glass/glass189.jpg</td>\n",
              "      <td>0</td>\n",
              "    </tr>\n",
              "    <tr>\n",
              "      <th>2</th>\n",
              "      <td>glass_/glass_0_5104.jpg</td>\n",
              "      <td>0</td>\n",
              "    </tr>\n",
              "    <tr>\n",
              "      <th>3</th>\n",
              "      <td>glass/glass325.jpg</td>\n",
              "      <td>0</td>\n",
              "    </tr>\n",
              "    <tr>\n",
              "      <th>4</th>\n",
              "      <td>glass_/glass_0_50.jpg</td>\n",
              "      <td>0</td>\n",
              "    </tr>\n",
              "    <tr>\n",
              "      <th>...</th>\n",
              "      <td>...</td>\n",
              "      <td>...</td>\n",
              "    </tr>\n",
              "    <tr>\n",
              "      <th>3499</th>\n",
              "      <td>trash/trash58.jpg</td>\n",
              "      <td>5</td>\n",
              "    </tr>\n",
              "    <tr>\n",
              "      <th>3500</th>\n",
              "      <td>trash_/trash_0_9522.jpg</td>\n",
              "      <td>5</td>\n",
              "    </tr>\n",
              "    <tr>\n",
              "      <th>3501</th>\n",
              "      <td>trash/trash74.jpg</td>\n",
              "      <td>5</td>\n",
              "    </tr>\n",
              "    <tr>\n",
              "      <th>3502</th>\n",
              "      <td>trash_/trash_0_3349.jpg</td>\n",
              "      <td>5</td>\n",
              "    </tr>\n",
              "    <tr>\n",
              "      <th>3503</th>\n",
              "      <td>trash/trash69.jpg</td>\n",
              "      <td>5</td>\n",
              "    </tr>\n",
              "  </tbody>\n",
              "</table>\n",
              "<p>3504 rows × 2 columns</p>\n",
              "</div>\n",
              "      <button class=\"colab-df-convert\" onclick=\"convertToInteractive('df-9e4033bb-8c00-4c67-b377-a0e6ea52b9fa')\"\n",
              "              title=\"Convert this dataframe to an interactive table.\"\n",
              "              style=\"display:none;\">\n",
              "        \n",
              "  <svg xmlns=\"http://www.w3.org/2000/svg\" height=\"24px\"viewBox=\"0 0 24 24\"\n",
              "       width=\"24px\">\n",
              "    <path d=\"M0 0h24v24H0V0z\" fill=\"none\"/>\n",
              "    <path d=\"M18.56 5.44l.94 2.06.94-2.06 2.06-.94-2.06-.94-.94-2.06-.94 2.06-2.06.94zm-11 1L8.5 8.5l.94-2.06 2.06-.94-2.06-.94L8.5 2.5l-.94 2.06-2.06.94zm10 10l.94 2.06.94-2.06 2.06-.94-2.06-.94-.94-2.06-.94 2.06-2.06.94z\"/><path d=\"M17.41 7.96l-1.37-1.37c-.4-.4-.92-.59-1.43-.59-.52 0-1.04.2-1.43.59L10.3 9.45l-7.72 7.72c-.78.78-.78 2.05 0 2.83L4 21.41c.39.39.9.59 1.41.59.51 0 1.02-.2 1.41-.59l7.78-7.78 2.81-2.81c.8-.78.8-2.07 0-2.86zM5.41 20L4 18.59l7.72-7.72 1.47 1.35L5.41 20z\"/>\n",
              "  </svg>\n",
              "      </button>\n",
              "      \n",
              "  <style>\n",
              "    .colab-df-container {\n",
              "      display:flex;\n",
              "      flex-wrap:wrap;\n",
              "      gap: 12px;\n",
              "    }\n",
              "\n",
              "    .colab-df-convert {\n",
              "      background-color: #E8F0FE;\n",
              "      border: none;\n",
              "      border-radius: 50%;\n",
              "      cursor: pointer;\n",
              "      display: none;\n",
              "      fill: #1967D2;\n",
              "      height: 32px;\n",
              "      padding: 0 0 0 0;\n",
              "      width: 32px;\n",
              "    }\n",
              "\n",
              "    .colab-df-convert:hover {\n",
              "      background-color: #E2EBFA;\n",
              "      box-shadow: 0px 1px 2px rgba(60, 64, 67, 0.3), 0px 1px 3px 1px rgba(60, 64, 67, 0.15);\n",
              "      fill: #174EA6;\n",
              "    }\n",
              "\n",
              "    [theme=dark] .colab-df-convert {\n",
              "      background-color: #3B4455;\n",
              "      fill: #D2E3FC;\n",
              "    }\n",
              "\n",
              "    [theme=dark] .colab-df-convert:hover {\n",
              "      background-color: #434B5C;\n",
              "      box-shadow: 0px 1px 3px 1px rgba(0, 0, 0, 0.15);\n",
              "      filter: drop-shadow(0px 1px 2px rgba(0, 0, 0, 0.3));\n",
              "      fill: #FFFFFF;\n",
              "    }\n",
              "  </style>\n",
              "\n",
              "      <script>\n",
              "        const buttonEl =\n",
              "          document.querySelector('#df-9e4033bb-8c00-4c67-b377-a0e6ea52b9fa button.colab-df-convert');\n",
              "        buttonEl.style.display =\n",
              "          google.colab.kernel.accessAllowed ? 'block' : 'none';\n",
              "\n",
              "        async function convertToInteractive(key) {\n",
              "          const element = document.querySelector('#df-9e4033bb-8c00-4c67-b377-a0e6ea52b9fa');\n",
              "          const dataTable =\n",
              "            await google.colab.kernel.invokeFunction('convertToInteractive',\n",
              "                                                     [key], {});\n",
              "          if (!dataTable) return;\n",
              "\n",
              "          const docLinkHtml = 'Like what you see? Visit the ' +\n",
              "            '<a target=\"_blank\" href=https://colab.research.google.com/notebooks/data_table.ipynb>data table notebook</a>'\n",
              "            + ' to learn more about interactive tables.';\n",
              "          element.innerHTML = '';\n",
              "          dataTable['output_type'] = 'display_data';\n",
              "          await google.colab.output.renderOutput(dataTable, element);\n",
              "          const docLink = document.createElement('div');\n",
              "          docLink.innerHTML = docLinkHtml;\n",
              "          element.appendChild(docLink);\n",
              "        }\n",
              "      </script>\n",
              "    </div>\n",
              "  </div>\n",
              "  "
            ]
          },
          "metadata": {},
          "execution_count": 11
        }
      ]
    },
    {
      "cell_type": "code",
      "source": [
        "def remove_underscore_before_slash(string):\n",
        "    return string.replace('_/', '/')\n",
        "\n",
        "df_train_new_list = []\n",
        "for i in range(len(df_train_new['filename'])):\n",
        "  if '_' in df_train_new['filename'][i]:\n",
        "    df_train_new_list.append(remove_underscore_before_slash(df_train_new['filename'][i]))\n",
        "\n",
        "  else:\n",
        "    df_train_new_list.append(df_train_new['filename'][i])\n",
        "\n",
        "df_train_new['filename'] = df_train_new_list"
      ],
      "metadata": {
        "id": "wU-_KNbDfwWC"
      },
      "execution_count": null,
      "outputs": []
    },
    {
      "cell_type": "code",
      "source": [
        "df_train_new"
      ],
      "metadata": {
        "colab": {
          "base_uri": "https://localhost:8080/",
          "height": 423
        },
        "id": "F9zfQU3p42p1",
        "outputId": "fe0c6569-cf66-404d-c3ad-c491e9d5fc59"
      },
      "execution_count": null,
      "outputs": [
        {
          "output_type": "execute_result",
          "data": {
            "text/plain": [
              "                    filename  category\n",
              "0     glass/glass_0_8538.jpg         0\n",
              "1         glass/glass189.jpg         0\n",
              "2     glass/glass_0_5104.jpg         0\n",
              "3         glass/glass325.jpg         0\n",
              "4       glass/glass_0_50.jpg         0\n",
              "...                      ...       ...\n",
              "3499       trash/trash58.jpg         5\n",
              "3500  trash/trash_0_9522.jpg         5\n",
              "3501       trash/trash74.jpg         5\n",
              "3502  trash/trash_0_3349.jpg         5\n",
              "3503       trash/trash69.jpg         5\n",
              "\n",
              "[3504 rows x 2 columns]"
            ],
            "text/html": [
              "\n",
              "  <div id=\"df-d065e4c5-348b-43a2-87e1-d7a2d229c25c\">\n",
              "    <div class=\"colab-df-container\">\n",
              "      <div>\n",
              "<style scoped>\n",
              "    .dataframe tbody tr th:only-of-type {\n",
              "        vertical-align: middle;\n",
              "    }\n",
              "\n",
              "    .dataframe tbody tr th {\n",
              "        vertical-align: top;\n",
              "    }\n",
              "\n",
              "    .dataframe thead th {\n",
              "        text-align: right;\n",
              "    }\n",
              "</style>\n",
              "<table border=\"1\" class=\"dataframe\">\n",
              "  <thead>\n",
              "    <tr style=\"text-align: right;\">\n",
              "      <th></th>\n",
              "      <th>filename</th>\n",
              "      <th>category</th>\n",
              "    </tr>\n",
              "  </thead>\n",
              "  <tbody>\n",
              "    <tr>\n",
              "      <th>0</th>\n",
              "      <td>glass/glass_0_8538.jpg</td>\n",
              "      <td>0</td>\n",
              "    </tr>\n",
              "    <tr>\n",
              "      <th>1</th>\n",
              "      <td>glass/glass189.jpg</td>\n",
              "      <td>0</td>\n",
              "    </tr>\n",
              "    <tr>\n",
              "      <th>2</th>\n",
              "      <td>glass/glass_0_5104.jpg</td>\n",
              "      <td>0</td>\n",
              "    </tr>\n",
              "    <tr>\n",
              "      <th>3</th>\n",
              "      <td>glass/glass325.jpg</td>\n",
              "      <td>0</td>\n",
              "    </tr>\n",
              "    <tr>\n",
              "      <th>4</th>\n",
              "      <td>glass/glass_0_50.jpg</td>\n",
              "      <td>0</td>\n",
              "    </tr>\n",
              "    <tr>\n",
              "      <th>...</th>\n",
              "      <td>...</td>\n",
              "      <td>...</td>\n",
              "    </tr>\n",
              "    <tr>\n",
              "      <th>3499</th>\n",
              "      <td>trash/trash58.jpg</td>\n",
              "      <td>5</td>\n",
              "    </tr>\n",
              "    <tr>\n",
              "      <th>3500</th>\n",
              "      <td>trash/trash_0_9522.jpg</td>\n",
              "      <td>5</td>\n",
              "    </tr>\n",
              "    <tr>\n",
              "      <th>3501</th>\n",
              "      <td>trash/trash74.jpg</td>\n",
              "      <td>5</td>\n",
              "    </tr>\n",
              "    <tr>\n",
              "      <th>3502</th>\n",
              "      <td>trash/trash_0_3349.jpg</td>\n",
              "      <td>5</td>\n",
              "    </tr>\n",
              "    <tr>\n",
              "      <th>3503</th>\n",
              "      <td>trash/trash69.jpg</td>\n",
              "      <td>5</td>\n",
              "    </tr>\n",
              "  </tbody>\n",
              "</table>\n",
              "<p>3504 rows × 2 columns</p>\n",
              "</div>\n",
              "      <button class=\"colab-df-convert\" onclick=\"convertToInteractive('df-d065e4c5-348b-43a2-87e1-d7a2d229c25c')\"\n",
              "              title=\"Convert this dataframe to an interactive table.\"\n",
              "              style=\"display:none;\">\n",
              "        \n",
              "  <svg xmlns=\"http://www.w3.org/2000/svg\" height=\"24px\"viewBox=\"0 0 24 24\"\n",
              "       width=\"24px\">\n",
              "    <path d=\"M0 0h24v24H0V0z\" fill=\"none\"/>\n",
              "    <path d=\"M18.56 5.44l.94 2.06.94-2.06 2.06-.94-2.06-.94-.94-2.06-.94 2.06-2.06.94zm-11 1L8.5 8.5l.94-2.06 2.06-.94-2.06-.94L8.5 2.5l-.94 2.06-2.06.94zm10 10l.94 2.06.94-2.06 2.06-.94-2.06-.94-.94-2.06-.94 2.06-2.06.94z\"/><path d=\"M17.41 7.96l-1.37-1.37c-.4-.4-.92-.59-1.43-.59-.52 0-1.04.2-1.43.59L10.3 9.45l-7.72 7.72c-.78.78-.78 2.05 0 2.83L4 21.41c.39.39.9.59 1.41.59.51 0 1.02-.2 1.41-.59l7.78-7.78 2.81-2.81c.8-.78.8-2.07 0-2.86zM5.41 20L4 18.59l7.72-7.72 1.47 1.35L5.41 20z\"/>\n",
              "  </svg>\n",
              "      </button>\n",
              "      \n",
              "  <style>\n",
              "    .colab-df-container {\n",
              "      display:flex;\n",
              "      flex-wrap:wrap;\n",
              "      gap: 12px;\n",
              "    }\n",
              "\n",
              "    .colab-df-convert {\n",
              "      background-color: #E8F0FE;\n",
              "      border: none;\n",
              "      border-radius: 50%;\n",
              "      cursor: pointer;\n",
              "      display: none;\n",
              "      fill: #1967D2;\n",
              "      height: 32px;\n",
              "      padding: 0 0 0 0;\n",
              "      width: 32px;\n",
              "    }\n",
              "\n",
              "    .colab-df-convert:hover {\n",
              "      background-color: #E2EBFA;\n",
              "      box-shadow: 0px 1px 2px rgba(60, 64, 67, 0.3), 0px 1px 3px 1px rgba(60, 64, 67, 0.15);\n",
              "      fill: #174EA6;\n",
              "    }\n",
              "\n",
              "    [theme=dark] .colab-df-convert {\n",
              "      background-color: #3B4455;\n",
              "      fill: #D2E3FC;\n",
              "    }\n",
              "\n",
              "    [theme=dark] .colab-df-convert:hover {\n",
              "      background-color: #434B5C;\n",
              "      box-shadow: 0px 1px 3px 1px rgba(0, 0, 0, 0.15);\n",
              "      filter: drop-shadow(0px 1px 2px rgba(0, 0, 0, 0.3));\n",
              "      fill: #FFFFFF;\n",
              "    }\n",
              "  </style>\n",
              "\n",
              "      <script>\n",
              "        const buttonEl =\n",
              "          document.querySelector('#df-d065e4c5-348b-43a2-87e1-d7a2d229c25c button.colab-df-convert');\n",
              "        buttonEl.style.display =\n",
              "          google.colab.kernel.accessAllowed ? 'block' : 'none';\n",
              "\n",
              "        async function convertToInteractive(key) {\n",
              "          const element = document.querySelector('#df-d065e4c5-348b-43a2-87e1-d7a2d229c25c');\n",
              "          const dataTable =\n",
              "            await google.colab.kernel.invokeFunction('convertToInteractive',\n",
              "                                                     [key], {});\n",
              "          if (!dataTable) return;\n",
              "\n",
              "          const docLinkHtml = 'Like what you see? Visit the ' +\n",
              "            '<a target=\"_blank\" href=https://colab.research.google.com/notebooks/data_table.ipynb>data table notebook</a>'\n",
              "            + ' to learn more about interactive tables.';\n",
              "          element.innerHTML = '';\n",
              "          dataTable['output_type'] = 'display_data';\n",
              "          await google.colab.output.renderOutput(dataTable, element);\n",
              "          const docLink = document.createElement('div');\n",
              "          docLink.innerHTML = docLinkHtml;\n",
              "          element.appendChild(docLink);\n",
              "        }\n",
              "      </script>\n",
              "    </div>\n",
              "  </div>\n",
              "  "
            ]
          },
          "metadata": {},
          "execution_count": 13
        }
      ]
    },
    {
      "cell_type": "code",
      "source": [
        "'''\n",
        "# valid dataset\n",
        "\n",
        "# list conatining all the filenames in the dataset\n",
        "filenames_list = []\n",
        "# list to store the corresponding category, note that each folder of the dataset has one class of data\n",
        "categories_list = []\n",
        "\n",
        "for category in categories:\n",
        "    filenames = os.listdir(IMAGES_DIR + categories[category])\n",
        "    filenames_list = filenames_list  + filenames\n",
        "    categories_list = categories_list + [category] * len(filenames)\n",
        "\n",
        "df_valid_new = pd.DataFrame({\n",
        "    'filename': filenames_list,\n",
        "    'category': categories_list\n",
        "})\n",
        "\n",
        "df_valid_new = add_class_name_prefix(df_valid_new, 'filename')\n",
        "'''"
      ],
      "metadata": {
        "id": "LW1DjTywQT5U",
        "colab": {
          "base_uri": "https://localhost:8080/",
          "height": 126
        },
        "outputId": "ab830e1a-64e4-408e-9449-3a37aa494d16"
      },
      "execution_count": null,
      "outputs": [
        {
          "output_type": "execute_result",
          "data": {
            "text/plain": [
              "\"\\n# valid dataset\\n\\n# list conatining all the filenames in the dataset\\nfilenames_list = []\\n# list to store the corresponding category, note that each folder of the dataset has one class of data\\ncategories_list = []\\n\\nfor category in categories:\\n    filenames = os.listdir(IMAGES_DIR + categories[category])\\n    filenames_list = filenames_list  + filenames\\n    categories_list = categories_list + [category] * len(filenames)\\n    \\ndf_valid_new = pd.DataFrame({\\n    'filename': filenames_list,\\n    'category': categories_list\\n})\\n\\ndf_valid_new = add_class_name_prefix(df_valid_new, 'filename')\\n\""
            ],
            "application/vnd.google.colaboratory.intrinsic+json": {
              "type": "string"
            }
          },
          "metadata": {},
          "execution_count": 14
        }
      ]
    },
    {
      "cell_type": "code",
      "source": [
        "'''\n",
        "df_valid_new_list = []\n",
        "for i in range(len(df_valid_new['filename'])):\n",
        "  if '_' in df_valid_new['filename'][i]:\n",
        "    df_valid_new_list.append(remove_underscore_before_slash(df_valid_new['filename'][i]))\n",
        "\n",
        "  else:\n",
        "    df_valid_new_list.append(df_valid_new['filename'][i])\n",
        "\n",
        "df_valid_new['filename'] = df_valid_new_list\n",
        "'''"
      ],
      "metadata": {
        "id": "h_Fbht35lR7x",
        "colab": {
          "base_uri": "https://localhost:8080/",
          "height": 72
        },
        "outputId": "a22aa61b-1c95-403e-b081-bbd0705010ce"
      },
      "execution_count": null,
      "outputs": [
        {
          "output_type": "execute_result",
          "data": {
            "text/plain": [
              "\"\\ndf_valid_new_list = []\\nfor i in range(len(df_valid_new['filename'])):\\n  if '_' in df_valid_new['filename'][i]:\\n    df_valid_new_list.append(remove_underscore_before_slash(df_valid_new['filename'][i]))\\n    \\n  else: \\n    df_valid_new_list.append(df_valid_new['filename'][i])\\n\\ndf_valid_new['filename'] = df_valid_new_list\\n\""
            ],
            "application/vnd.google.colaboratory.intrinsic+json": {
              "type": "string"
            }
          },
          "metadata": {},
          "execution_count": 15
        }
      ]
    },
    {
      "cell_type": "code",
      "source": [
        "'''\n",
        "# test dataset\n",
        "\n",
        "# list conatining all the filenames in the dataset\n",
        "filenames_list = []\n",
        "# list to store the corresponding category, note that each folder of the dataset has one class of data\n",
        "categories_list = []\n",
        "\n",
        "for category in categories:\n",
        "    filenames = os.listdir('/content/drive/MyDrive/Colab_Notebooks/Data_driven_AI/input/augmentation_data/test/' + categories[category])\n",
        "    filenames_list = filenames_list  + filenames\n",
        "    categories_list = categories_list + [category] * len(filenames)\n",
        "\n",
        "df_test_new = pd.DataFrame({\n",
        "    'filename': filenames_list,\n",
        "    'category': categories_list\n",
        "})\n",
        "\n",
        "df_test_new = add_class_name_prefix(df_test_new, 'filename')\n",
        "'''"
      ],
      "metadata": {
        "id": "3-ZKC4l0QGQf",
        "colab": {
          "base_uri": "https://localhost:8080/",
          "height": 126
        },
        "outputId": "a0e1944f-ebcb-47dc-b7d4-e4252cc4b384"
      },
      "execution_count": null,
      "outputs": [
        {
          "output_type": "execute_result",
          "data": {
            "text/plain": [
              "\"\\n# test dataset\\n\\n# list conatining all the filenames in the dataset\\nfilenames_list = []\\n# list to store the corresponding category, note that each folder of the dataset has one class of data\\ncategories_list = []\\n\\nfor category in categories:\\n    filenames = os.listdir('/content/drive/MyDrive/Colab_Notebooks/Data_driven_AI/input/augmentation_data/test/' + categories[category])\\n    filenames_list = filenames_list  + filenames\\n    categories_list = categories_list + [category] * len(filenames)\\n    \\ndf_test_new = pd.DataFrame({\\n    'filename': filenames_list,\\n    'category': categories_list\\n})\\n\\ndf_test_new = add_class_name_prefix(df_test_new, 'filename')\\n\""
            ],
            "application/vnd.google.colaboratory.intrinsic+json": {
              "type": "string"
            }
          },
          "metadata": {},
          "execution_count": 16
        }
      ]
    },
    {
      "cell_type": "code",
      "source": [
        "'''\n",
        "df_test_new_list = []\n",
        "for i in range(len(df_test_new['filename'])):\n",
        "  if '_' in df_test_new['filename'][i]:\n",
        "    df_test_new_list.append(remove_underscore_before_slash(df_test_new['filename'][i]))\n",
        "\n",
        "  else:\n",
        "    df_test_new_list.append(df_test_new['filename'][i])\n",
        "\n",
        "df_test_new['filename'] = df_test_new_list\n",
        "'''"
      ],
      "metadata": {
        "id": "5pr3B6i8lqcF",
        "colab": {
          "base_uri": "https://localhost:8080/",
          "height": 72
        },
        "outputId": "9e603cd4-b51f-4621-b470-170e3059be00"
      },
      "execution_count": null,
      "outputs": [
        {
          "output_type": "execute_result",
          "data": {
            "text/plain": [
              "\"\\ndf_test_new_list = []\\nfor i in range(len(df_test_new['filename'])):\\n  if '_' in df_test_new['filename'][i]:\\n    df_test_new_list.append(remove_underscore_before_slash(df_test_new['filename'][i]))\\n    \\n  else: \\n    df_test_new_list.append(df_test_new['filename'][i])\\n\\ndf_test_new['filename'] = df_test_new_list\\n\""
            ],
            "application/vnd.google.colaboratory.intrinsic+json": {
              "type": "string"
            }
          },
          "metadata": {},
          "execution_count": 17
        }
      ]
    },
    {
      "cell_type": "code",
      "source": [
        "print(f'Found {len(df_train_new)} train, {len(df_valid)} validation and {len(df_test)} test.')"
      ],
      "metadata": {
        "colab": {
          "base_uri": "https://localhost:8080/"
        },
        "id": "r7UK1tNLRj1V",
        "outputId": "8fe71b60-39b5-402f-8afc-8012a445913f"
      },
      "execution_count": null,
      "outputs": [
        {
          "output_type": "stream",
          "name": "stdout",
          "text": [
            "Found 3504 train, 328 validation and 431 test.\n"
          ]
        }
      ]
    },
    {
      "cell_type": "code",
      "source": [
        "import pandas as pd\n",
        "df_test.sort_values('category')"
      ],
      "metadata": {
        "colab": {
          "base_uri": "https://localhost:8080/",
          "height": 423
        },
        "id": "JzWLB3p2q0pe",
        "outputId": "4d057863-4456-4c33-99a6-7dc3e051f518"
      },
      "execution_count": null,
      "outputs": [
        {
          "output_type": "execute_result",
          "data": {
            "text/plain": [
              "               filename  category category_str\n",
              "314  glass/glass148.jpg         0        glass\n",
              "280  glass/glass139.jpg         0        glass\n",
              "137  glass/glass297.jpg         0        glass\n",
              "288  glass/glass426.jpg         0        glass\n",
              "133   glass/glass59.jpg         0        glass\n",
              "..                  ...       ...          ...\n",
              "366  trash/trash109.jpg         5        trash\n",
              "55    trash/trash29.jpg         5        trash\n",
              "42    trash/trash46.jpg         5        trash\n",
              "309   trash/trash93.jpg         5        trash\n",
              "430  trash/trash132.jpg         5        trash\n",
              "\n",
              "[431 rows x 3 columns]"
            ],
            "text/html": [
              "\n",
              "  <div id=\"df-13ff2c95-cc61-4b99-9b61-b03511d9c72e\">\n",
              "    <div class=\"colab-df-container\">\n",
              "      <div>\n",
              "<style scoped>\n",
              "    .dataframe tbody tr th:only-of-type {\n",
              "        vertical-align: middle;\n",
              "    }\n",
              "\n",
              "    .dataframe tbody tr th {\n",
              "        vertical-align: top;\n",
              "    }\n",
              "\n",
              "    .dataframe thead th {\n",
              "        text-align: right;\n",
              "    }\n",
              "</style>\n",
              "<table border=\"1\" class=\"dataframe\">\n",
              "  <thead>\n",
              "    <tr style=\"text-align: right;\">\n",
              "      <th></th>\n",
              "      <th>filename</th>\n",
              "      <th>category</th>\n",
              "      <th>category_str</th>\n",
              "    </tr>\n",
              "  </thead>\n",
              "  <tbody>\n",
              "    <tr>\n",
              "      <th>314</th>\n",
              "      <td>glass/glass148.jpg</td>\n",
              "      <td>0</td>\n",
              "      <td>glass</td>\n",
              "    </tr>\n",
              "    <tr>\n",
              "      <th>280</th>\n",
              "      <td>glass/glass139.jpg</td>\n",
              "      <td>0</td>\n",
              "      <td>glass</td>\n",
              "    </tr>\n",
              "    <tr>\n",
              "      <th>137</th>\n",
              "      <td>glass/glass297.jpg</td>\n",
              "      <td>0</td>\n",
              "      <td>glass</td>\n",
              "    </tr>\n",
              "    <tr>\n",
              "      <th>288</th>\n",
              "      <td>glass/glass426.jpg</td>\n",
              "      <td>0</td>\n",
              "      <td>glass</td>\n",
              "    </tr>\n",
              "    <tr>\n",
              "      <th>133</th>\n",
              "      <td>glass/glass59.jpg</td>\n",
              "      <td>0</td>\n",
              "      <td>glass</td>\n",
              "    </tr>\n",
              "    <tr>\n",
              "      <th>...</th>\n",
              "      <td>...</td>\n",
              "      <td>...</td>\n",
              "      <td>...</td>\n",
              "    </tr>\n",
              "    <tr>\n",
              "      <th>366</th>\n",
              "      <td>trash/trash109.jpg</td>\n",
              "      <td>5</td>\n",
              "      <td>trash</td>\n",
              "    </tr>\n",
              "    <tr>\n",
              "      <th>55</th>\n",
              "      <td>trash/trash29.jpg</td>\n",
              "      <td>5</td>\n",
              "      <td>trash</td>\n",
              "    </tr>\n",
              "    <tr>\n",
              "      <th>42</th>\n",
              "      <td>trash/trash46.jpg</td>\n",
              "      <td>5</td>\n",
              "      <td>trash</td>\n",
              "    </tr>\n",
              "    <tr>\n",
              "      <th>309</th>\n",
              "      <td>trash/trash93.jpg</td>\n",
              "      <td>5</td>\n",
              "      <td>trash</td>\n",
              "    </tr>\n",
              "    <tr>\n",
              "      <th>430</th>\n",
              "      <td>trash/trash132.jpg</td>\n",
              "      <td>5</td>\n",
              "      <td>trash</td>\n",
              "    </tr>\n",
              "  </tbody>\n",
              "</table>\n",
              "<p>431 rows × 3 columns</p>\n",
              "</div>\n",
              "      <button class=\"colab-df-convert\" onclick=\"convertToInteractive('df-13ff2c95-cc61-4b99-9b61-b03511d9c72e')\"\n",
              "              title=\"Convert this dataframe to an interactive table.\"\n",
              "              style=\"display:none;\">\n",
              "        \n",
              "  <svg xmlns=\"http://www.w3.org/2000/svg\" height=\"24px\"viewBox=\"0 0 24 24\"\n",
              "       width=\"24px\">\n",
              "    <path d=\"M0 0h24v24H0V0z\" fill=\"none\"/>\n",
              "    <path d=\"M18.56 5.44l.94 2.06.94-2.06 2.06-.94-2.06-.94-.94-2.06-.94 2.06-2.06.94zm-11 1L8.5 8.5l.94-2.06 2.06-.94-2.06-.94L8.5 2.5l-.94 2.06-2.06.94zm10 10l.94 2.06.94-2.06 2.06-.94-2.06-.94-.94-2.06-.94 2.06-2.06.94z\"/><path d=\"M17.41 7.96l-1.37-1.37c-.4-.4-.92-.59-1.43-.59-.52 0-1.04.2-1.43.59L10.3 9.45l-7.72 7.72c-.78.78-.78 2.05 0 2.83L4 21.41c.39.39.9.59 1.41.59.51 0 1.02-.2 1.41-.59l7.78-7.78 2.81-2.81c.8-.78.8-2.07 0-2.86zM5.41 20L4 18.59l7.72-7.72 1.47 1.35L5.41 20z\"/>\n",
              "  </svg>\n",
              "      </button>\n",
              "      \n",
              "  <style>\n",
              "    .colab-df-container {\n",
              "      display:flex;\n",
              "      flex-wrap:wrap;\n",
              "      gap: 12px;\n",
              "    }\n",
              "\n",
              "    .colab-df-convert {\n",
              "      background-color: #E8F0FE;\n",
              "      border: none;\n",
              "      border-radius: 50%;\n",
              "      cursor: pointer;\n",
              "      display: none;\n",
              "      fill: #1967D2;\n",
              "      height: 32px;\n",
              "      padding: 0 0 0 0;\n",
              "      width: 32px;\n",
              "    }\n",
              "\n",
              "    .colab-df-convert:hover {\n",
              "      background-color: #E2EBFA;\n",
              "      box-shadow: 0px 1px 2px rgba(60, 64, 67, 0.3), 0px 1px 3px 1px rgba(60, 64, 67, 0.15);\n",
              "      fill: #174EA6;\n",
              "    }\n",
              "\n",
              "    [theme=dark] .colab-df-convert {\n",
              "      background-color: #3B4455;\n",
              "      fill: #D2E3FC;\n",
              "    }\n",
              "\n",
              "    [theme=dark] .colab-df-convert:hover {\n",
              "      background-color: #434B5C;\n",
              "      box-shadow: 0px 1px 3px 1px rgba(0, 0, 0, 0.15);\n",
              "      filter: drop-shadow(0px 1px 2px rgba(0, 0, 0, 0.3));\n",
              "      fill: #FFFFFF;\n",
              "    }\n",
              "  </style>\n",
              "\n",
              "      <script>\n",
              "        const buttonEl =\n",
              "          document.querySelector('#df-13ff2c95-cc61-4b99-9b61-b03511d9c72e button.colab-df-convert');\n",
              "        buttonEl.style.display =\n",
              "          google.colab.kernel.accessAllowed ? 'block' : 'none';\n",
              "\n",
              "        async function convertToInteractive(key) {\n",
              "          const element = document.querySelector('#df-13ff2c95-cc61-4b99-9b61-b03511d9c72e');\n",
              "          const dataTable =\n",
              "            await google.colab.kernel.invokeFunction('convertToInteractive',\n",
              "                                                     [key], {});\n",
              "          if (!dataTable) return;\n",
              "\n",
              "          const docLinkHtml = 'Like what you see? Visit the ' +\n",
              "            '<a target=\"_blank\" href=https://colab.research.google.com/notebooks/data_table.ipynb>data table notebook</a>'\n",
              "            + ' to learn more about interactive tables.';\n",
              "          element.innerHTML = '';\n",
              "          dataTable['output_type'] = 'display_data';\n",
              "          await google.colab.output.renderOutput(dataTable, element);\n",
              "          const docLink = document.createElement('div');\n",
              "          docLink.innerHTML = docLinkHtml;\n",
              "          element.appendChild(docLink);\n",
              "        }\n",
              "      </script>\n",
              "    </div>\n",
              "  </div>\n",
              "  "
            ]
          },
          "metadata": {},
          "execution_count": 19
        }
      ]
    },
    {
      "cell_type": "code",
      "source": [
        "# 데이터셋 순서 섞기\n",
        "\n",
        "def df_suffled(df):\n",
        "  return(df.sample(frac=1).reset_index(drop=True))\n",
        "\n",
        "df_train_new = df_suffled(df_train_new)\n",
        "df_valid = df_suffled(df_valid)\n",
        "df_test = df_suffled(df_test)"
      ],
      "metadata": {
        "id": "P8td3t6-yGf8"
      },
      "execution_count": null,
      "outputs": []
    },
    {
      "cell_type": "code",
      "source": [
        "df_train_new = df_train_new[0:2200]\n",
        "df_train_new"
      ],
      "metadata": {
        "colab": {
          "base_uri": "https://localhost:8080/",
          "height": 423
        },
        "id": "w0sWFpXryylZ",
        "outputId": "f7cd2b7c-f751-4de3-d216-0112c8cc5895"
      },
      "execution_count": null,
      "outputs": [
        {
          "output_type": "execute_result",
          "data": {
            "text/plain": [
              "                           filename  category\n",
              "0                glass/glass198.jpg         0\n",
              "1                glass/glass186.jpg         0\n",
              "2                 trash/trash30.jpg         5\n",
              "3        cardboard/cardboard378.jpg         2\n",
              "4                glass/glass124.jpg         0\n",
              "...                             ...       ...\n",
              "2195             glass/glass141.jpg         0\n",
              "2196  cardboard/cardboard_0_674.jpg         2\n",
              "2197     cardboard/cardboard243.jpg         2\n",
              "2198          metal/metal_0_603.jpg         4\n",
              "2199         metal/metal_0_7044.jpg         4\n",
              "\n",
              "[2200 rows x 2 columns]"
            ],
            "text/html": [
              "\n",
              "  <div id=\"df-d83d9977-f74d-4851-a8eb-dcac7237159d\">\n",
              "    <div class=\"colab-df-container\">\n",
              "      <div>\n",
              "<style scoped>\n",
              "    .dataframe tbody tr th:only-of-type {\n",
              "        vertical-align: middle;\n",
              "    }\n",
              "\n",
              "    .dataframe tbody tr th {\n",
              "        vertical-align: top;\n",
              "    }\n",
              "\n",
              "    .dataframe thead th {\n",
              "        text-align: right;\n",
              "    }\n",
              "</style>\n",
              "<table border=\"1\" class=\"dataframe\">\n",
              "  <thead>\n",
              "    <tr style=\"text-align: right;\">\n",
              "      <th></th>\n",
              "      <th>filename</th>\n",
              "      <th>category</th>\n",
              "    </tr>\n",
              "  </thead>\n",
              "  <tbody>\n",
              "    <tr>\n",
              "      <th>0</th>\n",
              "      <td>glass/glass198.jpg</td>\n",
              "      <td>0</td>\n",
              "    </tr>\n",
              "    <tr>\n",
              "      <th>1</th>\n",
              "      <td>glass/glass186.jpg</td>\n",
              "      <td>0</td>\n",
              "    </tr>\n",
              "    <tr>\n",
              "      <th>2</th>\n",
              "      <td>trash/trash30.jpg</td>\n",
              "      <td>5</td>\n",
              "    </tr>\n",
              "    <tr>\n",
              "      <th>3</th>\n",
              "      <td>cardboard/cardboard378.jpg</td>\n",
              "      <td>2</td>\n",
              "    </tr>\n",
              "    <tr>\n",
              "      <th>4</th>\n",
              "      <td>glass/glass124.jpg</td>\n",
              "      <td>0</td>\n",
              "    </tr>\n",
              "    <tr>\n",
              "      <th>...</th>\n",
              "      <td>...</td>\n",
              "      <td>...</td>\n",
              "    </tr>\n",
              "    <tr>\n",
              "      <th>2195</th>\n",
              "      <td>glass/glass141.jpg</td>\n",
              "      <td>0</td>\n",
              "    </tr>\n",
              "    <tr>\n",
              "      <th>2196</th>\n",
              "      <td>cardboard/cardboard_0_674.jpg</td>\n",
              "      <td>2</td>\n",
              "    </tr>\n",
              "    <tr>\n",
              "      <th>2197</th>\n",
              "      <td>cardboard/cardboard243.jpg</td>\n",
              "      <td>2</td>\n",
              "    </tr>\n",
              "    <tr>\n",
              "      <th>2198</th>\n",
              "      <td>metal/metal_0_603.jpg</td>\n",
              "      <td>4</td>\n",
              "    </tr>\n",
              "    <tr>\n",
              "      <th>2199</th>\n",
              "      <td>metal/metal_0_7044.jpg</td>\n",
              "      <td>4</td>\n",
              "    </tr>\n",
              "  </tbody>\n",
              "</table>\n",
              "<p>2200 rows × 2 columns</p>\n",
              "</div>\n",
              "      <button class=\"colab-df-convert\" onclick=\"convertToInteractive('df-d83d9977-f74d-4851-a8eb-dcac7237159d')\"\n",
              "              title=\"Convert this dataframe to an interactive table.\"\n",
              "              style=\"display:none;\">\n",
              "        \n",
              "  <svg xmlns=\"http://www.w3.org/2000/svg\" height=\"24px\"viewBox=\"0 0 24 24\"\n",
              "       width=\"24px\">\n",
              "    <path d=\"M0 0h24v24H0V0z\" fill=\"none\"/>\n",
              "    <path d=\"M18.56 5.44l.94 2.06.94-2.06 2.06-.94-2.06-.94-.94-2.06-.94 2.06-2.06.94zm-11 1L8.5 8.5l.94-2.06 2.06-.94-2.06-.94L8.5 2.5l-.94 2.06-2.06.94zm10 10l.94 2.06.94-2.06 2.06-.94-2.06-.94-.94-2.06-.94 2.06-2.06.94z\"/><path d=\"M17.41 7.96l-1.37-1.37c-.4-.4-.92-.59-1.43-.59-.52 0-1.04.2-1.43.59L10.3 9.45l-7.72 7.72c-.78.78-.78 2.05 0 2.83L4 21.41c.39.39.9.59 1.41.59.51 0 1.02-.2 1.41-.59l7.78-7.78 2.81-2.81c.8-.78.8-2.07 0-2.86zM5.41 20L4 18.59l7.72-7.72 1.47 1.35L5.41 20z\"/>\n",
              "  </svg>\n",
              "      </button>\n",
              "      \n",
              "  <style>\n",
              "    .colab-df-container {\n",
              "      display:flex;\n",
              "      flex-wrap:wrap;\n",
              "      gap: 12px;\n",
              "    }\n",
              "\n",
              "    .colab-df-convert {\n",
              "      background-color: #E8F0FE;\n",
              "      border: none;\n",
              "      border-radius: 50%;\n",
              "      cursor: pointer;\n",
              "      display: none;\n",
              "      fill: #1967D2;\n",
              "      height: 32px;\n",
              "      padding: 0 0 0 0;\n",
              "      width: 32px;\n",
              "    }\n",
              "\n",
              "    .colab-df-convert:hover {\n",
              "      background-color: #E2EBFA;\n",
              "      box-shadow: 0px 1px 2px rgba(60, 64, 67, 0.3), 0px 1px 3px 1px rgba(60, 64, 67, 0.15);\n",
              "      fill: #174EA6;\n",
              "    }\n",
              "\n",
              "    [theme=dark] .colab-df-convert {\n",
              "      background-color: #3B4455;\n",
              "      fill: #D2E3FC;\n",
              "    }\n",
              "\n",
              "    [theme=dark] .colab-df-convert:hover {\n",
              "      background-color: #434B5C;\n",
              "      box-shadow: 0px 1px 3px 1px rgba(0, 0, 0, 0.15);\n",
              "      filter: drop-shadow(0px 1px 2px rgba(0, 0, 0, 0.3));\n",
              "      fill: #FFFFFF;\n",
              "    }\n",
              "  </style>\n",
              "\n",
              "      <script>\n",
              "        const buttonEl =\n",
              "          document.querySelector('#df-d83d9977-f74d-4851-a8eb-dcac7237159d button.colab-df-convert');\n",
              "        buttonEl.style.display =\n",
              "          google.colab.kernel.accessAllowed ? 'block' : 'none';\n",
              "\n",
              "        async function convertToInteractive(key) {\n",
              "          const element = document.querySelector('#df-d83d9977-f74d-4851-a8eb-dcac7237159d');\n",
              "          const dataTable =\n",
              "            await google.colab.kernel.invokeFunction('convertToInteractive',\n",
              "                                                     [key], {});\n",
              "          if (!dataTable) return;\n",
              "\n",
              "          const docLinkHtml = 'Like what you see? Visit the ' +\n",
              "            '<a target=\"_blank\" href=https://colab.research.google.com/notebooks/data_table.ipynb>data table notebook</a>'\n",
              "            + ' to learn more about interactive tables.';\n",
              "          element.innerHTML = '';\n",
              "          dataTable['output_type'] = 'display_data';\n",
              "          await google.colab.output.renderOutput(dataTable, element);\n",
              "          const docLink = document.createElement('div');\n",
              "          docLink.innerHTML = docLinkHtml;\n",
              "          element.appendChild(docLink);\n",
              "        }\n",
              "      </script>\n",
              "    </div>\n",
              "  </div>\n",
              "  "
            ]
          },
          "metadata": {},
          "execution_count": 21
        }
      ]
    },
    {
      "cell_type": "code",
      "source": [
        "# X dataset 생성: image를 array 형식으로 만들기\n",
        "# X_train, X_valid, X_test\n",
        "\n",
        "from tensorflow.python.ops.math_ops import Xdivy\n",
        "import numpy as np\n",
        "from PIL import Image\n",
        "\n",
        "# X_train\n",
        "X_train = []\n",
        "for i in range(len(df_train_new['filename'])):\n",
        "  path = os.path.join('/content/drive/MyDrive/Colab Notebooks/input/augmentation_data/train/' + df_train_new['filename'][i])\n",
        "  img = Image.open(path)\n",
        "  img = img.resize((224,224),Image.ANTIALIAS)\n",
        "  x = np.array(img)\n",
        "\n",
        "  X_train.append(x)\n",
        "\n",
        "img_2 = Image.fromarray(X_train[0]) # NumPy array to PIL image\n",
        "img_2.show()"
      ],
      "metadata": {
        "colab": {
          "base_uri": "https://localhost:8080/",
          "height": 241
        },
        "id": "WcCFzBRuFSYh",
        "outputId": "0a383ddb-2b3e-4cef-f49d-d7e88990d3ba"
      },
      "execution_count": null,
      "outputs": [
        {
          "output_type": "display_data",
          "data": {
            "text/plain": [
              "<PIL.Image.Image image mode=RGB size=224x224 at 0x7F9BCCF95E70>"
            ],
            "image/png": "[encoded data removed]"
          },
          "metadata": {}
        }
      ]
    },
    {
      "cell_type": "code",
      "source": [
        "# X_valid\n",
        "X_valid = []\n",
        "for i in range(len(df_valid['filename'])):\n",
        "  path = os.path.join(IMAGES_DIR + df_valid['filename'][i])\n",
        "  img = Image.open(path)\n",
        "  img = img.resize((224,224),Image.ANTIALIAS)\n",
        "  x = np.array(img)\n",
        "\n",
        "  X_valid.append(x)\n",
        "\n",
        "img_2 = Image.fromarray(X_valid[0]) # NumPy array to PIL image\n",
        "img_2.show()"
      ],
      "metadata": {
        "colab": {
          "base_uri": "https://localhost:8080/",
          "height": 241
        },
        "id": "TN6uFAuk4srY",
        "outputId": "0a27720d-f137-4989-adcf-09e9fe0154e8"
      },
      "execution_count": null,
      "outputs": [
        {
          "output_type": "display_data",
          "data": {
            "text/plain": [
              "<PIL.Image.Image image mode=RGB size=224x224 at 0x7F9BCD0122F0>"
            ],
            "image/png": "[encoded data removed]"
          },
          "metadata": {}
        }
      ]
    },
    {
      "cell_type": "code",
      "source": [
        "# X_test\n",
        "X_test = []\n",
        "for i in range(len(df_test['filename'])):\n",
        "  path = os.path.join(IMAGES_DIR + df_test['filename'][i])\n",
        "  img = Image.open(path)\n",
        "  img = img.resize((224,224),Image.ANTIALIAS)\n",
        "  x = np.array(img)\n",
        "\n",
        "  X_test.append(x)\n",
        "\n",
        "img_2 = Image.fromarray(X_test[0]) # NumPy array to PIL image\n",
        "img_2.show()"
      ],
      "metadata": {
        "colab": {
          "base_uri": "https://localhost:8080/",
          "height": 241
        },
        "id": "sqRGHNXh5PVS",
        "outputId": "d6e73cf7-2568-4661-f14b-a1be1df4037c"
      },
      "execution_count": null,
      "outputs": [
        {
          "output_type": "display_data",
          "data": {
            "text/plain": [
              "<PIL.Image.Image image mode=RGB size=224x224 at 0x7F9BCD013BB0>"
            ],
            "image/png": "[encoded data removed]"
          },
          "metadata": {}
        }
      ]
    },
    {
      "cell_type": "code",
      "source": [
        "# Y dataset 생성\n",
        "# Y_train, Y_valid, Y_test\n",
        "\n",
        "# Y_train\n",
        "Y_train = []\n",
        "for i in range(len(df_train_new['filename'])):\n",
        "  Y_train.append(df_train_new['category'][i])\n",
        "\n",
        "print(Y_train)\n",
        "print(len(Y_train))\n",
        "\n",
        "# Y_valid\n",
        "Y_valid = []\n",
        "for i in range(len(df_valid['filename'])):\n",
        "  Y_valid.append(df_valid['category'][i])\n",
        "\n",
        "print(Y_valid)\n",
        "print(len(Y_valid))\n",
        "\n",
        "# Y_test\n",
        "Y_test = []\n",
        "for i in range(len(df_test['filename'])):\n",
        "  Y_test.append(df_test['category'][i])\n",
        "\n",
        "print(Y_test)\n",
        "print(len(Y_test))\n"
      ],
      "metadata": {
        "colab": {
          "base_uri": "https://localhost:8080/"
        },
        "id": "Pyr19qlP5PX3",
        "outputId": "da94b726-be3d-4ffc-ad27-cf1ec8786ff5"
      },
      "execution_count": null,
      "outputs": [
        {
          "output_type": "stream",
          "name": "stdout",
          "text": [
            "[0, 0, 5, 2, 0, 4, 3, 1, 4, 4, 4, 3, 2, 1, 3, 0, 3, 3, 0, 1, 1, 5, 1, 2, 5, 0, 0, 1, 5, 2, 2, 2, 1, 1, 2, 1, 2, 3, 3, 0, 0, 2, 2, 1, 3, 5, 4, 0, 3, 1, 4, 4, 2, 1, 4, 3, 4, 0, 0, 4, 0, 2, 3, 4, 2, 2, 0, 2, 1, 2, 1, 5, 0, 1, 1, 4, 3, 3, 0, 0, 1, 2, 0, 0, 3, 5, 5, 1, 2, 3, 4, 0, 4, 1, 1, 0, 0, 4, 1, 1, 1, 1, 4, 0, 4, 0, 2, 1, 0, 0, 0, 5, 5, 3, 1, 1, 4, 3, 3, 5, 1, 0, 0, 0, 4, 4, 0, 0, 0, 1, 2, 3, 0, 0, 4, 2, 3, 2, 0, 1, 3, 4, 3, 3, 4, 2, 1, 0, 0, 3, 2, 0, 1, 0, 0, 1, 4, 4, 0, 3, 3, 3, 0, 4, 0, 4, 0, 2, 3, 4, 2, 3, 2, 4, 1, 4, 1, 4, 4, 3, 2, 1, 4, 3, 1, 1, 4, 0, 4, 2, 2, 2, 2, 0, 1, 2, 4, 2, 3, 2, 1, 1, 4, 1, 4, 2, 0, 4, 2, 0, 3, 1, 5, 2, 4, 4, 0, 1, 1, 5, 1, 1, 3, 3, 3, 0, 1, 2, 3, 1, 2, 2, 1, 2, 3, 0, 4, 3, 2, 0, 4, 1, 0, 5, 2, 1, 0, 1, 3, 2, 2, 4, 1, 4, 1, 3, 2, 3, 0, 2, 4, 2, 0, 3, 0, 0, 5, 5, 1, 2, 2, 1, 1, 1, 0, 3, 0, 0, 2, 5, 5, 0, 3, 1, 2, 4, 4, 1, 1, 1, 2, 4, 1, 3, 3, 1, 1, 1, 0, 0, 3, 2, 3, 1, 2, 1, 0, 4, 5, 1, 3, 1, 1, 0, 1, 0, 5, 1, 5, 1, 3, 2, 1, 0, 0, 1, 3, 5, 4, 1, 1, 0, 4, 4, 0, 1, 3, 3, 1, 4, 1, 2, 5, 3, 1, 3, 4, 4, 2, 1, 3, 4, 0, 2, 4, 2, 4, 0, 3, 0, 1, 0, 2, 0, 5, 0, 2, 1, 0, 1, 4, 0, 0, 1, 4, 1, 3, 4, 4, 5, 1, 0, 2, 1, 0, 2, 3, 4, 3, 2, 5, 1, 0, 1, 4, 4, 4, 0, 1, 2, 4, 3, 2, 1, 2, 2, 0, 4, 1, 1, 4, 3, 2, 2, 3, 1, 1, 0, 3, 1, 4, 1, 0, 1, 1, 4, 1, 2, 0, 3, 1, 0, 3, 0, 0, 3, 2, 5, 4, 2, 3, 3, 3, 3, 3, 1, 4, 1, 1, 3, 0, 4, 2, 3, 1, 4, 3, 1, 0, 3, 2, 2, 3, 1, 0, 0, 3, 1, 0, 0, 0, 4, 0, 2, 2, 4, 1, 0, 1, 1, 0, 4, 1, 3, 0, 0, 4, 5, 3, 3, 5, 4, 1, 4, 1, 4, 4, 1, 0, 2, 2, 2, 3, 3, 3, 4, 4, 3, 4, 4, 2, 1, 4, 0, 3, 5, 3, 2, 4, 4, 4, 4, 1, 2, 0, 3, 2, 1, 5, 0, 2, 3, 1, 3, 1, 3, 0, 3, 1, 0, 4, 2, 4, 5, 0, 1, 3, 2, 0, 1, 4, 2, 3, 2, 2, 1, 1, 1, 1, 0, 2, 3, 1, 0, 4, 0, 0, 5, 2, 2, 1, 5, 1, 5, 3, 3, 2, 0, 3, 3, 0, 3, 0, 0, 2, 1, 3, 5, 4, 0, 2, 0, 3, 4, 0, 0, 1, 0, 3, 0, 3, 3, 5, 1, 2, 1, 3, 1, 2, 2, 2, 0, 3, 1, 3, 3, 1, 4, 3, 1, 3, 3, 1, 4, 4, 1, 3, 2, 2, 2, 2, 2, 1, 2, 4, 2, 4, 2, 0, 4, 1, 4, 1, 4, 2, 5, 3, 4, 0, 4, 4, 2, 1, 0, 3, 4, 4, 2, 0, 4, 1, 5, 0, 3, 3, 2, 0, 0, 1, 2, 4, 2, 0, 3, 0, 4, 3, 5, 4, 4, 1, 1, 5, 4, 4, 1, 0, 1, 1, 1, 3, 0, 3, 5, 0, 3, 0, 3, 3, 3, 0, 0, 2, 0, 3, 1, 3, 4, 4, 3, 3, 5, 3, 3, 2, 2, 1, 4, 2, 2, 0, 3, 3, 3, 1, 3, 2, 1, 1, 3, 1, 3, 3, 2, 1, 0, 1, 2, 3, 4, 3, 2, 1, 3, 0, 4, 1, 4, 0, 0, 3, 3, 0, 4, 0, 1, 1, 2, 3, 3, 2, 3, 5, 0, 2, 2, 4, 1, 3, 1, 4, 4, 0, 2, 1, 3, 1, 3, 3, 2, 0, 4, 0, 4, 1, 2, 1, 0, 0, 1, 5, 4, 4, 1, 4, 3, 0, 1, 2, 2, 3, 1, 3, 1, 3, 2, 1, 4, 1, 0, 0, 1, 3, 2, 5, 0, 0, 4, 4, 4, 2, 3, 3, 0, 4, 2, 0, 2, 0, 4, 1, 2, 4, 5, 1, 0, 3, 4, 1, 0, 3, 3, 3, 3, 4, 1, 3, 2, 3, 2, 3, 1, 4, 4, 3, 2, 3, 1, 0, 2, 2, 1, 3, 5, 4, 4, 3, 2, 2, 2, 4, 3, 3, 2, 4, 0, 1, 2, 0, 1, 3, 3, 2, 4, 1, 5, 1, 3, 5, 3, 0, 5, 3, 4, 4, 3, 0, 0, 2, 4, 1, 4, 3, 2, 1, 0, 4, 3, 1, 0, 3, 1, 2, 2, 2, 1, 2, 0, 0, 0, 2, 2, 0, 3, 2, 0, 0, 4, 1, 1, 5, 4, 2, 3, 3, 4, 0, 3, 0, 1, 4, 3, 4, 1, 1, 2, 2, 5, 1, 2, 3, 1, 4, 1, 3, 1, 3, 1, 3, 4, 4, 4, 4, 0, 4, 0, 3, 4, 4, 0, 1, 0, 5, 4, 1, 4, 0, 4, 0, 3, 4, 0, 2, 4, 2, 0, 2, 1, 3, 1, 1, 0, 2, 1, 3, 4, 0, 2, 3, 0, 1, 0, 3, 0, 2, 1, 3, 3, 1, 4, 4, 4, 2, 2, 1, 1, 4, 4, 0, 3, 2, 4, 3, 2, 0, 3, 0, 0, 4, 4, 0, 5, 1, 0, 1, 3, 1, 0, 0, 1, 0, 0, 2, 2, 2, 4, 2, 3, 1, 5, 3, 1, 5, 0, 0, 4, 3, 0, 2, 3, 0, 4, 5, 3, 4, 4, 0, 3, 1, 3, 5, 1, 3, 0, 3, 3, 3, 2, 1, 0, 2, 0, 2, 4, 1, 4, 2, 0, 5, 1, 4, 0, 2, 3, 0, 1, 4, 3, 4, 3, 2, 0, 3, 5, 0, 0, 3, 0, 4, 4, 0, 3, 1, 1, 2, 0, 2, 1, 1, 2, 4, 4, 4, 2, 4, 0, 3, 2, 0, 3, 2, 3, 1, 3, 4, 1, 3, 1, 4, 2, 3, 3, 3, 3, 0, 2, 2, 5, 2, 1, 3, 2, 1, 0, 3, 1, 1, 0, 1, 0, 4, 2, 1, 4, 2, 0, 4, 0, 2, 3, 1, 4, 3, 2, 1, 3, 5, 1, 1, 4, 0, 0, 2, 2, 0, 1, 3, 3, 1, 3, 5, 1, 0, 0, 2, 1, 2, 2, 4, 1, 1, 1, 2, 1, 2, 2, 3, 2, 4, 4, 2, 0, 2, 4, 2, 2, 3, 1, 4, 0, 4, 2, 5, 4, 3, 5, 2, 1, 4, 3, 5, 1, 1, 0, 3, 4, 1, 0, 4, 1, 0, 0, 1, 5, 3, 0, 1, 0, 2, 2, 2, 5, 1, 2, 2, 1, 3, 3, 0, 4, 0, 1, 1, 2, 4, 4, 3, 5, 5, 0, 3, 3, 4, 2, 4, 2, 3, 4, 4, 0, 1, 3, 0, 3, 2, 4, 0, 4, 1, 4, 3, 0, 4, 1, 2, 0, 0, 4, 0, 1, 1, 0, 3, 1, 2, 4, 4, 3, 2, 1, 3, 0, 5, 0, 3, 3, 1, 2, 1, 3, 1, 2, 3, 4, 1, 1, 3, 2, 5, 1, 0, 1, 3, 2, 0, 4, 3, 0, 3, 2, 1, 4, 4, 1, 1, 2, 3, 4, 3, 4, 4, 3, 2, 4, 3, 3, 1, 3, 4, 0, 3, 3, 5, 3, 2, 2, 3, 1, 0, 2, 3, 2, 2, 1, 0, 4, 0, 0, 3, 4, 4, 1, 0, 2, 0, 3, 3, 1, 1, 1, 0, 1, 5, 3, 3, 0, 2, 2, 3, 4, 3, 0, 4, 0, 2, 1, 4, 4, 4, 1, 5, 0, 1, 0, 0, 3, 4, 2, 2, 3, 3, 0, 0, 4, 4, 0, 2, 0, 3, 3, 0, 4, 0, 0, 3, 2, 1, 0, 0, 1, 0, 5, 1, 3, 0, 4, 2, 4, 4, 4, 3, 1, 1, 1, 1, 0, 3, 0, 4, 4, 4, 0, 0, 2, 3, 4, 1, 0, 1, 2, 3, 0, 3, 1, 2, 5, 2, 1, 4, 1, 3, 4, 2, 5, 1, 5, 4, 3, 4, 5, 0, 0, 3, 1, 2, 5, 1, 4, 1, 0, 4, 1, 2, 1, 1, 1, 4, 1, 0, 4, 4, 0, 0, 1, 4, 0, 0, 0, 1, 1, 4, 1, 2, 0, 0, 1, 5, 3, 1, 4, 2, 3, 0, 5, 0, 2, 4, 0, 2, 4, 1, 0, 3, 3, 3, 3, 3, 4, 2, 2, 1, 2, 0, 1, 2, 4, 4, 3, 4, 0, 3, 1, 5, 3, 0, 1, 1, 4, 1, 0, 3, 2, 2, 2, 3, 0, 3, 5, 4, 0, 0, 1, 1, 1, 5, 0, 3, 2, 0, 0, 0, 1, 1, 3, 3, 0, 2, 2, 4, 4, 3, 1, 0, 0, 4, 2, 3, 2, 3, 4, 0, 3, 1, 3, 5, 1, 0, 1, 0, 4, 0, 3, 4, 3, 1, 1, 3, 1, 0, 2, 5, 1, 2, 0, 3, 1, 1, 0, 3, 2, 1, 0, 3, 0, 0, 4, 3, 1, 1, 3, 0, 1, 3, 0, 0, 1, 0, 1, 3, 4, 4, 4, 2, 1, 1, 0, 1, 4, 4, 4, 0, 1, 4, 0, 1, 2, 3, 2, 2, 3, 3, 3, 0, 4, 3, 5, 0, 1, 3, 2, 1, 1, 0, 3, 3, 1, 1, 0, 2, 3, 3, 4, 4, 2, 3, 0, 1, 2, 5, 2, 2, 4, 3, 2, 1, 1, 2, 0, 1, 1, 0, 2, 3, 2, 1, 3, 1, 3, 4, 1, 0, 3, 3, 2, 0, 5, 4, 2, 1, 1, 4, 3, 3, 1, 4, 0, 4, 0, 4, 2, 4, 0, 3, 1, 2, 1, 2, 0, 0, 1, 0, 3, 0, 0, 1, 2, 5, 0, 1, 1, 1, 1, 3, 1, 4, 3, 3, 3, 3, 2, 4, 3, 1, 0, 3, 4, 2, 0, 4, 1, 0, 0, 2, 5, 3, 1, 4, 4, 5, 2, 3, 1, 2, 3, 1, 3, 1, 4, 0, 3, 3, 0, 0, 1, 2, 4, 2, 2, 3, 1, 4, 2, 0, 2, 1, 3, 0, 1, 4, 1, 1, 1, 0, 4, 1, 3, 2, 2, 1, 1, 2, 3, 3, 1, 1, 2, 2, 3, 1, 0, 4, 0, 0, 4, 1, 4, 1, 2, 3, 3, 1, 2, 1, 2, 1, 1, 0, 0, 3, 3, 3, 0, 3, 4, 1, 1, 0, 1, 3, 3, 0, 2, 0, 4, 3, 2, 3, 3, 4, 3, 1, 5, 2, 1, 3, 3, 3, 2, 1, 0, 2, 4, 0, 3, 5, 2, 4, 3, 1, 2, 3, 3, 3, 0, 0, 1, 0, 1, 2, 4, 3, 4, 3, 0, 1, 0, 5, 0, 0, 3, 3, 0, 1, 0, 1, 2, 1, 1, 1, 3, 3, 1, 1, 2, 0, 0, 0, 4, 2, 0, 2, 0, 3, 3, 0, 5, 2, 4, 5, 0, 0, 0, 4, 1, 1, 0, 1, 0, 2, 0, 3, 4, 4, 0, 0, 2, 0, 0, 0, 4, 2, 2, 1, 0, 2, 2, 2, 3, 4, 4, 3, 3, 1, 5, 4, 3, 4, 3, 0, 0, 0, 0, 3, 0, 1, 2, 4, 1, 2, 2, 0, 0, 2, 4, 0, 3, 1, 2, 3, 0, 1, 3, 4, 0, 4, 2, 2, 3, 3, 1, 0, 4, 1, 2, 2, 1, 0, 2, 4, 2, 4, 1, 0, 5, 4, 1, 0, 4, 2, 4, 2, 0, 1, 1, 2, 4, 3, 2, 1, 3, 1, 4, 1, 3, 1, 0, 3, 1, 0, 4, 1, 0, 1, 1, 0, 3, 2, 4, 1, 1, 0, 2, 2, 5, 0, 1, 3, 0, 0, 4, 2, 4, 0, 1, 3, 0, 1, 5, 2, 1, 1, 1, 1, 4, 0, 3, 4, 4, 3, 4, 3, 3, 0, 2, 1, 4, 1, 2, 1, 0, 3, 1, 0, 1, 2, 2, 4, 1, 4, 2, 4, 3, 1, 3, 2, 5, 3, 2, 2, 3, 3, 4, 0, 3, 0, 1, 0, 2, 5, 4, 1, 4, 0, 2, 2, 1, 1, 1, 0, 2, 0, 5, 2, 1, 4, 3, 3, 2, 1, 2, 2, 1, 1, 4, 3, 4, 1, 1, 4, 5, 0, 3, 0, 2, 2, 4, 1, 4, 2, 4, 2, 1, 0, 0, 3, 0, 2, 2, 4, 4]\n",
            "2200\n",
            "[1, 4, 5, 3, 0, 1, 1, 0, 2, 1, 2, 0, 2, 3, 1, 1, 4, 4, 2, 3, 1, 1, 0, 5, 1, 1, 3, 2, 1, 1, 0, 4, 0, 3, 2, 2, 2, 4, 1, 2, 3, 3, 0, 3, 0, 4, 0, 5, 1, 4, 1, 2, 1, 4, 1, 4, 4, 2, 2, 4, 4, 2, 4, 1, 1, 1, 0, 1, 1, 3, 2, 2, 3, 1, 2, 1, 3, 4, 4, 5, 4, 2, 4, 0, 0, 3, 0, 0, 2, 1, 4, 4, 1, 1, 1, 1, 0, 3, 1, 3, 3, 4, 1, 3, 1, 4, 1, 4, 2, 3, 3, 1, 0, 1, 0, 3, 0, 0, 2, 0, 3, 0, 1, 0, 1, 4, 1, 0, 4, 1, 1, 3, 5, 1, 3, 0, 1, 1, 1, 0, 0, 4, 3, 5, 4, 4, 5, 1, 4, 1, 0, 0, 1, 4, 2, 0, 1, 4, 0, 3, 1, 2, 1, 1, 3, 1, 0, 0, 4, 3, 0, 0, 1, 0, 1, 1, 1, 1, 0, 5, 0, 3, 1, 2, 4, 2, 2, 3, 1, 5, 4, 3, 0, 3, 1, 4, 5, 3, 1, 3, 3, 1, 4, 2, 0, 3, 5, 0, 2, 0, 2, 2, 0, 4, 0, 3, 0, 1, 1, 0, 0, 0, 1, 2, 3, 3, 4, 4, 3, 3, 4, 3, 1, 0, 2, 3, 1, 1, 3, 3, 4, 4, 2, 3, 2, 0, 2, 2, 3, 1, 3, 3, 0, 1, 0, 5, 4, 1, 1, 2, 2, 4, 1, 1, 3, 3, 0, 2, 0, 0, 3, 1, 3, 1, 4, 0, 1, 0, 0, 3, 2, 3, 4, 4, 0, 4, 4, 4, 3, 4, 4, 4, 0, 2, 4, 2, 0, 0, 4, 5, 3, 5, 0, 0, 3, 2, 5, 0, 1, 3, 1, 0, 1, 2, 5, 3, 1, 3, 2, 1, 1, 4, 3, 2, 2, 5, 4, 3]\n",
            "328\n",
            "[3, 0, 2, 3, 1, 2, 1, 2, 2, 0, 2, 2, 5, 1, 1, 1, 0, 4, 2, 1, 3, 2, 5, 1, 3, 4, 2, 5, 3, 0, 2, 0, 1, 3, 1, 4, 4, 1, 5, 1, 3, 1, 2, 2, 1, 4, 1, 0, 3, 0, 1, 0, 1, 1, 4, 1, 0, 0, 0, 0, 0, 1, 1, 3, 5, 4, 3, 3, 5, 3, 0, 3, 1, 2, 1, 2, 4, 0, 1, 0, 0, 4, 4, 4, 0, 0, 3, 5, 0, 0, 3, 5, 4, 2, 1, 2, 5, 1, 1, 0, 3, 1, 1, 1, 4, 1, 0, 1, 1, 3, 1, 0, 0, 4, 2, 5, 2, 4, 1, 2, 1, 4, 3, 3, 4, 2, 2, 2, 3, 1, 1, 1, 2, 1, 0, 0, 4, 3, 2, 0, 1, 1, 3, 0, 4, 2, 3, 5, 4, 1, 1, 0, 4, 0, 4, 1, 4, 2, 2, 1, 4, 1, 2, 3, 4, 0, 1, 5, 4, 1, 2, 0, 4, 2, 4, 1, 1, 0, 3, 0, 1, 1, 2, 4, 4, 4, 3, 4, 0, 3, 1, 3, 0, 1, 5, 0, 2, 1, 2, 4, 1, 3, 2, 4, 3, 1, 2, 1, 1, 5, 2, 0, 3, 2, 3, 2, 3, 5, 2, 4, 4, 0, 1, 1, 3, 2, 4, 0, 1, 1, 4, 2, 0, 2, 4, 3, 3, 0, 2, 4, 1, 3, 3, 0, 1, 0, 3, 2, 4, 2, 1, 1, 1, 1, 3, 3, 3, 1, 5, 4, 3, 1, 0, 0, 2, 1, 3, 0, 3, 0, 3, 1, 1, 0, 1, 5, 1, 4, 3, 0, 4, 2, 3, 3, 5, 0, 1, 4, 4, 4, 0, 1, 0, 2, 2, 1, 3, 2, 0, 0, 3, 3, 3, 4, 4, 1, 3, 5, 1, 1, 5, 3, 1, 5, 1, 3, 4, 1, 1, 5, 4, 0, 0, 0, 3, 4, 0, 1, 0, 2, 2, 0, 4, 0, 1, 3, 0, 0, 1, 1, 1, 2, 3, 4, 0, 2, 1, 2, 0, 3, 1, 3, 3, 0, 2, 2, 2, 1, 5, 4, 5, 0, 1, 3, 5, 1, 3, 3, 3, 1, 1, 4, 5, 2, 3, 2, 0, 2, 3, 3, 2, 0, 1, 2, 4, 4, 2, 2, 4, 5, 4, 4, 0, 2, 2, 4, 0, 0, 3, 4, 5, 4, 0, 1, 2, 0, 0, 1, 1, 3, 0, 0, 1, 1, 0, 3, 3, 1, 5, 3, 1, 0, 4, 0, 4, 4, 2, 4, 2, 1, 1]\n",
            "431\n"
          ]
        }
      ]
    },
    {
      "cell_type": "code",
      "source": [
        "'''\n",
        "from tensorflow.keras.preprocessing.image import ImageDataGenerator, load_img, img_to_array, array_to_img\n",
        "\n",
        "for i, img_path in enumerate(df_train.rel_path.sample(n=6, random_state=123)):\n",
        "    img = load_img(IMAGES_DIR+img_path)\n",
        "    img = img_to_array(img, dtype=np.uint8)\n",
        "\n",
        "    #plt.figure(figsize = (5,5))\n",
        "    plt.subplot(2, 3, i+1)\n",
        "    plt.imshow(img.squeeze())\n",
        "'''"
      ],
      "metadata": {
        "id": "EQgNubegB-gB",
        "colab": {
          "base_uri": "https://localhost:8080/",
          "height": 90
        },
        "outputId": "dc378e6b-7583-40e1-b0ad-d25d770c46a6"
      },
      "execution_count": null,
      "outputs": [
        {
          "output_type": "execute_result",
          "data": {
            "text/plain": [
              "'\\nfrom tensorflow.keras.preprocessing.image import ImageDataGenerator, load_img, img_to_array, array_to_img\\n\\nfor i, img_path in enumerate(df_train.rel_path.sample(n=6, random_state=123)):\\n    img = load_img(IMAGES_DIR+img_path)\\n    img = img_to_array(img, dtype=np.uint8)\\n    \\n    #plt.figure(figsize = (5,5))\\n    plt.subplot(2, 3, i+1)\\n    plt.imshow(img.squeeze())\\n'"
            ],
            "application/vnd.google.colaboratory.intrinsic+json": {
              "type": "string"
            }
          },
          "metadata": {},
          "execution_count": 26
        }
      ]
    },
    {
      "cell_type": "code",
      "source": [
        "# array로 변환\n",
        "X_train = np.array(X_train, ndmin=2)\n",
        "X_valid = np.array(X_valid, ndmin=2)\n",
        "X_test = np.array(X_test, ndmin=2)\n",
        "Y_train = np.array(Y_train, ndmin=1)\n",
        "Y_valid = np.array(Y_valid, ndmin=1)\n",
        "Y_test = np.array(Y_test, ndmin=1)\n",
        "\n",
        "# shape 조절\n",
        "len_train_X = len(X_train)\n",
        "len_validate_X = len(X_valid)\n",
        "len_test_X = len(X_test)\n",
        "\n",
        "X_train = X_train.reshape(len_train_X,3*224*224)\n",
        "X_valid = X_valid.reshape(len_validate_X,3*224*224)\n",
        "X_test = X_test.reshape(len_test_X,3*224*224)"
      ],
      "metadata": {
        "id": "vLhsNFYs5LCh"
      },
      "execution_count": null,
      "outputs": []
    },
    {
      "cell_type": "code",
      "source": [
        "X_train.shape"
      ],
      "metadata": {
        "colab": {
          "base_uri": "https://localhost:8080/"
        },
        "id": "M3Uw-Xnv5LEv",
        "outputId": "75a8ca51-c27d-4067-98a0-cd777511448d"
      },
      "execution_count": null,
      "outputs": [
        {
          "output_type": "execute_result",
          "data": {
            "text/plain": [
              "(2200, 150528)"
            ]
          },
          "metadata": {},
          "execution_count": 28
        }
      ]
    },
    {
      "cell_type": "code",
      "source": [
        "# Normalize the images. (0~1)\n",
        "\n",
        "X_train = (X_train / 255)\n",
        "X_valid = (X_valid / 255)\n",
        "X_test = (X_test / 255)"
      ],
      "metadata": {
        "id": "RoeP3T7Z9_S1"
      },
      "execution_count": null,
      "outputs": []
    },
    {
      "cell_type": "markdown",
      "source": [
        "XGBoost 학습"
      ],
      "metadata": {
        "id": "m4kBZWhX_8mK"
      }
    },
    {
      "cell_type": "code",
      "source": [
        "!sudo pip install --upgrade xgboost"
      ],
      "metadata": {
        "id": "aG8T8TKaUNAv",
        "colab": {
          "base_uri": "https://localhost:8080/"
        },
        "outputId": "cf9320ba-cc1d-4eb2-d28c-b528b04fd1f4"
      },
      "execution_count": null,
      "outputs": [
        {
          "output_type": "stream",
          "name": "stdout",
          "text": [
            "Looking in indexes: https://pypi.org/simple, https://us-python.pkg.dev/colab-wheels/public/simple/\n",
            "Requirement already satisfied: xgboost in /usr/local/lib/python3.10/dist-packages (1.7.5)\n",
            "Requirement already satisfied: numpy in /usr/local/lib/python3.10/dist-packages (from xgboost) (1.22.4)\n",
            "Requirement already satisfied: scipy in /usr/local/lib/python3.10/dist-packages (from xgboost) (1.10.1)\n"
          ]
        }
      ]
    },
    {
      "cell_type": "markdown",
      "source": [
        "최적의 모델 선정"
      ],
      "metadata": {
        "id": "JSM8DP9SZHBl"
      }
    },
    {
      "cell_type": "markdown",
      "source": [
        "기본적인 xgboost (약 3시간 반 소요)"
      ],
      "metadata": {
        "id": "bdeIYQRMUQfg"
      }
    },
    {
      "cell_type": "code",
      "source": [
        "import time\n",
        "import xgboost as xgb\n",
        "from xgboost import XGBClassifier\n",
        "\n",
        "start = time.time()\n",
        "xgb_clf = XGBClassifier(objective = \"multi:softmax\")\n",
        "# tree_method = \"gpu_hist\"\n",
        "xgb_clf.fit(X_train,Y_train,eval_metric=['mlogloss','auc'], early_stopping_rounds = 100, eval_set = [(X_train, Y_train), (X_valid, Y_valid)], verbose=True)\n",
        "stop = time.time()\n",
        "print(xgb_clf.get_params)\n",
        "print(f\"Training time: {stop - start}s\")"
      ],
      "metadata": {
        "id": "T-26W5m9UQGi"
      },
      "execution_count": null,
      "outputs": []
    },
    {
      "cell_type": "markdown",
      "source": [
        "기본적인 xgboost - 결과 확인"
      ],
      "metadata": {
        "id": "zuWQXF-Djtm0"
      }
    },
    {
      "cell_type": "code",
      "source": [
        "# Print F1 scores and Accuracy\n",
        "from sklearn.metrics import f1_score\n",
        "from sklearn.metrics import accuracy_score\n",
        "\n",
        "y_test_preds = xgb_clf.predict(X_test)\n",
        "print(\"Test F1 score: \", f1_score(Y_test, y_test_preds, average = \"macro\"))\n",
        "print(\"Test Accuracy: \", accuracy_score(Y_test, y_test_preds))"
      ],
      "metadata": {
        "id": "5uEmNSsATAmd"
      },
      "execution_count": null,
      "outputs": []
    },
    {
      "cell_type": "code",
      "source": [
        "# accuracy, loss 그래프\n",
        "\n",
        "# retrieve performance metrics\n",
        "results_1 = xgb_clf.evals_result()\n",
        "\n",
        "import matplotlib.pyplot as plt\n",
        "plt.figure(figsize=(14, 5))\n",
        "\n",
        "plt.subplot(1, 2, 1)\n",
        "plt.plot(results_1['validation_0']['auc'], label='Training Accuracy')\n",
        "plt.plot(results_1['validation_1']['auc'], label='Validation Accuracy')\n",
        "plt.legend(loc='lower right')\n",
        "plt.title('Training and Validation Accuracy')\n",
        "\n",
        "plt.subplot(1, 2, 2)\n",
        "plt.plot(results_1['validation_0']['mlogloss'], label='Training mlogloss')\n",
        "plt.plot(results_1['validation_1']['mlogloss'], label='Validation mlogloss')\n",
        "plt.legend(loc='lower right')\n",
        "plt.title('Training and Validation mlogloss')\n",
        "\n",
        "plt.show()"
      ],
      "metadata": {
        "id": "heX9jK4Wj_wE"
      },
      "execution_count": null,
      "outputs": []
    },
    {
      "cell_type": "code",
      "source": [
        "# confusion matrix\n",
        "\n",
        "from sklearn.metrics import ConfusionMatrixDisplay\n",
        "\n",
        "class_names = ['cardboard', 'paper', 'glass', 'metal', 'trash', 'plastic']\n",
        "class_names = np.array(class_names, dtype='<U10')\n",
        "print(class_names)\n",
        "\n",
        "\n",
        "# Plot non-normalized confusion matrix\n",
        "titles_options = [\n",
        "    (\"Confusion matrix\", None),\n",
        "]\n",
        "for title, normalize in titles_options:\n",
        "    disp = ConfusionMatrixDisplay.from_estimator(\n",
        "        svc10_linear,\n",
        "        X_test,\n",
        "        Y_test,\n",
        "        display_labels=class_names,\n",
        "        cmap=plt.cm.Blues,\n",
        "    )\n",
        "    disp.ax_.set_title(title)\n",
        "\n",
        "    print(title)\n",
        "    print(disp.confusion_matrix)\n",
        "\n",
        "plt.show()"
      ],
      "metadata": {
        "id": "TjWUi0HtauM1"
      },
      "execution_count": null,
      "outputs": []
    },
    {
      "cell_type": "code",
      "source": [
        "import xgboost as xgb\n",
        "from xgboost import XGBClassifier\n",
        "\n",
        "D_train = xgb.DMatrix(X_train, Y_train)\n",
        "D_valid = xgb.DMatrix(X_valid, Y_valid)\n",
        "\n",
        "# Define a custom evaluation metric used for early stopping.\n",
        "def eval_error_metric(predt, dtrain: xgb.DMatrix):\n",
        "    label = dtrain.get_label()\n",
        "    r = np.zeros(predt.shape)\n",
        "    gt = predt > 0.5\n",
        "    r[gt] = 1 - label[gt]\n",
        "    le = predt <= 0.5\n",
        "    r[le] = label[le]\n",
        "    return 'CustomErr', np.sum(r)\n",
        "\n",
        "# Specify which dataset and which metric should be used for early stopping.\n",
        "early_stop = xgb.callback.EarlyStopping(rounds=100,\n",
        "                                        metric_name='CustomErr',\n",
        "                                        data_name='Train')\n",
        "\n",
        "booster = xgb.train(\n",
        "    {'objective': 'multi:softmax', 'num_class':6,\n",
        "     'eval_metric': ['mlogloss','auc']}, D_train,\n",
        "    evals=[(D_train, 'Train'), (D_valid, 'Valid')],\n",
        "    feval=eval_error_metric,\n",
        "    num_boost_round=1000,\n",
        "    callbacks=[early_stop],\n",
        "    verbose_eval=False)\n",
        "\n",
        "dump = booster.get_dump(dump_format='json')\n",
        "assert len(early_stop.stopping_history['Valid']['CustomErr']) == len(dump)"
      ],
      "metadata": {
        "id": "Z-wF9Nrd9MbE"
      },
      "execution_count": null,
      "outputs": []
    },
    {
      "cell_type": "markdown",
      "source": [
        "파라미터 조절한 xgboost (약 2시간 소요)"
      ],
      "metadata": {
        "id": "VvhbRfed6m6t"
      }
    },
    {
      "cell_type": "code",
      "source": [
        "import time\n",
        "import xgboost as xgb\n",
        "from xgboost import XGBClassifier\n",
        "\n",
        "start = time.time()\n",
        "xgb_clf_2 = XGBClassifier(objective = \"multi:softmax\", n_estimators=100, n_jobs=-1, learning_rate=0.5, max_depth= 5, min_child_weight= 1, seed=0)\n",
        "# tree_method = \"gpu_hist\"\n",
        "xgb_clf_2.fit(X_train,Y_train,eval_metric=['mlogloss','auc'], early_stopping_rounds = 100, eval_set = [(X_train, Y_train), (X_valid, Y_valid)])\n",
        "stop = time.time()\n",
        "print(xgb_clf_2.get_params)\n",
        "print(f\"Training time: {stop - start}s\")"
      ],
      "metadata": {
        "colab": {
          "base_uri": "https://localhost:8080/"
        },
        "id": "ySExTFqe6o7J",
        "outputId": "7055fed8-14fb-4627-b0d4-a4e477db6ff3"
      },
      "execution_count": null,
      "outputs": [
        {
          "output_type": "stream",
          "name": "stderr",
          "text": [
            "/usr/local/lib/python3.10/dist-packages/xgboost/sklearn.py:835: UserWarning: `eval_metric` in `fit` method is deprecated for better compatibility with scikit-learn, use `eval_metric` in constructor or`set_params` instead.\n",
            "  warnings.warn(\n",
            "/usr/local/lib/python3.10/dist-packages/xgboost/sklearn.py:835: UserWarning: `early_stopping_rounds` in `fit` method is deprecated for better compatibility with scikit-learn, use `early_stopping_rounds` in constructor or`set_params` instead.\n",
            "  warnings.warn(\n"
          ]
        },
        {
          "output_type": "stream",
          "name": "stdout",
          "text": [
            "[0]\tvalidation_0-mlogloss:1.32026\tvalidation_0-auc:0.89795\tvalidation_1-mlogloss:1.54998\tvalidation_1-auc:0.72680\n",
            "[1]\tvalidation_0-mlogloss:1.04406\tvalidation_0-auc:0.95281\tvalidation_1-mlogloss:1.41346\tvalidation_1-auc:0.77958\n",
            "[2]\tvalidation_0-mlogloss:0.83676\tvalidation_0-auc:0.97698\tvalidation_1-mlogloss:1.33841\tvalidation_1-auc:0.80136\n",
            "[3]\tvalidation_0-mlogloss:0.68757\tvalidation_0-auc:0.98842\tvalidation_1-mlogloss:1.29894\tvalidation_1-auc:0.80735\n",
            "[4]\tvalidation_0-mlogloss:0.57524\tvalidation_0-auc:0.99326\tvalidation_1-mlogloss:1.26992\tvalidation_1-auc:0.81309\n",
            "[5]\tvalidation_0-mlogloss:0.47662\tvalidation_0-auc:0.99641\tvalidation_1-mlogloss:1.24656\tvalidation_1-auc:0.82231\n",
            "[6]\tvalidation_0-mlogloss:0.40004\tvalidation_0-auc:0.99821\tvalidation_1-mlogloss:1.23109\tvalidation_1-auc:0.82419\n",
            "[7]\tvalidation_0-mlogloss:0.33897\tvalidation_0-auc:0.99898\tvalidation_1-mlogloss:1.21264\tvalidation_1-auc:0.83064\n",
            "[8]\tvalidation_0-mlogloss:0.27916\tvalidation_0-auc:0.99942\tvalidation_1-mlogloss:1.20519\tvalidation_1-auc:0.83359\n",
            "[9]\tvalidation_0-mlogloss:0.24513\tvalidation_0-auc:0.99975\tvalidation_1-mlogloss:1.20923\tvalidation_1-auc:0.83301\n",
            "[10]\tvalidation_0-mlogloss:0.20960\tvalidation_0-auc:0.99989\tvalidation_1-mlogloss:1.19941\tvalidation_1-auc:0.83615\n",
            "[11]\tvalidation_0-mlogloss:0.18338\tvalidation_0-auc:0.99997\tvalidation_1-mlogloss:1.18427\tvalidation_1-auc:0.84047\n",
            "[12]\tvalidation_0-mlogloss:0.16031\tvalidation_0-auc:0.99998\tvalidation_1-mlogloss:1.17759\tvalidation_1-auc:0.84245\n",
            "[13]\tvalidation_0-mlogloss:0.13873\tvalidation_0-auc:0.99999\tvalidation_1-mlogloss:1.16411\tvalidation_1-auc:0.84645\n",
            "[14]\tvalidation_0-mlogloss:0.12341\tvalidation_0-auc:1.00000\tvalidation_1-mlogloss:1.16469\tvalidation_1-auc:0.84711\n",
            "[15]\tvalidation_0-mlogloss:0.10587\tvalidation_0-auc:1.00000\tvalidation_1-mlogloss:1.16100\tvalidation_1-auc:0.84871\n",
            "[16]\tvalidation_0-mlogloss:0.09494\tvalidation_0-auc:1.00000\tvalidation_1-mlogloss:1.16704\tvalidation_1-auc:0.84818\n",
            "[17]\tvalidation_0-mlogloss:0.07957\tvalidation_0-auc:1.00000\tvalidation_1-mlogloss:1.17161\tvalidation_1-auc:0.84807\n",
            "[18]\tvalidation_0-mlogloss:0.07114\tvalidation_0-auc:1.00000\tvalidation_1-mlogloss:1.17544\tvalidation_1-auc:0.84884\n",
            "[19]\tvalidation_0-mlogloss:0.06233\tvalidation_0-auc:1.00000\tvalidation_1-mlogloss:1.17856\tvalidation_1-auc:0.84992\n",
            "[20]\tvalidation_0-mlogloss:0.05473\tvalidation_0-auc:1.00000\tvalidation_1-mlogloss:1.18113\tvalidation_1-auc:0.85045\n",
            "[21]\tvalidation_0-mlogloss:0.04877\tvalidation_0-auc:1.00000\tvalidation_1-mlogloss:1.18353\tvalidation_1-auc:0.85096\n",
            "[22]\tvalidation_0-mlogloss:0.04493\tvalidation_0-auc:1.00000\tvalidation_1-mlogloss:1.18954\tvalidation_1-auc:0.85086\n",
            "[23]\tvalidation_0-mlogloss:0.04030\tvalidation_0-auc:1.00000\tvalidation_1-mlogloss:1.18361\tvalidation_1-auc:0.85341\n",
            "[24]\tvalidation_0-mlogloss:0.03702\tvalidation_0-auc:1.00000\tvalidation_1-mlogloss:1.19174\tvalidation_1-auc:0.85373\n",
            "[25]\tvalidation_0-mlogloss:0.03292\tvalidation_0-auc:1.00000\tvalidation_1-mlogloss:1.19108\tvalidation_1-auc:0.85491\n",
            "[26]\tvalidation_0-mlogloss:0.03008\tvalidation_0-auc:1.00000\tvalidation_1-mlogloss:1.19171\tvalidation_1-auc:0.85580\n",
            "[27]\tvalidation_0-mlogloss:0.02723\tvalidation_0-auc:1.00000\tvalidation_1-mlogloss:1.19123\tvalidation_1-auc:0.85662\n",
            "[28]\tvalidation_0-mlogloss:0.02509\tvalidation_0-auc:1.00000\tvalidation_1-mlogloss:1.18685\tvalidation_1-auc:0.85788\n",
            "[29]\tvalidation_0-mlogloss:0.02292\tvalidation_0-auc:1.00000\tvalidation_1-mlogloss:1.18627\tvalidation_1-auc:0.85929\n",
            "[30]\tvalidation_0-mlogloss:0.02115\tvalidation_0-auc:1.00000\tvalidation_1-mlogloss:1.18936\tvalidation_1-auc:0.85879\n",
            "[31]\tvalidation_0-mlogloss:0.01965\tvalidation_0-auc:1.00000\tvalidation_1-mlogloss:1.19324\tvalidation_1-auc:0.85835\n",
            "[32]\tvalidation_0-mlogloss:0.01850\tvalidation_0-auc:1.00000\tvalidation_1-mlogloss:1.19236\tvalidation_1-auc:0.85926\n",
            "[33]\tvalidation_0-mlogloss:0.01720\tvalidation_0-auc:1.00000\tvalidation_1-mlogloss:1.19378\tvalidation_1-auc:0.85978\n",
            "[34]\tvalidation_0-mlogloss:0.01607\tvalidation_0-auc:1.00000\tvalidation_1-mlogloss:1.19234\tvalidation_1-auc:0.86063\n",
            "[35]\tvalidation_0-mlogloss:0.01519\tvalidation_0-auc:1.00000\tvalidation_1-mlogloss:1.19987\tvalidation_1-auc:0.85983\n",
            "[36]\tvalidation_0-mlogloss:0.01425\tvalidation_0-auc:1.00000\tvalidation_1-mlogloss:1.19693\tvalidation_1-auc:0.86136\n",
            "[37]\tvalidation_0-mlogloss:0.01348\tvalidation_0-auc:1.00000\tvalidation_1-mlogloss:1.20370\tvalidation_1-auc:0.86133\n",
            "[38]\tvalidation_0-mlogloss:0.01273\tvalidation_0-auc:1.00000\tvalidation_1-mlogloss:1.20440\tvalidation_1-auc:0.86200\n",
            "[39]\tvalidation_0-mlogloss:0.01211\tvalidation_0-auc:1.00000\tvalidation_1-mlogloss:1.21047\tvalidation_1-auc:0.86130\n",
            "[40]\tvalidation_0-mlogloss:0.01149\tvalidation_0-auc:1.00000\tvalidation_1-mlogloss:1.21149\tvalidation_1-auc:0.86205\n",
            "[41]\tvalidation_0-mlogloss:0.01090\tvalidation_0-auc:1.00000\tvalidation_1-mlogloss:1.21792\tvalidation_1-auc:0.86148\n",
            "[42]\tvalidation_0-mlogloss:0.01043\tvalidation_0-auc:1.00000\tvalidation_1-mlogloss:1.21654\tvalidation_1-auc:0.86193\n",
            "[43]\tvalidation_0-mlogloss:0.00998\tvalidation_0-auc:1.00000\tvalidation_1-mlogloss:1.21350\tvalidation_1-auc:0.86256\n",
            "[44]\tvalidation_0-mlogloss:0.00954\tvalidation_0-auc:1.00000\tvalidation_1-mlogloss:1.21190\tvalidation_1-auc:0.86316\n",
            "[45]\tvalidation_0-mlogloss:0.00915\tvalidation_0-auc:1.00000\tvalidation_1-mlogloss:1.21133\tvalidation_1-auc:0.86324\n",
            "[46]\tvalidation_0-mlogloss:0.00874\tvalidation_0-auc:1.00000\tvalidation_1-mlogloss:1.21729\tvalidation_1-auc:0.86311\n",
            "[47]\tvalidation_0-mlogloss:0.00841\tvalidation_0-auc:1.00000\tvalidation_1-mlogloss:1.21749\tvalidation_1-auc:0.86374\n",
            "[48]\tvalidation_0-mlogloss:0.00809\tvalidation_0-auc:1.00000\tvalidation_1-mlogloss:1.22340\tvalidation_1-auc:0.86334\n",
            "[49]\tvalidation_0-mlogloss:0.00778\tvalidation_0-auc:1.00000\tvalidation_1-mlogloss:1.22326\tvalidation_1-auc:0.86360\n",
            "[50]\tvalidation_0-mlogloss:0.00754\tvalidation_0-auc:1.00000\tvalidation_1-mlogloss:1.22405\tvalidation_1-auc:0.86391\n",
            "[51]\tvalidation_0-mlogloss:0.00730\tvalidation_0-auc:1.00000\tvalidation_1-mlogloss:1.22259\tvalidation_1-auc:0.86453\n",
            "[52]\tvalidation_0-mlogloss:0.00704\tvalidation_0-auc:1.00000\tvalidation_1-mlogloss:1.22033\tvalidation_1-auc:0.86492\n",
            "[53]\tvalidation_0-mlogloss:0.00681\tvalidation_0-auc:1.00000\tvalidation_1-mlogloss:1.21691\tvalidation_1-auc:0.86574\n",
            "[54]\tvalidation_0-mlogloss:0.00663\tvalidation_0-auc:1.00000\tvalidation_1-mlogloss:1.21863\tvalidation_1-auc:0.86597\n",
            "[55]\tvalidation_0-mlogloss:0.00645\tvalidation_0-auc:1.00000\tvalidation_1-mlogloss:1.21906\tvalidation_1-auc:0.86598\n",
            "[56]\tvalidation_0-mlogloss:0.00626\tvalidation_0-auc:1.00000\tvalidation_1-mlogloss:1.22095\tvalidation_1-auc:0.86591\n",
            "[57]\tvalidation_0-mlogloss:0.00611\tvalidation_0-auc:1.00000\tvalidation_1-mlogloss:1.22048\tvalidation_1-auc:0.86628\n",
            "[58]\tvalidation_0-mlogloss:0.00596\tvalidation_0-auc:1.00000\tvalidation_1-mlogloss:1.22227\tvalidation_1-auc:0.86614\n",
            "[59]\tvalidation_0-mlogloss:0.00582\tvalidation_0-auc:1.00000\tvalidation_1-mlogloss:1.22298\tvalidation_1-auc:0.86607\n",
            "[60]\tvalidation_0-mlogloss:0.00567\tvalidation_0-auc:1.00000\tvalidation_1-mlogloss:1.22543\tvalidation_1-auc:0.86638\n",
            "[61]\tvalidation_0-mlogloss:0.00555\tvalidation_0-auc:1.00000\tvalidation_1-mlogloss:1.22818\tvalidation_1-auc:0.86658\n",
            "[62]\tvalidation_0-mlogloss:0.00542\tvalidation_0-auc:1.00000\tvalidation_1-mlogloss:1.23111\tvalidation_1-auc:0.86661\n",
            "[63]\tvalidation_0-mlogloss:0.00531\tvalidation_0-auc:1.00000\tvalidation_1-mlogloss:1.23177\tvalidation_1-auc:0.86673\n",
            "[64]\tvalidation_0-mlogloss:0.00520\tvalidation_0-auc:1.00000\tvalidation_1-mlogloss:1.23048\tvalidation_1-auc:0.86687\n",
            "[65]\tvalidation_0-mlogloss:0.00509\tvalidation_0-auc:1.00000\tvalidation_1-mlogloss:1.23039\tvalidation_1-auc:0.86687\n",
            "[66]\tvalidation_0-mlogloss:0.00499\tvalidation_0-auc:1.00000\tvalidation_1-mlogloss:1.22722\tvalidation_1-auc:0.86760\n",
            "[67]\tvalidation_0-mlogloss:0.00490\tvalidation_0-auc:1.00000\tvalidation_1-mlogloss:1.22728\tvalidation_1-auc:0.86771\n",
            "[68]\tvalidation_0-mlogloss:0.00481\tvalidation_0-auc:1.00000\tvalidation_1-mlogloss:1.22657\tvalidation_1-auc:0.86821\n",
            "[69]\tvalidation_0-mlogloss:0.00472\tvalidation_0-auc:1.00000\tvalidation_1-mlogloss:1.22775\tvalidation_1-auc:0.86820\n",
            "[70]\tvalidation_0-mlogloss:0.00465\tvalidation_0-auc:1.00000\tvalidation_1-mlogloss:1.22796\tvalidation_1-auc:0.86844\n",
            "[71]\tvalidation_0-mlogloss:0.00457\tvalidation_0-auc:1.00000\tvalidation_1-mlogloss:1.22979\tvalidation_1-auc:0.86846\n",
            "[72]\tvalidation_0-mlogloss:0.00450\tvalidation_0-auc:1.00000\tvalidation_1-mlogloss:1.22980\tvalidation_1-auc:0.86873\n",
            "[73]\tvalidation_0-mlogloss:0.00442\tvalidation_0-auc:1.00000\tvalidation_1-mlogloss:1.23041\tvalidation_1-auc:0.86892\n",
            "[74]\tvalidation_0-mlogloss:0.00435\tvalidation_0-auc:1.00000\tvalidation_1-mlogloss:1.22887\tvalidation_1-auc:0.86904\n",
            "[75]\tvalidation_0-mlogloss:0.00428\tvalidation_0-auc:1.00000\tvalidation_1-mlogloss:1.23016\tvalidation_1-auc:0.86906\n",
            "[76]\tvalidation_0-mlogloss:0.00422\tvalidation_0-auc:1.00000\tvalidation_1-mlogloss:1.22915\tvalidation_1-auc:0.86960\n",
            "[77]\tvalidation_0-mlogloss:0.00416\tvalidation_0-auc:1.00000\tvalidation_1-mlogloss:1.22827\tvalidation_1-auc:0.86953\n",
            "[78]\tvalidation_0-mlogloss:0.00410\tvalidation_0-auc:1.00000\tvalidation_1-mlogloss:1.22892\tvalidation_1-auc:0.86961\n",
            "[79]\tvalidation_0-mlogloss:0.00405\tvalidation_0-auc:1.00000\tvalidation_1-mlogloss:1.22932\tvalidation_1-auc:0.86998\n",
            "[80]\tvalidation_0-mlogloss:0.00399\tvalidation_0-auc:1.00000\tvalidation_1-mlogloss:1.23042\tvalidation_1-auc:0.86985\n",
            "[81]\tvalidation_0-mlogloss:0.00394\tvalidation_0-auc:1.00000\tvalidation_1-mlogloss:1.23419\tvalidation_1-auc:0.86944\n",
            "[82]\tvalidation_0-mlogloss:0.00389\tvalidation_0-auc:1.00000\tvalidation_1-mlogloss:1.23753\tvalidation_1-auc:0.86931\n",
            "[83]\tvalidation_0-mlogloss:0.00384\tvalidation_0-auc:1.00000\tvalidation_1-mlogloss:1.23836\tvalidation_1-auc:0.86937\n",
            "[84]\tvalidation_0-mlogloss:0.00379\tvalidation_0-auc:1.00000\tvalidation_1-mlogloss:1.23870\tvalidation_1-auc:0.86949\n",
            "[85]\tvalidation_0-mlogloss:0.00374\tvalidation_0-auc:1.00000\tvalidation_1-mlogloss:1.24032\tvalidation_1-auc:0.86913\n",
            "[86]\tvalidation_0-mlogloss:0.00369\tvalidation_0-auc:1.00000\tvalidation_1-mlogloss:1.23816\tvalidation_1-auc:0.86959\n",
            "[87]\tvalidation_0-mlogloss:0.00365\tvalidation_0-auc:1.00000\tvalidation_1-mlogloss:1.23925\tvalidation_1-auc:0.86953\n",
            "[88]\tvalidation_0-mlogloss:0.00361\tvalidation_0-auc:1.00000\tvalidation_1-mlogloss:1.24129\tvalidation_1-auc:0.86951\n",
            "[89]\tvalidation_0-mlogloss:0.00357\tvalidation_0-auc:1.00000\tvalidation_1-mlogloss:1.23927\tvalidation_1-auc:0.86977\n",
            "[90]\tvalidation_0-mlogloss:0.00353\tvalidation_0-auc:1.00000\tvalidation_1-mlogloss:1.24109\tvalidation_1-auc:0.86958\n",
            "[91]\tvalidation_0-mlogloss:0.00349\tvalidation_0-auc:1.00000\tvalidation_1-mlogloss:1.24137\tvalidation_1-auc:0.86993\n",
            "[92]\tvalidation_0-mlogloss:0.00346\tvalidation_0-auc:1.00000\tvalidation_1-mlogloss:1.24261\tvalidation_1-auc:0.86965\n",
            "[93]\tvalidation_0-mlogloss:0.00342\tvalidation_0-auc:1.00000\tvalidation_1-mlogloss:1.24324\tvalidation_1-auc:0.86967\n",
            "[94]\tvalidation_0-mlogloss:0.00339\tvalidation_0-auc:1.00000\tvalidation_1-mlogloss:1.24472\tvalidation_1-auc:0.86974\n",
            "[95]\tvalidation_0-mlogloss:0.00336\tvalidation_0-auc:1.00000\tvalidation_1-mlogloss:1.24351\tvalidation_1-auc:0.86970\n",
            "[96]\tvalidation_0-mlogloss:0.00332\tvalidation_0-auc:1.00000\tvalidation_1-mlogloss:1.24457\tvalidation_1-auc:0.86964\n",
            "[97]\tvalidation_0-mlogloss:0.00329\tvalidation_0-auc:1.00000\tvalidation_1-mlogloss:1.24428\tvalidation_1-auc:0.86984\n",
            "[98]\tvalidation_0-mlogloss:0.00326\tvalidation_0-auc:1.00000\tvalidation_1-mlogloss:1.24559\tvalidation_1-auc:0.86972\n",
            "[99]\tvalidation_0-mlogloss:0.00323\tvalidation_0-auc:1.00000\tvalidation_1-mlogloss:1.24703\tvalidation_1-auc:0.86965\n",
            "<bound method XGBModel.get_params of XGBClassifier(base_score=None, booster=None, callbacks=None,\n",
            "              colsample_bylevel=None, colsample_bynode=None,\n",
            "              colsample_bytree=None, early_stopping_rounds=None,\n",
            "              enable_categorical=False, eval_metric=None, feature_types=None,\n",
            "              gamma=None, gpu_id=None, grow_policy=None, importance_type=None,\n",
            "              interaction_constraints=None, learning_rate=0.5, max_bin=None,\n",
            "              max_cat_threshold=None, max_cat_to_onehot=None,\n",
            "              max_delta_step=None, max_depth=5, max_leaves=None,\n",
            "              min_child_weight=1, missing=nan, monotone_constraints=None,\n",
            "              n_estimators=100, n_jobs=-1, num_parallel_tree=None,\n",
            "              objective='multi:softmax', predictor=None, ...)>\n",
            "Training time: 11109.606009483337s\n"
          ]
        }
      ]
    },
    {
      "cell_type": "code",
      "source": [
        "from sklearn.metrics import f1_score\n",
        "from sklearn.metrics import accuracy_score\n",
        "\n",
        "y_test_pred_2 = xgb_clf_2.predict(X_test)\n",
        "\n",
        "print(\"Test F1 score: \", f1_score(Y_test, y_test_pred_2, average = \"macro\"))\n",
        "print(\"Test Accuracy: \", accuracy_score(Y_test, y_test_pred_2))"
      ],
      "metadata": {
        "colab": {
          "base_uri": "https://localhost:8080/"
        },
        "id": "gUHQTgYP7qKp",
        "outputId": "a3e7dbc8-12fd-4061-a7b9-39d0c376bc12"
      },
      "execution_count": null,
      "outputs": [
        {
          "output_type": "stream",
          "name": "stdout",
          "text": [
            "Test F1 score:  0.5946333945476019\n",
            "Test Accuracy:  0.6241299303944315\n"
          ]
        }
      ]
    },
    {
      "cell_type": "code",
      "source": [
        "# accuracy, loss 그래프\n",
        "\n",
        "# retrieve performance metrics\n",
        "results = xgb_clf_2.evals_result()\n",
        "\n",
        "import matplotlib.pyplot as plt\n",
        "plt.figure(figsize=(14, 5))\n",
        "\n",
        "plt.subplot(1, 2, 1)\n",
        "plt.plot(results['validation_0']['auc'], label='Training Accuracy')\n",
        "plt.plot(results['validation_1']['auc'], label='Validation Accuracy')\n",
        "plt.legend(loc='lower right')\n",
        "plt.title('Training and Validation Accuracy')\n",
        "\n",
        "plt.subplot(1, 2, 2)\n",
        "plt.plot(results['validation_0']['mlogloss'], label='Training mlogloss')\n",
        "plt.plot(results['validation_1']['mlogloss'], label='Validation mlogloss')\n",
        "plt.legend(loc='lower right')\n",
        "plt.title('Training and Validation mlogloss')\n",
        "\n",
        "plt.show()"
      ],
      "metadata": {
        "colab": {
          "base_uri": "https://localhost:8080/",
          "height": 339
        },
        "id": "MBSmPeik7ka7",
        "outputId": "015fd918-dc5e-49f3-9478-1535cd347bbd"
      },
      "execution_count": null,
      "outputs": [
        {
          "output_type": "display_data",
          "data": {
            "text/plain": [
              "<Figure size 1400x500 with 2 Axes>"
            ],
            "image/png": "[encoded data removed]"
          },
          "metadata": {}
        }
      ]
    },
    {
      "cell_type": "code",
      "source": [
        "import itertools\n",
        "from sklearn.metrics import classification_report, confusion_matrix\n",
        "\n",
        "def plot_confusion_matrix(cm, classes, normalize=True, title='Confusion matrix', cmap=plt.cm.Blues):\n",
        "    \"\"\"\n",
        "    This function prints and plots the confusion matrix.\n",
        "    Normalization can be applied by setting `normalize=True`.\n",
        "    \"\"\"\n",
        "    plt.figure(figsize=(10,10))\n",
        "    plt.imshow(cm, interpolation='nearest', cmap=cmap)\n",
        "    plt.title(title)\n",
        "    plt.colorbar()\n",
        "    tick_marks = np.arange(len(classes))\n",
        "    plt.xticks(tick_marks, classes, rotation=45)\n",
        "    plt.yticks(tick_marks, classes)\n",
        "    if normalize:\n",
        "        cm = cm.astype('float') / cm.sum(axis=1)[:, np.newaxis]\n",
        "        cm = np.around(cm, decimals=2)\n",
        "        cm[np.isnan(cm)] = 0.0\n",
        "    thresh = cm.max() / 2.\n",
        "    for i, j in itertools.product(range(cm.shape[0]), range(cm.shape[1])):\n",
        "        plt.text(j, i, cm[i, j],\n",
        "                 horizontalalignment=\"center\",\n",
        "                 color=\"white\" if cm[i, j] > thresh else \"black\")\n",
        "    plt.tight_layout()\n",
        "    plt.ylabel('True label')\n",
        "    plt.xlabel('Predicted label')"
      ],
      "metadata": {
        "id": "6dfqgg-aOC0p"
      },
      "execution_count": null,
      "outputs": []
    },
    {
      "cell_type": "code",
      "source": [
        "from sklearn.metrics import classification_report, confusion_matrix\n",
        "\n",
        "\n",
        "target_names = ['cardboard', 'paper', 'glass', 'metal', 'trash', 'plastic']\n",
        "\n",
        "# Confusion Matrix\n",
        "cm = confusion_matrix(Y_test, y_test_pred_2)\n",
        "plot_confusion_matrix(cm, target_names, normalize=False, title='Confusion Matrix')\n",
        "\n",
        "# Classification Report\n",
        "print('Classification Report')\n",
        "print(classification_report(Y_test, y_test_pred_2, target_names=target_names))"
      ],
      "metadata": {
        "colab": {
          "base_uri": "https://localhost:8080/",
          "height": 1000
        },
        "id": "u4N4uv5xjHDn",
        "outputId": "5184291d-9a3d-4375-e1f3-6e8616f6d849"
      },
      "execution_count": null,
      "outputs": [
        {
          "output_type": "stream",
          "name": "stdout",
          "text": [
            "Classification Report\n",
            "              precision    recall  f1-score   support\n",
            "\n",
            "   cardboard       0.53      0.54      0.53        82\n",
            "       paper       0.73      0.77      0.75       108\n",
            "       glass       0.75      0.76      0.75        70\n",
            "       metal       0.54      0.69      0.61        74\n",
            "       trash       0.50      0.41      0.45        68\n",
            "     plastic       0.77      0.34      0.48        29\n",
            "\n",
            "    accuracy                           0.62       431\n",
            "   macro avg       0.64      0.58      0.59       431\n",
            "weighted avg       0.63      0.62      0.62       431\n",
            "\n"
          ]
        },
        {
          "output_type": "display_data",
          "data": {
            "text/plain": [
              "<Figure size 1000x1000 with 2 Axes>"
            ],
            "image/png": "[encoded data removed]"
          },
          "metadata": {}
        }
      ]
    },
    {
      "cell_type": "markdown",
      "source": [
        "사용한 파일 제거"
      ],
      "metadata": {
        "id": "IGdunLGToLmT"
      }
    },
    {
      "cell_type": "code",
      "source": [
        "'''\n",
        "save_directory = '/content/drive/MyDrive/Colab_Notebooks/Data_driven_AI/input/augmentation_data/valid'\n",
        "\n",
        "import shutil\n",
        "\n",
        "shutil.rmtree(save_directory)\n",
        "'''"
      ],
      "metadata": {
        "id": "0mJmAcsd6XXp"
      },
      "execution_count": null,
      "outputs": []
    }
  ]
}