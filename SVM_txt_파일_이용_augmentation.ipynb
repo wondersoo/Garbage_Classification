{
  "nbformat": 4,
  "nbformat_minor": 0,
  "metadata": {
    "colab": {
      "provenance": [],
      "gpuType": "T4"
    },
    "kernelspec": {
      "name": "python3",
      "display_name": "Python 3"
    },
    "language_info": {
      "name": "python"
    },
    "accelerator": "GPU"
  },
  "cells": [
    {
      "cell_type": "code",
      "execution_count": null,
      "metadata": {
        "id": "iwBaN7FiyJps",
        "colab": {
          "base_uri": "https://localhost:8080/"
        },
        "outputId": "cb3caf86-1097-4c7f-e179-7b52bc0c01e1"
      },
      "outputs": [
        {
          "output_type": "stream",
          "name": "stdout",
          "text": [
            "Drive already mounted at /content/drive; to attempt to forcibly remount, call drive.mount(\"/content/drive\", force_remount=True).\n"
          ]
        }
      ],
      "source": [
        "# 구글드라이브 마운트\n",
        "from google.colab import drive\n",
        "drive.mount('/content/drive')"
      ]
    },
    {
      "cell_type": "code",
      "source": [
        "import re\n",
        "import os\n",
        "import numpy as np\n",
        "import pandas as pd\n",
        "import matplotlib.pyplot as plt\n",
        "\n",
        "import tensorflow as tf\n",
        "from tensorflow.keras.preprocessing.image import ImageDataGenerator, load_img, img_to_array, array_to_img"
      ],
      "metadata": {
        "id": "eHDrfbbPB-T9"
      },
      "execution_count": null,
      "outputs": []
    },
    {
      "cell_type": "code",
      "source": [
        "def list_dataset():\n",
        "    for dirname, _, filenames in os.walk('/content/drive/MyDrive/Colab_Notebooks/Data_driven_AI/input/garbage_classification_real'):\n",
        "        for filename in filenames:\n",
        "            print(os.path.join(dirname, filename))\n",
        "\n",
        "# Add class name prefix to each path based on class name include in filename\n",
        "def add_class_name_prefix(df, col_name):\n",
        "    df[col_name] = df[col_name].apply(lambda x: x[:re.search(\"\\d\",x).start()] + '/' + x)\n",
        "    return df\n",
        "\n",
        "\n",
        "def class_id_to_label(id):\n",
        "    label_map = {1: 'glass', 2: 'paper', 3: 'cardboard', 4: 'plastic', 5: 'metal', 6: 'trash'}\n",
        "    return label_map[id]\n"
      ],
      "metadata": {
        "id": "l0fz4QCXB-V5"
      },
      "execution_count": null,
      "outputs": []
    },
    {
      "cell_type": "code",
      "source": [
        "# 파일 unzip\n",
        "'''\n",
        "path_to_zip_file = '/content/drive/MyDrive/Colab Notebooks/dataset.zip'\n",
        "directory_to_extract_to = '/content/drive/MyDrive/DATASET_GARBAGE/input'\n",
        "\n",
        "import zipfile\n",
        "with zipfile.ZipFile(path_to_zip_file, 'r') as zip_ref:\n",
        "    zip_ref.extractall(directory_to_extract_to)\n",
        "\n",
        "'''"
      ],
      "metadata": {
        "id": "TjD2Q9qTc_AA",
        "colab": {
          "base_uri": "https://localhost:8080/",
          "height": 72
        },
        "outputId": "40a09f0c-c9b0-4341-dc54-e9fe17361340"
      },
      "execution_count": null,
      "outputs": [
        {
          "output_type": "execute_result",
          "data": {
            "text/plain": [
              "\"\\npath_to_zip_file = '/content/drive/MyDrive/Colab Notebooks/dataset.zip'\\ndirectory_to_extract_to = '/content/drive/MyDrive/DATASET_GARBAGE/input'\\n\\nimport zipfile\\nwith zipfile.ZipFile(path_to_zip_file, 'r') as zip_ref:\\n    zip_ref.extractall(directory_to_extract_to)\\n\\n\""
            ],
            "application/vnd.google.colaboratory.intrinsic+json": {
              "type": "string"
            }
          },
          "metadata": {},
          "execution_count": 4
        }
      ]
    },
    {
      "cell_type": "code",
      "source": [
        "IMAGES_DIR = \"/content/drive/MyDrive/Colab_Notebooks/Data_driven_AI/input/garbage_classification_real/\"\n",
        "\n",
        "train_file = '/content/drive/MyDrive/Colab_Notebooks/Data_driven_AI/input/one-indexed-files-notrash_train.txt'\n",
        "val_file   = '/content/drive/MyDrive/Colab_Notebooks/Data_driven_AI/input/one-indexed-files-notrash_val.txt'\n",
        "test_file  = '/content/drive/MyDrive/Colab_Notebooks/Data_driven_AI/input/one-indexed-files-notrash_test.txt'\n",
        "\n",
        "df_train = pd.read_csv(train_file, sep=' ', header=None, names=['filename', 'category'])\n",
        "df_valid = pd.read_csv(val_file,   sep=' ', header=None, names=['filename', 'category'])\n",
        "df_test  = pd.read_csv(test_file,   sep=' ', header=None, names=['filename', 'category'])\n",
        "\n",
        "df_train = add_class_name_prefix(df_train, 'filename')\n",
        "df_valid = add_class_name_prefix(df_valid, 'filename')\n",
        "df_test  = add_class_name_prefix(df_test,  'filename')\n",
        "\n",
        "df_train['category_str'] = df_train['category'].apply(class_id_to_label)\n",
        "df_valid['category_str'] = df_valid['category'].apply(class_id_to_label)\n",
        "df_test['category_str']  = df_test['category'].apply(class_id_to_label)\n",
        "\n",
        "df_train['category'] = df_train['category']-1\n",
        "df_valid['category'] = df_valid['category']-1\n",
        "df_test['category']  = df_test['category']-1\n",
        "\n",
        "print(f'Found {len(df_train)} training, {len(df_valid)} validation and {len(df_test)} samples.')"
      ],
      "metadata": {
        "id": "S22tb1uGCx4C",
        "colab": {
          "base_uri": "https://localhost:8080/"
        },
        "outputId": "8da31da5-0fa3-4e03-946e-abf6aaada9c9"
      },
      "execution_count": null,
      "outputs": [
        {
          "output_type": "stream",
          "name": "stdout",
          "text": [
            "Found 1768 training, 328 validation and 431 samples.\n"
          ]
        }
      ]
    },
    {
      "cell_type": "code",
      "source": [
        "df_test"
      ],
      "metadata": {
        "colab": {
          "base_uri": "https://localhost:8080/",
          "height": 423
        },
        "id": "MpKEXidl7cYW",
        "outputId": "7500bffe-713a-4ef1-d155-bb29db5e53e8"
      },
      "execution_count": null,
      "outputs": [
        {
          "output_type": "execute_result",
          "data": {
            "text/plain": [
              "                      filename  category category_str\n",
              "0            paper/paper70.jpg         1        paper\n",
              "1           paper/paper380.jpg         1        paper\n",
              "2    cardboard/cardboard31.jpg         2    cardboard\n",
              "3            glass/glass12.jpg         0        glass\n",
              "4           paper/paper169.jpg         1        paper\n",
              "..                         ...       ...          ...\n",
              "426         metal/metal389.jpg         4        metal\n",
              "427         paper/paper303.jpg         1        paper\n",
              "428         paper/paper405.jpg         1        paper\n",
              "429         paper/paper465.jpg         1        paper\n",
              "430         trash/trash132.jpg         5        trash\n",
              "\n",
              "[431 rows x 3 columns]"
            ],
            "text/html": [
              "\n",
              "  <div id=\"df-88f6f8f6-c05c-4203-b4ce-d6787709814a\">\n",
              "    <div class=\"colab-df-container\">\n",
              "      <div>\n",
              "<style scoped>\n",
              "    .dataframe tbody tr th:only-of-type {\n",
              "        vertical-align: middle;\n",
              "    }\n",
              "\n",
              "    .dataframe tbody tr th {\n",
              "        vertical-align: top;\n",
              "    }\n",
              "\n",
              "    .dataframe thead th {\n",
              "        text-align: right;\n",
              "    }\n",
              "</style>\n",
              "<table border=\"1\" class=\"dataframe\">\n",
              "  <thead>\n",
              "    <tr style=\"text-align: right;\">\n",
              "      <th></th>\n",
              "      <th>filename</th>\n",
              "      <th>category</th>\n",
              "      <th>category_str</th>\n",
              "    </tr>\n",
              "  </thead>\n",
              "  <tbody>\n",
              "    <tr>\n",
              "      <th>0</th>\n",
              "      <td>paper/paper70.jpg</td>\n",
              "      <td>1</td>\n",
              "      <td>paper</td>\n",
              "    </tr>\n",
              "    <tr>\n",
              "      <th>1</th>\n",
              "      <td>paper/paper380.jpg</td>\n",
              "      <td>1</td>\n",
              "      <td>paper</td>\n",
              "    </tr>\n",
              "    <tr>\n",
              "      <th>2</th>\n",
              "      <td>cardboard/cardboard31.jpg</td>\n",
              "      <td>2</td>\n",
              "      <td>cardboard</td>\n",
              "    </tr>\n",
              "    <tr>\n",
              "      <th>3</th>\n",
              "      <td>glass/glass12.jpg</td>\n",
              "      <td>0</td>\n",
              "      <td>glass</td>\n",
              "    </tr>\n",
              "    <tr>\n",
              "      <th>4</th>\n",
              "      <td>paper/paper169.jpg</td>\n",
              "      <td>1</td>\n",
              "      <td>paper</td>\n",
              "    </tr>\n",
              "    <tr>\n",
              "      <th>...</th>\n",
              "      <td>...</td>\n",
              "      <td>...</td>\n",
              "      <td>...</td>\n",
              "    </tr>\n",
              "    <tr>\n",
              "      <th>426</th>\n",
              "      <td>metal/metal389.jpg</td>\n",
              "      <td>4</td>\n",
              "      <td>metal</td>\n",
              "    </tr>\n",
              "    <tr>\n",
              "      <th>427</th>\n",
              "      <td>paper/paper303.jpg</td>\n",
              "      <td>1</td>\n",
              "      <td>paper</td>\n",
              "    </tr>\n",
              "    <tr>\n",
              "      <th>428</th>\n",
              "      <td>paper/paper405.jpg</td>\n",
              "      <td>1</td>\n",
              "      <td>paper</td>\n",
              "    </tr>\n",
              "    <tr>\n",
              "      <th>429</th>\n",
              "      <td>paper/paper465.jpg</td>\n",
              "      <td>1</td>\n",
              "      <td>paper</td>\n",
              "    </tr>\n",
              "    <tr>\n",
              "      <th>430</th>\n",
              "      <td>trash/trash132.jpg</td>\n",
              "      <td>5</td>\n",
              "      <td>trash</td>\n",
              "    </tr>\n",
              "  </tbody>\n",
              "</table>\n",
              "<p>431 rows × 3 columns</p>\n",
              "</div>\n",
              "      <button class=\"colab-df-convert\" onclick=\"convertToInteractive('df-88f6f8f6-c05c-4203-b4ce-d6787709814a')\"\n",
              "              title=\"Convert this dataframe to an interactive table.\"\n",
              "              style=\"display:none;\">\n",
              "        \n",
              "  <svg xmlns=\"http://www.w3.org/2000/svg\" height=\"24px\"viewBox=\"0 0 24 24\"\n",
              "       width=\"24px\">\n",
              "    <path d=\"M0 0h24v24H0V0z\" fill=\"none\"/>\n",
              "    <path d=\"M18.56 5.44l.94 2.06.94-2.06 2.06-.94-2.06-.94-.94-2.06-.94 2.06-2.06.94zm-11 1L8.5 8.5l.94-2.06 2.06-.94-2.06-.94L8.5 2.5l-.94 2.06-2.06.94zm10 10l.94 2.06.94-2.06 2.06-.94-2.06-.94-.94-2.06-.94 2.06-2.06.94z\"/><path d=\"M17.41 7.96l-1.37-1.37c-.4-.4-.92-.59-1.43-.59-.52 0-1.04.2-1.43.59L10.3 9.45l-7.72 7.72c-.78.78-.78 2.05 0 2.83L4 21.41c.39.39.9.59 1.41.59.51 0 1.02-.2 1.41-.59l7.78-7.78 2.81-2.81c.8-.78.8-2.07 0-2.86zM5.41 20L4 18.59l7.72-7.72 1.47 1.35L5.41 20z\"/>\n",
              "  </svg>\n",
              "      </button>\n",
              "      \n",
              "  <style>\n",
              "    .colab-df-container {\n",
              "      display:flex;\n",
              "      flex-wrap:wrap;\n",
              "      gap: 12px;\n",
              "    }\n",
              "\n",
              "    .colab-df-convert {\n",
              "      background-color: #E8F0FE;\n",
              "      border: none;\n",
              "      border-radius: 50%;\n",
              "      cursor: pointer;\n",
              "      display: none;\n",
              "      fill: #1967D2;\n",
              "      height: 32px;\n",
              "      padding: 0 0 0 0;\n",
              "      width: 32px;\n",
              "    }\n",
              "\n",
              "    .colab-df-convert:hover {\n",
              "      background-color: #E2EBFA;\n",
              "      box-shadow: 0px 1px 2px rgba(60, 64, 67, 0.3), 0px 1px 3px 1px rgba(60, 64, 67, 0.15);\n",
              "      fill: #174EA6;\n",
              "    }\n",
              "\n",
              "    [theme=dark] .colab-df-convert {\n",
              "      background-color: #3B4455;\n",
              "      fill: #D2E3FC;\n",
              "    }\n",
              "\n",
              "    [theme=dark] .colab-df-convert:hover {\n",
              "      background-color: #434B5C;\n",
              "      box-shadow: 0px 1px 3px 1px rgba(0, 0, 0, 0.15);\n",
              "      filter: drop-shadow(0px 1px 2px rgba(0, 0, 0, 0.3));\n",
              "      fill: #FFFFFF;\n",
              "    }\n",
              "  </style>\n",
              "\n",
              "      <script>\n",
              "        const buttonEl =\n",
              "          document.querySelector('#df-88f6f8f6-c05c-4203-b4ce-d6787709814a button.colab-df-convert');\n",
              "        buttonEl.style.display =\n",
              "          google.colab.kernel.accessAllowed ? 'block' : 'none';\n",
              "\n",
              "        async function convertToInteractive(key) {\n",
              "          const element = document.querySelector('#df-88f6f8f6-c05c-4203-b4ce-d6787709814a');\n",
              "          const dataTable =\n",
              "            await google.colab.kernel.invokeFunction('convertToInteractive',\n",
              "                                                     [key], {});\n",
              "          if (!dataTable) return;\n",
              "\n",
              "          const docLinkHtml = 'Like what you see? Visit the ' +\n",
              "            '<a target=\"_blank\" href=https://colab.research.google.com/notebooks/data_table.ipynb>data table notebook</a>'\n",
              "            + ' to learn more about interactive tables.';\n",
              "          element.innerHTML = '';\n",
              "          dataTable['output_type'] = 'display_data';\n",
              "          await google.colab.output.renderOutput(dataTable, element);\n",
              "          const docLink = document.createElement('div');\n",
              "          docLink.innerHTML = docLinkHtml;\n",
              "          element.appendChild(docLink);\n",
              "        }\n",
              "      </script>\n",
              "    </div>\n",
              "  </div>\n",
              "  "
            ]
          },
          "metadata": {},
          "execution_count": 6
        }
      ]
    },
    {
      "cell_type": "code",
      "source": [
        "# 이미지 데이터를 로드하기 위한 ImageDataGenerator 객체 생성\n",
        "datagen = ImageDataGenerator(\n",
        "    rotation_range=30,\n",
        "    shear_range=0.1,\n",
        "    zoom_range=0.3,\n",
        "    horizontal_flip=True,\n",
        "    vertical_flip = True,\n",
        "    width_shift_range=0.2,\n",
        "    height_shift_range=0.2\n",
        "\n",
        ")\n",
        "\n",
        "# 이미지 데이터를 로드하고 증강 작업을 수행하는 함수\n",
        "def augment_images(dataframe,  save_directory):\n",
        "    for i in range(len(dataframe['filename'])):\n",
        "        # 이미지 파일의 클래스/레이블 추출\n",
        "        path = os.path.join(IMAGES_DIR + dataframe['filename'][i])\n",
        "        label = os.path.basename(os.path.dirname(path))\n",
        "        # label = dataframe['rel_path']\n",
        "\n",
        "        # 이미지 파일 로드\n",
        "        image = load_img(path)\n",
        "        image_array = img_to_array(image)\n",
        "\n",
        "        # 이미지 증강을 위해 배열 형태로 변환\n",
        "        image_array = image_array.reshape((1,) + image_array.shape)\n",
        "\n",
        "        # 증강된 이미지 저장 경로 생성\n",
        "        class_directory = os.path.join(save_directory, label)\n",
        "        os.makedirs(class_directory, exist_ok=True)\n",
        "\n",
        "        # 이미지 증강 수행 및 저장\n",
        "        i = 0\n",
        "        for batch in datagen.flow(image_array, save_to_dir=class_directory, save_prefix=label, save_format='jpg'):\n",
        "            i += 1\n",
        "            if i >= 1:  # 증강할 이미지 수 지정\n",
        "                break\n",
        "\n",
        "        # 원본 이미지 저장\n",
        "        image.save(os.path.join(class_directory, os.path.basename(path)))\n",
        "\n"
      ],
      "metadata": {
        "id": "plQWDqEi9T9s"
      },
      "execution_count": null,
      "outputs": []
    },
    {
      "cell_type": "code",
      "source": [
        "# train dataset 이미지 증강 수행 및 저장\n",
        "save_directory = '/content/drive/MyDrive/Colab_Notebooks/Data_driven_AI/input/augmentation_data/train'\n",
        "\n",
        "# 실제로는 밑에꺼 주석 풀고 돌려야 함.\n",
        "# augment_images(df_train, save_directory)"
      ],
      "metadata": {
        "id": "pqmRHsNh510M"
      },
      "execution_count": null,
      "outputs": []
    },
    {
      "cell_type": "code",
      "source": [
        "'''\n",
        "# Creating a dictionary from 6 classes\n",
        "categories={}\n",
        "i=-1\n",
        "for dirname, _, filenames in os.walk(save_directory):\n",
        "    for filename in filenames:\n",
        "        categories[i] = dirname.split('/')[-1]\n",
        "        break\n",
        "#         print(os.path.join(dirname, filename))\n",
        "    i += 1\n",
        "print(categories)\n",
        "'''\n"
      ],
      "metadata": {
        "colab": {
          "base_uri": "https://localhost:8080/",
          "height": 72
        },
        "id": "fF6k23PIMkzt",
        "outputId": "60192112-4c6e-4a00-a0e1-02991e773a25"
      },
      "execution_count": null,
      "outputs": [
        {
          "output_type": "execute_result",
          "data": {
            "text/plain": [
              "\"\\n# Creating a dictionary from 6 classes\\ncategories={}\\ni=-1\\nfor dirname, _, filenames in os.walk(save_directory):\\n    for filename in filenames:\\n        categories[i] = dirname.split('/')[-1]\\n        break\\n#         print(os.path.join(dirname, filename))\\n    i += 1\\nprint(categories)\\n\""
            ],
            "application/vnd.google.colaboratory.intrinsic+json": {
              "type": "string"
            }
          },
          "metadata": {},
          "execution_count": 9
        }
      ]
    },
    {
      "cell_type": "code",
      "source": [
        "# Add class name prefix to filename. So for example \"/paper104.jpg\" become \"paper/paper104.jpg\"\n",
        "\n",
        "def add_class_name_prefix(df, col_name):\n",
        "    df[col_name] = df[col_name].apply(lambda x: x[:re.search(\"\\d\",x).start()] + '/' + x)\n",
        "    return df\n",
        "\n",
        "# train dataset\n",
        "\n",
        "# list conatining all the filenames in the dataset\n",
        "filenames_list = []\n",
        "# list to store the corresponding category, note that each folder of the dataset has one class of data\n",
        "categories_list = []\n",
        "\n",
        "label_map = {0: 'glass', 1: 'paper', 2: 'cardboard', 3: 'plastic', 4: 'metal', 5: 'trash'}\n",
        "\n",
        "for category in label_map:\n",
        "    filenames = os.listdir('/content/drive/MyDrive/Colab_Notebooks/Data_driven_AI/input/augmentation_data/train/' + label_map[category])\n",
        "    filenames_list = filenames_list  + filenames\n",
        "    categories_list = categories_list + [category] * len(filenames)\n",
        "\n",
        "df_train_new = pd.DataFrame({\n",
        "    'filename': filenames_list,\n",
        "    'category': categories_list\n",
        "})\n",
        "\n",
        "'''\n",
        "for category in categories:\n",
        "    filenames = os.listdir('/content/drive/MyDrive/Colab_Notebooks/Data_driven_AI/input/augmentation_data/train/' + categories[category])\n",
        "    filenames_list = filenames_list  + filenames\n",
        "    categories_list = categories_list + [category] * len(filenames)\n",
        "\n",
        "df_train_new = pd.DataFrame({\n",
        "    'filename': filenames_list,\n",
        "    'category': categories_list\n",
        "})\n",
        "'''\n",
        "df_train_new = add_class_name_prefix(df_train_new, 'filename')"
      ],
      "metadata": {
        "id": "V7f-ju3nDV2J"
      },
      "execution_count": null,
      "outputs": []
    },
    {
      "cell_type": "code",
      "source": [
        "df_train_new"
      ],
      "metadata": {
        "colab": {
          "base_uri": "https://localhost:8080/",
          "height": 423
        },
        "id": "NcTZS7IJfme0",
        "outputId": "5608343f-8d89-436b-ba57-4a572a317143"
      },
      "execution_count": null,
      "outputs": [
        {
          "output_type": "execute_result",
          "data": {
            "text/plain": [
              "                     filename  category\n",
              "0     glass_/glass_0_4880.jpg         0\n",
              "1          glass/glass189.jpg         0\n",
              "2     glass_/glass_0_5695.jpg         0\n",
              "3          glass/glass325.jpg         0\n",
              "4     glass_/glass_0_2254.jpg         0\n",
              "...                       ...       ...\n",
              "3508        trash/trash58.jpg         5\n",
              "3509  trash_/trash_0_4846.jpg         5\n",
              "3510        trash/trash74.jpg         5\n",
              "3511  trash_/trash_0_5875.jpg         5\n",
              "3512        trash/trash69.jpg         5\n",
              "\n",
              "[3513 rows x 2 columns]"
            ],
            "text/html": [
              "\n",
              "  <div id=\"df-bcc7972c-65da-4008-80bd-34fab0925f51\">\n",
              "    <div class=\"colab-df-container\">\n",
              "      <div>\n",
              "<style scoped>\n",
              "    .dataframe tbody tr th:only-of-type {\n",
              "        vertical-align: middle;\n",
              "    }\n",
              "\n",
              "    .dataframe tbody tr th {\n",
              "        vertical-align: top;\n",
              "    }\n",
              "\n",
              "    .dataframe thead th {\n",
              "        text-align: right;\n",
              "    }\n",
              "</style>\n",
              "<table border=\"1\" class=\"dataframe\">\n",
              "  <thead>\n",
              "    <tr style=\"text-align: right;\">\n",
              "      <th></th>\n",
              "      <th>filename</th>\n",
              "      <th>category</th>\n",
              "    </tr>\n",
              "  </thead>\n",
              "  <tbody>\n",
              "    <tr>\n",
              "      <th>0</th>\n",
              "      <td>glass_/glass_0_4880.jpg</td>\n",
              "      <td>0</td>\n",
              "    </tr>\n",
              "    <tr>\n",
              "      <th>1</th>\n",
              "      <td>glass/glass189.jpg</td>\n",
              "      <td>0</td>\n",
              "    </tr>\n",
              "    <tr>\n",
              "      <th>2</th>\n",
              "      <td>glass_/glass_0_5695.jpg</td>\n",
              "      <td>0</td>\n",
              "    </tr>\n",
              "    <tr>\n",
              "      <th>3</th>\n",
              "      <td>glass/glass325.jpg</td>\n",
              "      <td>0</td>\n",
              "    </tr>\n",
              "    <tr>\n",
              "      <th>4</th>\n",
              "      <td>glass_/glass_0_2254.jpg</td>\n",
              "      <td>0</td>\n",
              "    </tr>\n",
              "    <tr>\n",
              "      <th>...</th>\n",
              "      <td>...</td>\n",
              "      <td>...</td>\n",
              "    </tr>\n",
              "    <tr>\n",
              "      <th>3508</th>\n",
              "      <td>trash/trash58.jpg</td>\n",
              "      <td>5</td>\n",
              "    </tr>\n",
              "    <tr>\n",
              "      <th>3509</th>\n",
              "      <td>trash_/trash_0_4846.jpg</td>\n",
              "      <td>5</td>\n",
              "    </tr>\n",
              "    <tr>\n",
              "      <th>3510</th>\n",
              "      <td>trash/trash74.jpg</td>\n",
              "      <td>5</td>\n",
              "    </tr>\n",
              "    <tr>\n",
              "      <th>3511</th>\n",
              "      <td>trash_/trash_0_5875.jpg</td>\n",
              "      <td>5</td>\n",
              "    </tr>\n",
              "    <tr>\n",
              "      <th>3512</th>\n",
              "      <td>trash/trash69.jpg</td>\n",
              "      <td>5</td>\n",
              "    </tr>\n",
              "  </tbody>\n",
              "</table>\n",
              "<p>3513 rows × 2 columns</p>\n",
              "</div>\n",
              "      <button class=\"colab-df-convert\" onclick=\"convertToInteractive('df-bcc7972c-65da-4008-80bd-34fab0925f51')\"\n",
              "              title=\"Convert this dataframe to an interactive table.\"\n",
              "              style=\"display:none;\">\n",
              "        \n",
              "  <svg xmlns=\"http://www.w3.org/2000/svg\" height=\"24px\"viewBox=\"0 0 24 24\"\n",
              "       width=\"24px\">\n",
              "    <path d=\"M0 0h24v24H0V0z\" fill=\"none\"/>\n",
              "    <path d=\"M18.56 5.44l.94 2.06.94-2.06 2.06-.94-2.06-.94-.94-2.06-.94 2.06-2.06.94zm-11 1L8.5 8.5l.94-2.06 2.06-.94-2.06-.94L8.5 2.5l-.94 2.06-2.06.94zm10 10l.94 2.06.94-2.06 2.06-.94-2.06-.94-.94-2.06-.94 2.06-2.06.94z\"/><path d=\"M17.41 7.96l-1.37-1.37c-.4-.4-.92-.59-1.43-.59-.52 0-1.04.2-1.43.59L10.3 9.45l-7.72 7.72c-.78.78-.78 2.05 0 2.83L4 21.41c.39.39.9.59 1.41.59.51 0 1.02-.2 1.41-.59l7.78-7.78 2.81-2.81c.8-.78.8-2.07 0-2.86zM5.41 20L4 18.59l7.72-7.72 1.47 1.35L5.41 20z\"/>\n",
              "  </svg>\n",
              "      </button>\n",
              "      \n",
              "  <style>\n",
              "    .colab-df-container {\n",
              "      display:flex;\n",
              "      flex-wrap:wrap;\n",
              "      gap: 12px;\n",
              "    }\n",
              "\n",
              "    .colab-df-convert {\n",
              "      background-color: #E8F0FE;\n",
              "      border: none;\n",
              "      border-radius: 50%;\n",
              "      cursor: pointer;\n",
              "      display: none;\n",
              "      fill: #1967D2;\n",
              "      height: 32px;\n",
              "      padding: 0 0 0 0;\n",
              "      width: 32px;\n",
              "    }\n",
              "\n",
              "    .colab-df-convert:hover {\n",
              "      background-color: #E2EBFA;\n",
              "      box-shadow: 0px 1px 2px rgba(60, 64, 67, 0.3), 0px 1px 3px 1px rgba(60, 64, 67, 0.15);\n",
              "      fill: #174EA6;\n",
              "    }\n",
              "\n",
              "    [theme=dark] .colab-df-convert {\n",
              "      background-color: #3B4455;\n",
              "      fill: #D2E3FC;\n",
              "    }\n",
              "\n",
              "    [theme=dark] .colab-df-convert:hover {\n",
              "      background-color: #434B5C;\n",
              "      box-shadow: 0px 1px 3px 1px rgba(0, 0, 0, 0.15);\n",
              "      filter: drop-shadow(0px 1px 2px rgba(0, 0, 0, 0.3));\n",
              "      fill: #FFFFFF;\n",
              "    }\n",
              "  </style>\n",
              "\n",
              "      <script>\n",
              "        const buttonEl =\n",
              "          document.querySelector('#df-bcc7972c-65da-4008-80bd-34fab0925f51 button.colab-df-convert');\n",
              "        buttonEl.style.display =\n",
              "          google.colab.kernel.accessAllowed ? 'block' : 'none';\n",
              "\n",
              "        async function convertToInteractive(key) {\n",
              "          const element = document.querySelector('#df-bcc7972c-65da-4008-80bd-34fab0925f51');\n",
              "          const dataTable =\n",
              "            await google.colab.kernel.invokeFunction('convertToInteractive',\n",
              "                                                     [key], {});\n",
              "          if (!dataTable) return;\n",
              "\n",
              "          const docLinkHtml = 'Like what you see? Visit the ' +\n",
              "            '<a target=\"_blank\" href=https://colab.research.google.com/notebooks/data_table.ipynb>data table notebook</a>'\n",
              "            + ' to learn more about interactive tables.';\n",
              "          element.innerHTML = '';\n",
              "          dataTable['output_type'] = 'display_data';\n",
              "          await google.colab.output.renderOutput(dataTable, element);\n",
              "          const docLink = document.createElement('div');\n",
              "          docLink.innerHTML = docLinkHtml;\n",
              "          element.appendChild(docLink);\n",
              "        }\n",
              "      </script>\n",
              "    </div>\n",
              "  </div>\n",
              "  "
            ]
          },
          "metadata": {},
          "execution_count": 11
        }
      ]
    },
    {
      "cell_type": "code",
      "source": [
        "def remove_underscore_before_slash(string):\n",
        "    return string.replace('_/', '/')\n",
        "\n",
        "df_train_new_list = []\n",
        "for i in range(len(df_train_new['filename'])):\n",
        "  if '_' in df_train_new['filename'][i]:\n",
        "    df_train_new_list.append(remove_underscore_before_slash(df_train_new['filename'][i]))\n",
        "\n",
        "  else:\n",
        "    df_train_new_list.append(df_train_new['filename'][i])\n",
        "\n",
        "df_train_new['filename'] = df_train_new_list"
      ],
      "metadata": {
        "id": "wU-_KNbDfwWC"
      },
      "execution_count": null,
      "outputs": []
    },
    {
      "cell_type": "code",
      "source": [
        "df_train_new"
      ],
      "metadata": {
        "colab": {
          "base_uri": "https://localhost:8080/",
          "height": 423
        },
        "id": "d5GmWcf2ji7O",
        "outputId": "8e9db7ae-28ca-41a9-fa34-b4a2f7adf296"
      },
      "execution_count": null,
      "outputs": [
        {
          "output_type": "execute_result",
          "data": {
            "text/plain": [
              "                    filename  category\n",
              "0     glass/glass_0_4880.jpg         0\n",
              "1         glass/glass189.jpg         0\n",
              "2     glass/glass_0_5695.jpg         0\n",
              "3         glass/glass325.jpg         0\n",
              "4     glass/glass_0_2254.jpg         0\n",
              "...                      ...       ...\n",
              "3508       trash/trash58.jpg         5\n",
              "3509  trash/trash_0_4846.jpg         5\n",
              "3510       trash/trash74.jpg         5\n",
              "3511  trash/trash_0_5875.jpg         5\n",
              "3512       trash/trash69.jpg         5\n",
              "\n",
              "[3513 rows x 2 columns]"
            ],
            "text/html": [
              "\n",
              "  <div id=\"df-4b5aaafe-14f8-48bf-b856-d62854c5ccb4\">\n",
              "    <div class=\"colab-df-container\">\n",
              "      <div>\n",
              "<style scoped>\n",
              "    .dataframe tbody tr th:only-of-type {\n",
              "        vertical-align: middle;\n",
              "    }\n",
              "\n",
              "    .dataframe tbody tr th {\n",
              "        vertical-align: top;\n",
              "    }\n",
              "\n",
              "    .dataframe thead th {\n",
              "        text-align: right;\n",
              "    }\n",
              "</style>\n",
              "<table border=\"1\" class=\"dataframe\">\n",
              "  <thead>\n",
              "    <tr style=\"text-align: right;\">\n",
              "      <th></th>\n",
              "      <th>filename</th>\n",
              "      <th>category</th>\n",
              "    </tr>\n",
              "  </thead>\n",
              "  <tbody>\n",
              "    <tr>\n",
              "      <th>0</th>\n",
              "      <td>glass/glass_0_4880.jpg</td>\n",
              "      <td>0</td>\n",
              "    </tr>\n",
              "    <tr>\n",
              "      <th>1</th>\n",
              "      <td>glass/glass189.jpg</td>\n",
              "      <td>0</td>\n",
              "    </tr>\n",
              "    <tr>\n",
              "      <th>2</th>\n",
              "      <td>glass/glass_0_5695.jpg</td>\n",
              "      <td>0</td>\n",
              "    </tr>\n",
              "    <tr>\n",
              "      <th>3</th>\n",
              "      <td>glass/glass325.jpg</td>\n",
              "      <td>0</td>\n",
              "    </tr>\n",
              "    <tr>\n",
              "      <th>4</th>\n",
              "      <td>glass/glass_0_2254.jpg</td>\n",
              "      <td>0</td>\n",
              "    </tr>\n",
              "    <tr>\n",
              "      <th>...</th>\n",
              "      <td>...</td>\n",
              "      <td>...</td>\n",
              "    </tr>\n",
              "    <tr>\n",
              "      <th>3508</th>\n",
              "      <td>trash/trash58.jpg</td>\n",
              "      <td>5</td>\n",
              "    </tr>\n",
              "    <tr>\n",
              "      <th>3509</th>\n",
              "      <td>trash/trash_0_4846.jpg</td>\n",
              "      <td>5</td>\n",
              "    </tr>\n",
              "    <tr>\n",
              "      <th>3510</th>\n",
              "      <td>trash/trash74.jpg</td>\n",
              "      <td>5</td>\n",
              "    </tr>\n",
              "    <tr>\n",
              "      <th>3511</th>\n",
              "      <td>trash/trash_0_5875.jpg</td>\n",
              "      <td>5</td>\n",
              "    </tr>\n",
              "    <tr>\n",
              "      <th>3512</th>\n",
              "      <td>trash/trash69.jpg</td>\n",
              "      <td>5</td>\n",
              "    </tr>\n",
              "  </tbody>\n",
              "</table>\n",
              "<p>3513 rows × 2 columns</p>\n",
              "</div>\n",
              "      <button class=\"colab-df-convert\" onclick=\"convertToInteractive('df-4b5aaafe-14f8-48bf-b856-d62854c5ccb4')\"\n",
              "              title=\"Convert this dataframe to an interactive table.\"\n",
              "              style=\"display:none;\">\n",
              "        \n",
              "  <svg xmlns=\"http://www.w3.org/2000/svg\" height=\"24px\"viewBox=\"0 0 24 24\"\n",
              "       width=\"24px\">\n",
              "    <path d=\"M0 0h24v24H0V0z\" fill=\"none\"/>\n",
              "    <path d=\"M18.56 5.44l.94 2.06.94-2.06 2.06-.94-2.06-.94-.94-2.06-.94 2.06-2.06.94zm-11 1L8.5 8.5l.94-2.06 2.06-.94-2.06-.94L8.5 2.5l-.94 2.06-2.06.94zm10 10l.94 2.06.94-2.06 2.06-.94-2.06-.94-.94-2.06-.94 2.06-2.06.94z\"/><path d=\"M17.41 7.96l-1.37-1.37c-.4-.4-.92-.59-1.43-.59-.52 0-1.04.2-1.43.59L10.3 9.45l-7.72 7.72c-.78.78-.78 2.05 0 2.83L4 21.41c.39.39.9.59 1.41.59.51 0 1.02-.2 1.41-.59l7.78-7.78 2.81-2.81c.8-.78.8-2.07 0-2.86zM5.41 20L4 18.59l7.72-7.72 1.47 1.35L5.41 20z\"/>\n",
              "  </svg>\n",
              "      </button>\n",
              "      \n",
              "  <style>\n",
              "    .colab-df-container {\n",
              "      display:flex;\n",
              "      flex-wrap:wrap;\n",
              "      gap: 12px;\n",
              "    }\n",
              "\n",
              "    .colab-df-convert {\n",
              "      background-color: #E8F0FE;\n",
              "      border: none;\n",
              "      border-radius: 50%;\n",
              "      cursor: pointer;\n",
              "      display: none;\n",
              "      fill: #1967D2;\n",
              "      height: 32px;\n",
              "      padding: 0 0 0 0;\n",
              "      width: 32px;\n",
              "    }\n",
              "\n",
              "    .colab-df-convert:hover {\n",
              "      background-color: #E2EBFA;\n",
              "      box-shadow: 0px 1px 2px rgba(60, 64, 67, 0.3), 0px 1px 3px 1px rgba(60, 64, 67, 0.15);\n",
              "      fill: #174EA6;\n",
              "    }\n",
              "\n",
              "    [theme=dark] .colab-df-convert {\n",
              "      background-color: #3B4455;\n",
              "      fill: #D2E3FC;\n",
              "    }\n",
              "\n",
              "    [theme=dark] .colab-df-convert:hover {\n",
              "      background-color: #434B5C;\n",
              "      box-shadow: 0px 1px 3px 1px rgba(0, 0, 0, 0.15);\n",
              "      filter: drop-shadow(0px 1px 2px rgba(0, 0, 0, 0.3));\n",
              "      fill: #FFFFFF;\n",
              "    }\n",
              "  </style>\n",
              "\n",
              "      <script>\n",
              "        const buttonEl =\n",
              "          document.querySelector('#df-4b5aaafe-14f8-48bf-b856-d62854c5ccb4 button.colab-df-convert');\n",
              "        buttonEl.style.display =\n",
              "          google.colab.kernel.accessAllowed ? 'block' : 'none';\n",
              "\n",
              "        async function convertToInteractive(key) {\n",
              "          const element = document.querySelector('#df-4b5aaafe-14f8-48bf-b856-d62854c5ccb4');\n",
              "          const dataTable =\n",
              "            await google.colab.kernel.invokeFunction('convertToInteractive',\n",
              "                                                     [key], {});\n",
              "          if (!dataTable) return;\n",
              "\n",
              "          const docLinkHtml = 'Like what you see? Visit the ' +\n",
              "            '<a target=\"_blank\" href=https://colab.research.google.com/notebooks/data_table.ipynb>data table notebook</a>'\n",
              "            + ' to learn more about interactive tables.';\n",
              "          element.innerHTML = '';\n",
              "          dataTable['output_type'] = 'display_data';\n",
              "          await google.colab.output.renderOutput(dataTable, element);\n",
              "          const docLink = document.createElement('div');\n",
              "          docLink.innerHTML = docLinkHtml;\n",
              "          element.appendChild(docLink);\n",
              "        }\n",
              "      </script>\n",
              "    </div>\n",
              "  </div>\n",
              "  "
            ]
          },
          "metadata": {},
          "execution_count": 13
        }
      ]
    },
    {
      "cell_type": "code",
      "source": [
        "'''\n",
        "# valid dataset\n",
        "\n",
        "# list conatining all the filenames in the dataset\n",
        "filenames_list = []\n",
        "# list to store the corresponding category, note that each folder of the dataset has one class of data\n",
        "categories_list = []\n",
        "\n",
        "for category in categories:\n",
        "    filenames = os.listdir(IMAGES_DIR + categories[category])\n",
        "    filenames_list = filenames_list  + filenames\n",
        "    categories_list = categories_list + [category] * len(filenames)\n",
        "\n",
        "df_valid_new = pd.DataFrame({\n",
        "    'filename': filenames_list,\n",
        "    'category': categories_list\n",
        "})\n",
        "\n",
        "df_valid_new = add_class_name_prefix(df_valid_new, 'filename')\n",
        "'''"
      ],
      "metadata": {
        "id": "LW1DjTywQT5U",
        "colab": {
          "base_uri": "https://localhost:8080/",
          "height": 144
        },
        "outputId": "b79f111f-176c-46f6-f1eb-c450921779a7"
      },
      "execution_count": null,
      "outputs": [
        {
          "output_type": "execute_result",
          "data": {
            "text/plain": [
              "\"\\n# valid dataset\\n\\n# list conatining all the filenames in the dataset\\nfilenames_list = []\\n# list to store the corresponding category, note that each folder of the dataset has one class of data\\ncategories_list = []\\n\\nfor category in categories:\\n    filenames = os.listdir(IMAGES_DIR + categories[category])\\n    filenames_list = filenames_list  + filenames\\n    categories_list = categories_list + [category] * len(filenames)\\n    \\ndf_valid_new = pd.DataFrame({\\n    'filename': filenames_list,\\n    'category': categories_list\\n})\\n\\ndf_valid_new = add_class_name_prefix(df_valid_new, 'filename')\\n\""
            ],
            "application/vnd.google.colaboratory.intrinsic+json": {
              "type": "string"
            }
          },
          "metadata": {},
          "execution_count": 14
        }
      ]
    },
    {
      "cell_type": "code",
      "source": [
        "'''\n",
        "df_valid_new_list = []\n",
        "for i in range(len(df_valid_new['filename'])):\n",
        "  if '_' in df_valid_new['filename'][i]:\n",
        "    df_valid_new_list.append(remove_underscore_before_slash(df_valid_new['filename'][i]))\n",
        "\n",
        "  else:\n",
        "    df_valid_new_list.append(df_valid_new['filename'][i])\n",
        "\n",
        "df_valid_new['filename'] = df_valid_new_list\n",
        "'''"
      ],
      "metadata": {
        "id": "h_Fbht35lR7x",
        "colab": {
          "base_uri": "https://localhost:8080/",
          "height": 90
        },
        "outputId": "e1d07d09-ec55-4837-ef44-6fdc51b8c52a"
      },
      "execution_count": null,
      "outputs": [
        {
          "output_type": "execute_result",
          "data": {
            "text/plain": [
              "\"\\ndf_valid_new_list = []\\nfor i in range(len(df_valid_new['filename'])):\\n  if '_' in df_valid_new['filename'][i]:\\n    df_valid_new_list.append(remove_underscore_before_slash(df_valid_new['filename'][i]))\\n    \\n  else: \\n    df_valid_new_list.append(df_valid_new['filename'][i])\\n\\ndf_valid_new['filename'] = df_valid_new_list\\n\""
            ],
            "application/vnd.google.colaboratory.intrinsic+json": {
              "type": "string"
            }
          },
          "metadata": {},
          "execution_count": 15
        }
      ]
    },
    {
      "cell_type": "code",
      "source": [
        "'''\n",
        "# test dataset\n",
        "\n",
        "# list conatining all the filenames in the dataset\n",
        "filenames_list = []\n",
        "# list to store the corresponding category, note that each folder of the dataset has one class of data\n",
        "categories_list = []\n",
        "\n",
        "for category in categories:\n",
        "    filenames = os.listdir('/content/drive/MyDrive/Colab_Notebooks/Data_driven_AI/input/augmentation_data/test/' + categories[category])\n",
        "    filenames_list = filenames_list  + filenames\n",
        "    categories_list = categories_list + [category] * len(filenames)\n",
        "\n",
        "df_test_new = pd.DataFrame({\n",
        "    'filename': filenames_list,\n",
        "    'category': categories_list\n",
        "})\n",
        "\n",
        "df_test_new = add_class_name_prefix(df_test_new, 'filename')\n",
        "'''"
      ],
      "metadata": {
        "id": "3-ZKC4l0QGQf",
        "colab": {
          "base_uri": "https://localhost:8080/",
          "height": 145
        },
        "outputId": "09af5eb8-9342-46ad-e6d8-8e3f356d0ebe"
      },
      "execution_count": null,
      "outputs": [
        {
          "output_type": "execute_result",
          "data": {
            "text/plain": [
              "\"\\n# test dataset\\n\\n# list conatining all the filenames in the dataset\\nfilenames_list = []\\n# list to store the corresponding category, note that each folder of the dataset has one class of data\\ncategories_list = []\\n\\nfor category in categories:\\n    filenames = os.listdir('/content/drive/MyDrive/Colab_Notebooks/Data_driven_AI/input/augmentation_data/test/' + categories[category])\\n    filenames_list = filenames_list  + filenames\\n    categories_list = categories_list + [category] * len(filenames)\\n    \\ndf_test_new = pd.DataFrame({\\n    'filename': filenames_list,\\n    'category': categories_list\\n})\\n\\ndf_test_new = add_class_name_prefix(df_test_new, 'filename')\\n\""
            ],
            "application/vnd.google.colaboratory.intrinsic+json": {
              "type": "string"
            }
          },
          "metadata": {},
          "execution_count": 16
        }
      ]
    },
    {
      "cell_type": "code",
      "source": [
        "'''\n",
        "df_test_new_list = []\n",
        "for i in range(len(df_test_new['filename'])):\n",
        "  if '_' in df_test_new['filename'][i]:\n",
        "    df_test_new_list.append(remove_underscore_before_slash(df_test_new['filename'][i]))\n",
        "\n",
        "  else:\n",
        "    df_test_new_list.append(df_test_new['filename'][i])\n",
        "\n",
        "df_test_new['filename'] = df_test_new_list\n",
        "'''"
      ],
      "metadata": {
        "id": "5pr3B6i8lqcF",
        "colab": {
          "base_uri": "https://localhost:8080/",
          "height": 90
        },
        "outputId": "95fa1eb4-2aee-4ed8-f88e-d5411bea1a00"
      },
      "execution_count": null,
      "outputs": [
        {
          "output_type": "execute_result",
          "data": {
            "text/plain": [
              "\"\\ndf_test_new_list = []\\nfor i in range(len(df_test_new['filename'])):\\n  if '_' in df_test_new['filename'][i]:\\n    df_test_new_list.append(remove_underscore_before_slash(df_test_new['filename'][i]))\\n    \\n  else: \\n    df_test_new_list.append(df_test_new['filename'][i])\\n\\ndf_test_new['filename'] = df_test_new_list\\n\""
            ],
            "application/vnd.google.colaboratory.intrinsic+json": {
              "type": "string"
            }
          },
          "metadata": {},
          "execution_count": 17
        }
      ]
    },
    {
      "cell_type": "code",
      "source": [
        "print(f'Found {len(df_train_new)} train, {len(df_valid)} validation and {len(df_test)} test.')"
      ],
      "metadata": {
        "colab": {
          "base_uri": "https://localhost:8080/"
        },
        "id": "r7UK1tNLRj1V",
        "outputId": "38dd46d8-86c9-413a-baea-02bbab808c0a"
      },
      "execution_count": null,
      "outputs": [
        {
          "output_type": "stream",
          "name": "stdout",
          "text": [
            "Found 3513 train, 328 validation and 431 test.\n"
          ]
        }
      ]
    },
    {
      "cell_type": "code",
      "source": [
        "import pandas as pd\n",
        "df_test.sort_values('category')"
      ],
      "metadata": {
        "colab": {
          "base_uri": "https://localhost:8080/",
          "height": 423
        },
        "id": "JzWLB3p2q0pe",
        "outputId": "b9ce3ff6-8e20-406c-a25f-38d3fd632433"
      },
      "execution_count": null,
      "outputs": [
        {
          "output_type": "execute_result",
          "data": {
            "text/plain": [
              "               filename  category category_str\n",
              "314  glass/glass148.jpg         0        glass\n",
              "280  glass/glass139.jpg         0        glass\n",
              "137  glass/glass297.jpg         0        glass\n",
              "288  glass/glass426.jpg         0        glass\n",
              "133   glass/glass59.jpg         0        glass\n",
              "..                  ...       ...          ...\n",
              "366  trash/trash109.jpg         5        trash\n",
              "55    trash/trash29.jpg         5        trash\n",
              "42    trash/trash46.jpg         5        trash\n",
              "309   trash/trash93.jpg         5        trash\n",
              "430  trash/trash132.jpg         5        trash\n",
              "\n",
              "[431 rows x 3 columns]"
            ],
            "text/html": [
              "\n",
              "  <div id=\"df-78b7b14f-81eb-4e52-be52-18c7113f1d46\">\n",
              "    <div class=\"colab-df-container\">\n",
              "      <div>\n",
              "<style scoped>\n",
              "    .dataframe tbody tr th:only-of-type {\n",
              "        vertical-align: middle;\n",
              "    }\n",
              "\n",
              "    .dataframe tbody tr th {\n",
              "        vertical-align: top;\n",
              "    }\n",
              "\n",
              "    .dataframe thead th {\n",
              "        text-align: right;\n",
              "    }\n",
              "</style>\n",
              "<table border=\"1\" class=\"dataframe\">\n",
              "  <thead>\n",
              "    <tr style=\"text-align: right;\">\n",
              "      <th></th>\n",
              "      <th>filename</th>\n",
              "      <th>category</th>\n",
              "      <th>category_str</th>\n",
              "    </tr>\n",
              "  </thead>\n",
              "  <tbody>\n",
              "    <tr>\n",
              "      <th>314</th>\n",
              "      <td>glass/glass148.jpg</td>\n",
              "      <td>0</td>\n",
              "      <td>glass</td>\n",
              "    </tr>\n",
              "    <tr>\n",
              "      <th>280</th>\n",
              "      <td>glass/glass139.jpg</td>\n",
              "      <td>0</td>\n",
              "      <td>glass</td>\n",
              "    </tr>\n",
              "    <tr>\n",
              "      <th>137</th>\n",
              "      <td>glass/glass297.jpg</td>\n",
              "      <td>0</td>\n",
              "      <td>glass</td>\n",
              "    </tr>\n",
              "    <tr>\n",
              "      <th>288</th>\n",
              "      <td>glass/glass426.jpg</td>\n",
              "      <td>0</td>\n",
              "      <td>glass</td>\n",
              "    </tr>\n",
              "    <tr>\n",
              "      <th>133</th>\n",
              "      <td>glass/glass59.jpg</td>\n",
              "      <td>0</td>\n",
              "      <td>glass</td>\n",
              "    </tr>\n",
              "    <tr>\n",
              "      <th>...</th>\n",
              "      <td>...</td>\n",
              "      <td>...</td>\n",
              "      <td>...</td>\n",
              "    </tr>\n",
              "    <tr>\n",
              "      <th>366</th>\n",
              "      <td>trash/trash109.jpg</td>\n",
              "      <td>5</td>\n",
              "      <td>trash</td>\n",
              "    </tr>\n",
              "    <tr>\n",
              "      <th>55</th>\n",
              "      <td>trash/trash29.jpg</td>\n",
              "      <td>5</td>\n",
              "      <td>trash</td>\n",
              "    </tr>\n",
              "    <tr>\n",
              "      <th>42</th>\n",
              "      <td>trash/trash46.jpg</td>\n",
              "      <td>5</td>\n",
              "      <td>trash</td>\n",
              "    </tr>\n",
              "    <tr>\n",
              "      <th>309</th>\n",
              "      <td>trash/trash93.jpg</td>\n",
              "      <td>5</td>\n",
              "      <td>trash</td>\n",
              "    </tr>\n",
              "    <tr>\n",
              "      <th>430</th>\n",
              "      <td>trash/trash132.jpg</td>\n",
              "      <td>5</td>\n",
              "      <td>trash</td>\n",
              "    </tr>\n",
              "  </tbody>\n",
              "</table>\n",
              "<p>431 rows × 3 columns</p>\n",
              "</div>\n",
              "      <button class=\"colab-df-convert\" onclick=\"convertToInteractive('df-78b7b14f-81eb-4e52-be52-18c7113f1d46')\"\n",
              "              title=\"Convert this dataframe to an interactive table.\"\n",
              "              style=\"display:none;\">\n",
              "        \n",
              "  <svg xmlns=\"http://www.w3.org/2000/svg\" height=\"24px\"viewBox=\"0 0 24 24\"\n",
              "       width=\"24px\">\n",
              "    <path d=\"M0 0h24v24H0V0z\" fill=\"none\"/>\n",
              "    <path d=\"M18.56 5.44l.94 2.06.94-2.06 2.06-.94-2.06-.94-.94-2.06-.94 2.06-2.06.94zm-11 1L8.5 8.5l.94-2.06 2.06-.94-2.06-.94L8.5 2.5l-.94 2.06-2.06.94zm10 10l.94 2.06.94-2.06 2.06-.94-2.06-.94-.94-2.06-.94 2.06-2.06.94z\"/><path d=\"M17.41 7.96l-1.37-1.37c-.4-.4-.92-.59-1.43-.59-.52 0-1.04.2-1.43.59L10.3 9.45l-7.72 7.72c-.78.78-.78 2.05 0 2.83L4 21.41c.39.39.9.59 1.41.59.51 0 1.02-.2 1.41-.59l7.78-7.78 2.81-2.81c.8-.78.8-2.07 0-2.86zM5.41 20L4 18.59l7.72-7.72 1.47 1.35L5.41 20z\"/>\n",
              "  </svg>\n",
              "      </button>\n",
              "      \n",
              "  <style>\n",
              "    .colab-df-container {\n",
              "      display:flex;\n",
              "      flex-wrap:wrap;\n",
              "      gap: 12px;\n",
              "    }\n",
              "\n",
              "    .colab-df-convert {\n",
              "      background-color: #E8F0FE;\n",
              "      border: none;\n",
              "      border-radius: 50%;\n",
              "      cursor: pointer;\n",
              "      display: none;\n",
              "      fill: #1967D2;\n",
              "      height: 32px;\n",
              "      padding: 0 0 0 0;\n",
              "      width: 32px;\n",
              "    }\n",
              "\n",
              "    .colab-df-convert:hover {\n",
              "      background-color: #E2EBFA;\n",
              "      box-shadow: 0px 1px 2px rgba(60, 64, 67, 0.3), 0px 1px 3px 1px rgba(60, 64, 67, 0.15);\n",
              "      fill: #174EA6;\n",
              "    }\n",
              "\n",
              "    [theme=dark] .colab-df-convert {\n",
              "      background-color: #3B4455;\n",
              "      fill: #D2E3FC;\n",
              "    }\n",
              "\n",
              "    [theme=dark] .colab-df-convert:hover {\n",
              "      background-color: #434B5C;\n",
              "      box-shadow: 0px 1px 3px 1px rgba(0, 0, 0, 0.15);\n",
              "      filter: drop-shadow(0px 1px 2px rgba(0, 0, 0, 0.3));\n",
              "      fill: #FFFFFF;\n",
              "    }\n",
              "  </style>\n",
              "\n",
              "      <script>\n",
              "        const buttonEl =\n",
              "          document.querySelector('#df-78b7b14f-81eb-4e52-be52-18c7113f1d46 button.colab-df-convert');\n",
              "        buttonEl.style.display =\n",
              "          google.colab.kernel.accessAllowed ? 'block' : 'none';\n",
              "\n",
              "        async function convertToInteractive(key) {\n",
              "          const element = document.querySelector('#df-78b7b14f-81eb-4e52-be52-18c7113f1d46');\n",
              "          const dataTable =\n",
              "            await google.colab.kernel.invokeFunction('convertToInteractive',\n",
              "                                                     [key], {});\n",
              "          if (!dataTable) return;\n",
              "\n",
              "          const docLinkHtml = 'Like what you see? Visit the ' +\n",
              "            '<a target=\"_blank\" href=https://colab.research.google.com/notebooks/data_table.ipynb>data table notebook</a>'\n",
              "            + ' to learn more about interactive tables.';\n",
              "          element.innerHTML = '';\n",
              "          dataTable['output_type'] = 'display_data';\n",
              "          await google.colab.output.renderOutput(dataTable, element);\n",
              "          const docLink = document.createElement('div');\n",
              "          docLink.innerHTML = docLinkHtml;\n",
              "          element.appendChild(docLink);\n",
              "        }\n",
              "      </script>\n",
              "    </div>\n",
              "  </div>\n",
              "  "
            ]
          },
          "metadata": {},
          "execution_count": 19
        }
      ]
    },
    {
      "cell_type": "code",
      "source": [
        "# 데이터셋 순서 섞기\n",
        "\n",
        "def df_suffled(df):\n",
        "  return(df.sample(frac=1).reset_index(drop=True))\n",
        "\n",
        "df_train_new = df_suffled(df_train_new)\n",
        "df_valid = df_suffled(df_valid)\n",
        "df_test = df_suffled(df_test)"
      ],
      "metadata": {
        "id": "P8td3t6-yGf8"
      },
      "execution_count": null,
      "outputs": []
    },
    {
      "cell_type": "code",
      "source": [
        "df_train_new = df_train_new[0:2200]\n",
        "df_train_new"
      ],
      "metadata": {
        "colab": {
          "base_uri": "https://localhost:8080/",
          "height": 423
        },
        "id": "gF2YqiyaBdbH",
        "outputId": "042f6021-7951-4338-b03b-7999e3d68603"
      },
      "execution_count": null,
      "outputs": [
        {
          "output_type": "execute_result",
          "data": {
            "text/plain": [
              "                            filename  category\n",
              "0             glass/glass_0_8006.jpg         0\n",
              "1             glass/glass_0_7738.jpg         0\n",
              "2             glass/glass_0_4779.jpg         0\n",
              "3             trash/trash_0_7636.jpg         5\n",
              "4                  trash/trash22.jpg         5\n",
              "...                              ...       ...\n",
              "2195  cardboard/cardboard_0_2553.jpg         2\n",
              "2196          plastic/plastic197.jpg         3\n",
              "2197          paper/paper_0_3748.jpg         1\n",
              "2198           glass/glass_0_300.jpg         0\n",
              "2199  cardboard/cardboard_0_6223.jpg         2\n",
              "\n",
              "[2200 rows x 2 columns]"
            ],
            "text/html": [
              "\n",
              "  <div id=\"df-726d4f6d-7877-4e47-8891-d7c38c731837\">\n",
              "    <div class=\"colab-df-container\">\n",
              "      <div>\n",
              "<style scoped>\n",
              "    .dataframe tbody tr th:only-of-type {\n",
              "        vertical-align: middle;\n",
              "    }\n",
              "\n",
              "    .dataframe tbody tr th {\n",
              "        vertical-align: top;\n",
              "    }\n",
              "\n",
              "    .dataframe thead th {\n",
              "        text-align: right;\n",
              "    }\n",
              "</style>\n",
              "<table border=\"1\" class=\"dataframe\">\n",
              "  <thead>\n",
              "    <tr style=\"text-align: right;\">\n",
              "      <th></th>\n",
              "      <th>filename</th>\n",
              "      <th>category</th>\n",
              "    </tr>\n",
              "  </thead>\n",
              "  <tbody>\n",
              "    <tr>\n",
              "      <th>0</th>\n",
              "      <td>glass/glass_0_8006.jpg</td>\n",
              "      <td>0</td>\n",
              "    </tr>\n",
              "    <tr>\n",
              "      <th>1</th>\n",
              "      <td>glass/glass_0_7738.jpg</td>\n",
              "      <td>0</td>\n",
              "    </tr>\n",
              "    <tr>\n",
              "      <th>2</th>\n",
              "      <td>glass/glass_0_4779.jpg</td>\n",
              "      <td>0</td>\n",
              "    </tr>\n",
              "    <tr>\n",
              "      <th>3</th>\n",
              "      <td>trash/trash_0_7636.jpg</td>\n",
              "      <td>5</td>\n",
              "    </tr>\n",
              "    <tr>\n",
              "      <th>4</th>\n",
              "      <td>trash/trash22.jpg</td>\n",
              "      <td>5</td>\n",
              "    </tr>\n",
              "    <tr>\n",
              "      <th>...</th>\n",
              "      <td>...</td>\n",
              "      <td>...</td>\n",
              "    </tr>\n",
              "    <tr>\n",
              "      <th>2195</th>\n",
              "      <td>cardboard/cardboard_0_2553.jpg</td>\n",
              "      <td>2</td>\n",
              "    </tr>\n",
              "    <tr>\n",
              "      <th>2196</th>\n",
              "      <td>plastic/plastic197.jpg</td>\n",
              "      <td>3</td>\n",
              "    </tr>\n",
              "    <tr>\n",
              "      <th>2197</th>\n",
              "      <td>paper/paper_0_3748.jpg</td>\n",
              "      <td>1</td>\n",
              "    </tr>\n",
              "    <tr>\n",
              "      <th>2198</th>\n",
              "      <td>glass/glass_0_300.jpg</td>\n",
              "      <td>0</td>\n",
              "    </tr>\n",
              "    <tr>\n",
              "      <th>2199</th>\n",
              "      <td>cardboard/cardboard_0_6223.jpg</td>\n",
              "      <td>2</td>\n",
              "    </tr>\n",
              "  </tbody>\n",
              "</table>\n",
              "<p>2200 rows × 2 columns</p>\n",
              "</div>\n",
              "      <button class=\"colab-df-convert\" onclick=\"convertToInteractive('df-726d4f6d-7877-4e47-8891-d7c38c731837')\"\n",
              "              title=\"Convert this dataframe to an interactive table.\"\n",
              "              style=\"display:none;\">\n",
              "        \n",
              "  <svg xmlns=\"http://www.w3.org/2000/svg\" height=\"24px\"viewBox=\"0 0 24 24\"\n",
              "       width=\"24px\">\n",
              "    <path d=\"M0 0h24v24H0V0z\" fill=\"none\"/>\n",
              "    <path d=\"M18.56 5.44l.94 2.06.94-2.06 2.06-.94-2.06-.94-.94-2.06-.94 2.06-2.06.94zm-11 1L8.5 8.5l.94-2.06 2.06-.94-2.06-.94L8.5 2.5l-.94 2.06-2.06.94zm10 10l.94 2.06.94-2.06 2.06-.94-2.06-.94-.94-2.06-.94 2.06-2.06.94z\"/><path d=\"M17.41 7.96l-1.37-1.37c-.4-.4-.92-.59-1.43-.59-.52 0-1.04.2-1.43.59L10.3 9.45l-7.72 7.72c-.78.78-.78 2.05 0 2.83L4 21.41c.39.39.9.59 1.41.59.51 0 1.02-.2 1.41-.59l7.78-7.78 2.81-2.81c.8-.78.8-2.07 0-2.86zM5.41 20L4 18.59l7.72-7.72 1.47 1.35L5.41 20z\"/>\n",
              "  </svg>\n",
              "      </button>\n",
              "      \n",
              "  <style>\n",
              "    .colab-df-container {\n",
              "      display:flex;\n",
              "      flex-wrap:wrap;\n",
              "      gap: 12px;\n",
              "    }\n",
              "\n",
              "    .colab-df-convert {\n",
              "      background-color: #E8F0FE;\n",
              "      border: none;\n",
              "      border-radius: 50%;\n",
              "      cursor: pointer;\n",
              "      display: none;\n",
              "      fill: #1967D2;\n",
              "      height: 32px;\n",
              "      padding: 0 0 0 0;\n",
              "      width: 32px;\n",
              "    }\n",
              "\n",
              "    .colab-df-convert:hover {\n",
              "      background-color: #E2EBFA;\n",
              "      box-shadow: 0px 1px 2px rgba(60, 64, 67, 0.3), 0px 1px 3px 1px rgba(60, 64, 67, 0.15);\n",
              "      fill: #174EA6;\n",
              "    }\n",
              "\n",
              "    [theme=dark] .colab-df-convert {\n",
              "      background-color: #3B4455;\n",
              "      fill: #D2E3FC;\n",
              "    }\n",
              "\n",
              "    [theme=dark] .colab-df-convert:hover {\n",
              "      background-color: #434B5C;\n",
              "      box-shadow: 0px 1px 3px 1px rgba(0, 0, 0, 0.15);\n",
              "      filter: drop-shadow(0px 1px 2px rgba(0, 0, 0, 0.3));\n",
              "      fill: #FFFFFF;\n",
              "    }\n",
              "  </style>\n",
              "\n",
              "      <script>\n",
              "        const buttonEl =\n",
              "          document.querySelector('#df-726d4f6d-7877-4e47-8891-d7c38c731837 button.colab-df-convert');\n",
              "        buttonEl.style.display =\n",
              "          google.colab.kernel.accessAllowed ? 'block' : 'none';\n",
              "\n",
              "        async function convertToInteractive(key) {\n",
              "          const element = document.querySelector('#df-726d4f6d-7877-4e47-8891-d7c38c731837');\n",
              "          const dataTable =\n",
              "            await google.colab.kernel.invokeFunction('convertToInteractive',\n",
              "                                                     [key], {});\n",
              "          if (!dataTable) return;\n",
              "\n",
              "          const docLinkHtml = 'Like what you see? Visit the ' +\n",
              "            '<a target=\"_blank\" href=https://colab.research.google.com/notebooks/data_table.ipynb>data table notebook</a>'\n",
              "            + ' to learn more about interactive tables.';\n",
              "          element.innerHTML = '';\n",
              "          dataTable['output_type'] = 'display_data';\n",
              "          await google.colab.output.renderOutput(dataTable, element);\n",
              "          const docLink = document.createElement('div');\n",
              "          docLink.innerHTML = docLinkHtml;\n",
              "          element.appendChild(docLink);\n",
              "        }\n",
              "      </script>\n",
              "    </div>\n",
              "  </div>\n",
              "  "
            ]
          },
          "metadata": {},
          "execution_count": 21
        }
      ]
    },
    {
      "cell_type": "code",
      "source": [
        "df_train_new"
      ],
      "metadata": {
        "colab": {
          "base_uri": "https://localhost:8080/",
          "height": 423
        },
        "id": "w0sWFpXryylZ",
        "outputId": "85468fa7-db05-4455-cc8e-6b6028688f7c"
      },
      "execution_count": null,
      "outputs": [
        {
          "output_type": "execute_result",
          "data": {
            "text/plain": [
              "                            filename  category\n",
              "0             glass/glass_0_8006.jpg         0\n",
              "1             glass/glass_0_7738.jpg         0\n",
              "2             glass/glass_0_4779.jpg         0\n",
              "3             trash/trash_0_7636.jpg         5\n",
              "4                  trash/trash22.jpg         5\n",
              "...                              ...       ...\n",
              "2195  cardboard/cardboard_0_2553.jpg         2\n",
              "2196          plastic/plastic197.jpg         3\n",
              "2197          paper/paper_0_3748.jpg         1\n",
              "2198           glass/glass_0_300.jpg         0\n",
              "2199  cardboard/cardboard_0_6223.jpg         2\n",
              "\n",
              "[2200 rows x 2 columns]"
            ],
            "text/html": [
              "\n",
              "  <div id=\"df-0a33f5ed-ddc8-4061-8df0-833e048aa4a3\">\n",
              "    <div class=\"colab-df-container\">\n",
              "      <div>\n",
              "<style scoped>\n",
              "    .dataframe tbody tr th:only-of-type {\n",
              "        vertical-align: middle;\n",
              "    }\n",
              "\n",
              "    .dataframe tbody tr th {\n",
              "        vertical-align: top;\n",
              "    }\n",
              "\n",
              "    .dataframe thead th {\n",
              "        text-align: right;\n",
              "    }\n",
              "</style>\n",
              "<table border=\"1\" class=\"dataframe\">\n",
              "  <thead>\n",
              "    <tr style=\"text-align: right;\">\n",
              "      <th></th>\n",
              "      <th>filename</th>\n",
              "      <th>category</th>\n",
              "    </tr>\n",
              "  </thead>\n",
              "  <tbody>\n",
              "    <tr>\n",
              "      <th>0</th>\n",
              "      <td>glass/glass_0_8006.jpg</td>\n",
              "      <td>0</td>\n",
              "    </tr>\n",
              "    <tr>\n",
              "      <th>1</th>\n",
              "      <td>glass/glass_0_7738.jpg</td>\n",
              "      <td>0</td>\n",
              "    </tr>\n",
              "    <tr>\n",
              "      <th>2</th>\n",
              "      <td>glass/glass_0_4779.jpg</td>\n",
              "      <td>0</td>\n",
              "    </tr>\n",
              "    <tr>\n",
              "      <th>3</th>\n",
              "      <td>trash/trash_0_7636.jpg</td>\n",
              "      <td>5</td>\n",
              "    </tr>\n",
              "    <tr>\n",
              "      <th>4</th>\n",
              "      <td>trash/trash22.jpg</td>\n",
              "      <td>5</td>\n",
              "    </tr>\n",
              "    <tr>\n",
              "      <th>...</th>\n",
              "      <td>...</td>\n",
              "      <td>...</td>\n",
              "    </tr>\n",
              "    <tr>\n",
              "      <th>2195</th>\n",
              "      <td>cardboard/cardboard_0_2553.jpg</td>\n",
              "      <td>2</td>\n",
              "    </tr>\n",
              "    <tr>\n",
              "      <th>2196</th>\n",
              "      <td>plastic/plastic197.jpg</td>\n",
              "      <td>3</td>\n",
              "    </tr>\n",
              "    <tr>\n",
              "      <th>2197</th>\n",
              "      <td>paper/paper_0_3748.jpg</td>\n",
              "      <td>1</td>\n",
              "    </tr>\n",
              "    <tr>\n",
              "      <th>2198</th>\n",
              "      <td>glass/glass_0_300.jpg</td>\n",
              "      <td>0</td>\n",
              "    </tr>\n",
              "    <tr>\n",
              "      <th>2199</th>\n",
              "      <td>cardboard/cardboard_0_6223.jpg</td>\n",
              "      <td>2</td>\n",
              "    </tr>\n",
              "  </tbody>\n",
              "</table>\n",
              "<p>2200 rows × 2 columns</p>\n",
              "</div>\n",
              "      <button class=\"colab-df-convert\" onclick=\"convertToInteractive('df-0a33f5ed-ddc8-4061-8df0-833e048aa4a3')\"\n",
              "              title=\"Convert this dataframe to an interactive table.\"\n",
              "              style=\"display:none;\">\n",
              "        \n",
              "  <svg xmlns=\"http://www.w3.org/2000/svg\" height=\"24px\"viewBox=\"0 0 24 24\"\n",
              "       width=\"24px\">\n",
              "    <path d=\"M0 0h24v24H0V0z\" fill=\"none\"/>\n",
              "    <path d=\"M18.56 5.44l.94 2.06.94-2.06 2.06-.94-2.06-.94-.94-2.06-.94 2.06-2.06.94zm-11 1L8.5 8.5l.94-2.06 2.06-.94-2.06-.94L8.5 2.5l-.94 2.06-2.06.94zm10 10l.94 2.06.94-2.06 2.06-.94-2.06-.94-.94-2.06-.94 2.06-2.06.94z\"/><path d=\"M17.41 7.96l-1.37-1.37c-.4-.4-.92-.59-1.43-.59-.52 0-1.04.2-1.43.59L10.3 9.45l-7.72 7.72c-.78.78-.78 2.05 0 2.83L4 21.41c.39.39.9.59 1.41.59.51 0 1.02-.2 1.41-.59l7.78-7.78 2.81-2.81c.8-.78.8-2.07 0-2.86zM5.41 20L4 18.59l7.72-7.72 1.47 1.35L5.41 20z\"/>\n",
              "  </svg>\n",
              "      </button>\n",
              "      \n",
              "  <style>\n",
              "    .colab-df-container {\n",
              "      display:flex;\n",
              "      flex-wrap:wrap;\n",
              "      gap: 12px;\n",
              "    }\n",
              "\n",
              "    .colab-df-convert {\n",
              "      background-color: #E8F0FE;\n",
              "      border: none;\n",
              "      border-radius: 50%;\n",
              "      cursor: pointer;\n",
              "      display: none;\n",
              "      fill: #1967D2;\n",
              "      height: 32px;\n",
              "      padding: 0 0 0 0;\n",
              "      width: 32px;\n",
              "    }\n",
              "\n",
              "    .colab-df-convert:hover {\n",
              "      background-color: #E2EBFA;\n",
              "      box-shadow: 0px 1px 2px rgba(60, 64, 67, 0.3), 0px 1px 3px 1px rgba(60, 64, 67, 0.15);\n",
              "      fill: #174EA6;\n",
              "    }\n",
              "\n",
              "    [theme=dark] .colab-df-convert {\n",
              "      background-color: #3B4455;\n",
              "      fill: #D2E3FC;\n",
              "    }\n",
              "\n",
              "    [theme=dark] .colab-df-convert:hover {\n",
              "      background-color: #434B5C;\n",
              "      box-shadow: 0px 1px 3px 1px rgba(0, 0, 0, 0.15);\n",
              "      filter: drop-shadow(0px 1px 2px rgba(0, 0, 0, 0.3));\n",
              "      fill: #FFFFFF;\n",
              "    }\n",
              "  </style>\n",
              "\n",
              "      <script>\n",
              "        const buttonEl =\n",
              "          document.querySelector('#df-0a33f5ed-ddc8-4061-8df0-833e048aa4a3 button.colab-df-convert');\n",
              "        buttonEl.style.display =\n",
              "          google.colab.kernel.accessAllowed ? 'block' : 'none';\n",
              "\n",
              "        async function convertToInteractive(key) {\n",
              "          const element = document.querySelector('#df-0a33f5ed-ddc8-4061-8df0-833e048aa4a3');\n",
              "          const dataTable =\n",
              "            await google.colab.kernel.invokeFunction('convertToInteractive',\n",
              "                                                     [key], {});\n",
              "          if (!dataTable) return;\n",
              "\n",
              "          const docLinkHtml = 'Like what you see? Visit the ' +\n",
              "            '<a target=\"_blank\" href=https://colab.research.google.com/notebooks/data_table.ipynb>data table notebook</a>'\n",
              "            + ' to learn more about interactive tables.';\n",
              "          element.innerHTML = '';\n",
              "          dataTable['output_type'] = 'display_data';\n",
              "          await google.colab.output.renderOutput(dataTable, element);\n",
              "          const docLink = document.createElement('div');\n",
              "          docLink.innerHTML = docLinkHtml;\n",
              "          element.appendChild(docLink);\n",
              "        }\n",
              "      </script>\n",
              "    </div>\n",
              "  </div>\n",
              "  "
            ]
          },
          "metadata": {},
          "execution_count": 22
        }
      ]
    },
    {
      "cell_type": "code",
      "source": [
        "# X dataset 생성: image를 array 형식으로 만들기\n",
        "# X_train, X_valid, X_test\n",
        "\n",
        "from tensorflow.python.ops.math_ops import Xdivy\n",
        "import numpy as np\n",
        "from PIL import Image\n",
        "\n",
        "# X_train\n",
        "X_train = []\n",
        "for i in range(len(df_train_new['filename'])):\n",
        "  path = os.path.join('/content/drive/MyDrive/Colab_Notebooks/Data_driven_AI/input/augmentation_data/train/' + df_train_new['filename'][i])\n",
        "  img = Image.open(path)\n",
        "  img = img.resize((224,224),Image.ANTIALIAS)\n",
        "  x = np.array(img)\n",
        "\n",
        "  X_train.append(x)\n",
        "\n",
        "img_2 = Image.fromarray(X_train[0]) # NumPy array to PIL image\n",
        "img_2.show()"
      ],
      "metadata": {
        "colab": {
          "base_uri": "https://localhost:8080/",
          "height": 241
        },
        "id": "WcCFzBRuFSYh",
        "outputId": "a625f8b6-435c-4685-d03a-1b8846a7595d"
      },
      "execution_count": null,
      "outputs": [
        {
          "output_type": "display_data",
          "data": {
            "text/plain": [
              "<PIL.Image.Image image mode=RGB size=224x224 at 0x7F8D89AB9BA0>"
            ],
            "image/png": "[encoded data removed]"
          },
          "metadata": {}
        }
      ]
    },
    {
      "cell_type": "code",
      "source": [
        "# X_valid\n",
        "X_valid = []\n",
        "for i in range(len(df_valid['filename'])):\n",
        "  path = os.path.join(IMAGES_DIR + df_valid['filename'][i])\n",
        "  img = Image.open(path)\n",
        "  img = img.resize((224,224),Image.ANTIALIAS)\n",
        "  x = np.array(img)\n",
        "\n",
        "  X_valid.append(x)\n",
        "\n",
        "img_2 = Image.fromarray(X_valid[0]) # NumPy array to PIL image\n",
        "img_2.show()"
      ],
      "metadata": {
        "colab": {
          "base_uri": "https://localhost:8080/",
          "height": 241
        },
        "id": "TN6uFAuk4srY",
        "outputId": "78797860-19fa-4e9d-afea-1df50587613b"
      },
      "execution_count": null,
      "outputs": [
        {
          "output_type": "display_data",
          "data": {
            "text/plain": [
              "<PIL.Image.Image image mode=RGB size=224x224 at 0x7F8D89D6B850>"
            ],
            "image/png": "[encoded data removed]"
          },
          "metadata": {}
        }
      ]
    },
    {
      "cell_type": "code",
      "source": [
        "# X_test\n",
        "X_test = []\n",
        "for i in range(len(df_test['filename'])):\n",
        "  path = os.path.join(IMAGES_DIR + df_test['filename'][i])\n",
        "  img = Image.open(path)\n",
        "  img = img.resize((224,224),Image.ANTIALIAS)\n",
        "  x = np.array(img)\n",
        "\n",
        "  X_test.append(x)\n",
        "\n",
        "img_2 = Image.fromarray(X_test[0]) # NumPy array to PIL image\n",
        "img_2.show()"
      ],
      "metadata": {
        "colab": {
          "base_uri": "https://localhost:8080/",
          "height": 241
        },
        "id": "sqRGHNXh5PVS",
        "outputId": "0e75ee56-c9b2-4be2-f713-9445715408c7"
      },
      "execution_count": null,
      "outputs": [
        {
          "output_type": "display_data",
          "data": {
            "text/plain": [
              "<PIL.Image.Image image mode=RGB size=224x224 at 0x7F8D89ABBD00>"
            ],
            "image/png": "[encoded data removed]"
          },
          "metadata": {}
        }
      ]
    },
    {
      "cell_type": "code",
      "source": [
        "# Y dataset 생성\n",
        "# Y_train, Y_valid, Y_test\n",
        "\n",
        "# Y_train\n",
        "Y_train = []\n",
        "for i in range(len(df_train_new['filename'])):\n",
        "  Y_train.append(df_train_new['category'][i])\n",
        "\n",
        "print(Y_train)\n",
        "print(len(Y_train))\n",
        "\n",
        "# Y_valid\n",
        "Y_valid = []\n",
        "for i in range(len(df_valid['filename'])):\n",
        "  Y_valid.append(df_valid['category'][i])\n",
        "\n",
        "print(Y_valid)\n",
        "print(len(Y_valid))\n",
        "\n",
        "# Y_test\n",
        "Y_test = []\n",
        "for i in range(len(df_test['filename'])):\n",
        "  Y_test.append(df_test['category'][i])\n",
        "\n",
        "print(Y_test)\n",
        "print(len(Y_test))\n"
      ],
      "metadata": {
        "colab": {
          "base_uri": "https://localhost:8080/"
        },
        "id": "Pyr19qlP5PX3",
        "outputId": "24759ddd-94c3-4356-bc40-eba459b54911"
      },
      "execution_count": null,
      "outputs": [
        {
          "output_type": "stream",
          "name": "stdout",
          "text": [
            "[0, 0, 0, 5, 5, 3, 3, 1, 4, 1, 4, 3, 1, 2, 3, 0, 2, 3, 4, 3, 1, 1, 3, 5, 5, 2, 1, 4, 1, 4, 2, 0, 2, 3, 0, 2, 3, 1, 4, 4, 1, 1, 4, 2, 2, 0, 1, 2, 0, 3, 1, 3, 2, 3, 1, 3, 1, 2, 1, 4, 1, 3, 3, 0, 0, 1, 2, 4, 4, 3, 2, 1, 3, 2, 2, 3, 4, 2, 0, 1, 1, 1, 2, 1, 0, 1, 1, 1, 1, 4, 0, 2, 0, 0, 3, 2, 0, 5, 3, 1, 3, 4, 1, 4, 0, 3, 4, 2, 2, 3, 1, 0, 0, 4, 0, 4, 4, 0, 1, 1, 3, 2, 0, 0, 4, 3, 0, 0, 5, 1, 3, 0, 5, 2, 1, 2, 0, 5, 2, 0, 1, 3, 3, 1, 4, 1, 4, 2, 3, 2, 3, 2, 1, 0, 3, 1, 2, 1, 0, 4, 2, 0, 1, 4, 4, 1, 0, 4, 1, 0, 2, 0, 1, 2, 1, 4, 0, 4, 0, 1, 0, 4, 0, 3, 2, 0, 4, 2, 2, 1, 4, 1, 4, 3, 0, 4, 3, 0, 0, 0, 3, 1, 0, 0, 3, 1, 0, 5, 0, 3, 2, 2, 1, 2, 1, 5, 4, 1, 1, 4, 1, 2, 3, 1, 1, 0, 0, 0, 4, 0, 1, 1, 0, 4, 4, 0, 4, 4, 5, 2, 0, 3, 4, 1, 1, 2, 1, 2, 5, 3, 4, 4, 3, 2, 0, 1, 1, 3, 0, 0, 2, 1, 2, 3, 0, 1, 4, 3, 3, 1, 4, 1, 4, 4, 0, 3, 0, 1, 3, 2, 2, 0, 3, 1, 0, 1, 2, 1, 1, 2, 1, 2, 1, 0, 1, 3, 0, 1, 2, 1, 1, 1, 1, 3, 0, 0, 1, 4, 2, 0, 0, 0, 0, 5, 0, 0, 1, 0, 0, 3, 3, 1, 4, 0, 4, 0, 4, 3, 0, 1, 3, 4, 3, 0, 1, 2, 0, 5, 5, 0, 0, 4, 1, 2, 2, 1, 1, 2, 3, 3, 3, 4, 3, 1, 3, 3, 4, 5, 0, 3, 1, 1, 0, 5, 2, 1, 1, 3, 1, 0, 1, 0, 1, 0, 1, 2, 1, 0, 1, 0, 1, 0, 2, 0, 3, 5, 4, 0, 3, 3, 2, 0, 1, 1, 1, 4, 3, 3, 2, 0, 0, 5, 1, 2, 4, 4, 0, 1, 3, 3, 3, 3, 0, 3, 3, 0, 1, 2, 1, 2, 0, 4, 2, 4, 1, 0, 1, 1, 5, 0, 4, 5, 1, 1, 4, 3, 0, 4, 3, 4, 5, 4, 3, 2, 3, 4, 2, 0, 4, 0, 2, 3, 2, 2, 0, 3, 1, 4, 5, 2, 0, 3, 0, 2, 2, 1, 3, 4, 1, 1, 0, 3, 0, 1, 3, 1, 3, 3, 3, 1, 3, 3, 2, 1, 5, 1, 0, 1, 4, 4, 3, 2, 1, 2, 3, 4, 0, 2, 3, 3, 0, 1, 1, 3, 1, 2, 2, 3, 1, 1, 2, 1, 1, 4, 2, 1, 3, 4, 1, 4, 4, 3, 4, 4, 3, 3, 1, 3, 0, 5, 1, 4, 3, 2, 4, 1, 1, 2, 3, 4, 1, 5, 2, 0, 2, 1, 3, 1, 5, 1, 4, 4, 4, 0, 4, 1, 2, 5, 1, 0, 0, 0, 2, 3, 3, 2, 2, 3, 5, 1, 0, 1, 2, 4, 1, 1, 3, 1, 1, 4, 1, 1, 3, 1, 4, 3, 0, 0, 2, 0, 4, 1, 1, 0, 3, 1, 0, 4, 0, 0, 0, 3, 1, 2, 4, 3, 2, 2, 2, 2, 0, 4, 1, 2, 1, 1, 4, 5, 4, 3, 0, 3, 2, 1, 0, 3, 4, 1, 0, 4, 0, 1, 0, 2, 0, 4, 5, 3, 2, 3, 1, 0, 4, 1, 3, 3, 2, 2, 3, 3, 1, 0, 3, 1, 0, 1, 4, 4, 1, 0, 5, 1, 3, 2, 0, 0, 0, 1, 1, 1, 0, 4, 4, 0, 1, 2, 4, 3, 2, 0, 3, 2, 1, 3, 5, 2, 4, 0, 4, 2, 0, 3, 0, 1, 4, 3, 1, 0, 2, 1, 0, 2, 3, 0, 4, 1, 2, 1, 4, 2, 3, 1, 1, 1, 0, 4, 2, 2, 0, 1, 1, 3, 0, 0, 3, 2, 1, 4, 2, 5, 3, 1, 3, 2, 4, 4, 2, 4, 0, 0, 1, 4, 1, 3, 0, 5, 2, 3, 1, 1, 4, 0, 2, 5, 3, 0, 0, 3, 2, 1, 2, 0, 1, 1, 0, 1, 2, 4, 2, 1, 0, 5, 4, 1, 5, 1, 2, 0, 0, 1, 2, 2, 3, 4, 2, 1, 2, 4, 1, 4, 4, 0, 1, 0, 1, 1, 3, 1, 4, 4, 3, 1, 3, 3, 3, 4, 1, 1, 4, 2, 3, 0, 2, 1, 4, 3, 1, 0, 3, 1, 4, 1, 0, 0, 0, 1, 4, 0, 5, 3, 0, 2, 2, 0, 2, 1, 1, 2, 2, 0, 3, 1, 0, 0, 2, 0, 0, 1, 4, 2, 0, 0, 0, 1, 0, 2, 2, 1, 3, 1, 3, 3, 1, 2, 0, 4, 3, 0, 0, 4, 1, 2, 0, 0, 3, 1, 1, 0, 3, 1, 5, 4, 0, 4, 1, 3, 3, 1, 1, 0, 0, 3, 1, 3, 3, 0, 4, 4, 3, 1, 0, 1, 0, 4, 4, 4, 1, 5, 3, 4, 3, 4, 4, 1, 4, 1, 0, 5, 0, 0, 4, 4, 1, 5, 1, 2, 1, 4, 4, 4, 2, 2, 1, 3, 4, 2, 1, 0, 2, 3, 4, 3, 3, 3, 0, 3, 0, 2, 5, 5, 3, 5, 3, 0, 0, 0, 3, 1, 1, 2, 1, 2, 4, 3, 4, 3, 3, 1, 0, 2, 1, 2, 1, 0, 5, 3, 1, 0, 2, 0, 0, 1, 1, 4, 4, 1, 3, 0, 0, 3, 2, 5, 3, 0, 0, 0, 0, 0, 1, 5, 1, 5, 1, 4, 4, 3, 3, 3, 2, 0, 4, 2, 4, 1, 1, 1, 2, 3, 1, 1, 1, 1, 3, 2, 1, 0, 2, 2, 3, 3, 1, 1, 4, 2, 1, 4, 0, 0, 1, 3, 1, 3, 3, 4, 2, 1, 3, 4, 2, 1, 0, 0, 0, 5, 0, 1, 3, 2, 3, 1, 1, 2, 5, 1, 3, 2, 1, 0, 0, 1, 2, 0, 1, 4, 0, 1, 3, 3, 2, 4, 1, 2, 2, 4, 3, 2, 4, 3, 3, 2, 3, 3, 1, 1, 0, 3, 3, 3, 3, 0, 4, 5, 4, 4, 1, 3, 2, 2, 4, 3, 0, 0, 3, 0, 4, 2, 3, 0, 3, 1, 1, 4, 4, 4, 2, 1, 3, 0, 4, 2, 3, 4, 5, 1, 4, 0, 4, 2, 1, 0, 2, 1, 3, 1, 5, 1, 3, 3, 1, 0, 3, 2, 0, 0, 4, 5, 4, 5, 1, 1, 4, 0, 1, 2, 1, 0, 4, 3, 1, 5, 0, 2, 2, 2, 5, 0, 2, 0, 3, 4, 3, 0, 2, 2, 2, 4, 3, 0, 4, 4, 0, 2, 0, 2, 1, 0, 5, 2, 1, 0, 1, 3, 3, 3, 0, 1, 3, 3, 0, 1, 4, 0, 1, 4, 2, 0, 0, 0, 2, 5, 3, 1, 0, 1, 1, 1, 0, 0, 0, 2, 1, 3, 2, 4, 3, 3, 3, 0, 1, 3, 4, 3, 1, 4, 5, 1, 3, 1, 0, 1, 1, 3, 2, 2, 2, 4, 4, 1, 2, 1, 2, 5, 1, 3, 3, 0, 4, 1, 4, 5, 3, 3, 1, 1, 4, 1, 3, 4, 0, 2, 5, 1, 4, 3, 1, 0, 4, 0, 5, 2, 4, 5, 2, 1, 1, 3, 0, 1, 0, 3, 2, 4, 2, 1, 3, 3, 1, 3, 4, 2, 1, 5, 4, 3, 4, 3, 0, 5, 2, 0, 4, 4, 1, 2, 0, 1, 3, 4, 0, 2, 2, 4, 4, 1, 3, 0, 1, 3, 4, 3, 0, 0, 3, 4, 1, 2, 1, 4, 2, 3, 4, 1, 4, 1, 5, 4, 4, 1, 4, 1, 1, 3, 3, 4, 3, 4, 0, 1, 1, 1, 2, 2, 1, 2, 4, 0, 1, 0, 3, 2, 0, 0, 2, 4, 0, 2, 2, 1, 5, 0, 5, 4, 2, 0, 0, 4, 5, 1, 1, 4, 4, 2, 1, 3, 3, 1, 3, 1, 0, 1, 4, 3, 4, 3, 5, 3, 1, 0, 4, 0, 4, 2, 0, 4, 1, 3, 0, 2, 0, 0, 3, 5, 2, 3, 3, 2, 1, 3, 0, 3, 1, 2, 0, 1, 1, 1, 4, 2, 4, 2, 3, 1, 0, 3, 4, 5, 5, 5, 0, 3, 5, 0, 4, 3, 1, 1, 1, 0, 1, 3, 1, 1, 2, 3, 0, 1, 1, 3, 1, 5, 3, 1, 3, 2, 3, 5, 1, 4, 0, 1, 3, 1, 0, 1, 4, 4, 0, 0, 2, 0, 1, 3, 1, 5, 0, 5, 3, 0, 3, 0, 3, 3, 0, 3, 4, 3, 3, 2, 3, 4, 0, 2, 1, 5, 0, 4, 4, 0, 3, 4, 4, 1, 4, 2, 3, 2, 0, 2, 1, 3, 2, 0, 2, 0, 3, 1, 1, 1, 1, 4, 3, 3, 4, 2, 2, 1, 1, 2, 4, 3, 1, 3, 2, 3, 1, 4, 2, 1, 0, 0, 3, 2, 2, 1, 3, 0, 0, 2, 1, 2, 3, 1, 1, 5, 3, 4, 1, 2, 0, 3, 0, 0, 3, 4, 1, 1, 4, 5, 4, 3, 3, 3, 4, 4, 2, 0, 1, 0, 2, 2, 2, 2, 0, 4, 0, 2, 2, 0, 4, 0, 2, 3, 3, 3, 3, 1, 0, 0, 2, 4, 2, 2, 3, 4, 3, 2, 0, 1, 1, 3, 1, 4, 5, 4, 3, 0, 0, 0, 3, 0, 4, 3, 0, 0, 3, 2, 1, 3, 2, 3, 0, 4, 4, 0, 0, 4, 0, 1, 5, 1, 4, 3, 4, 2, 4, 4, 1, 4, 5, 1, 0, 0, 3, 0, 0, 3, 4, 2, 1, 2, 2, 3, 2, 1, 4, 4, 1, 3, 2, 0, 4, 0, 0, 3, 1, 0, 0, 1, 0, 1, 5, 4, 3, 1, 1, 1, 1, 5, 0, 4, 3, 2, 0, 0, 2, 2, 0, 1, 1, 1, 1, 4, 1, 0, 4, 2, 1, 2, 2, 0, 2, 1, 4, 0, 5, 1, 2, 5, 0, 3, 2, 4, 3, 1, 0, 5, 1, 0, 1, 3, 1, 2, 3, 3, 4, 3, 0, 0, 1, 4, 4, 1, 1, 4, 3, 3, 0, 3, 3, 1, 2, 1, 3, 0, 4, 0, 2, 1, 4, 1, 3, 1, 1, 3, 0, 1, 4, 1, 3, 1, 5, 3, 3, 3, 1, 0, 3, 3, 0, 1, 3, 4, 2, 2, 1, 0, 0, 1, 0, 4, 1, 1, 1, 1, 1, 4, 3, 2, 0, 0, 1, 0, 2, 0, 2, 2, 2, 2, 0, 1, 4, 2, 2, 3, 3, 3, 2, 0, 0, 1, 2, 2, 2, 1, 1, 3, 0, 2, 0, 1, 5, 2, 0, 3, 4, 4, 0, 3, 4, 0, 2, 1, 2, 1, 1, 1, 1, 3, 1, 5, 2, 1, 1, 4, 1, 1, 2, 2, 2, 4, 1, 0, 1, 4, 0, 0, 3, 4, 3, 1, 1, 4, 4, 0, 0, 4, 3, 1, 4, 0, 1, 4, 0, 4, 1, 1, 1, 2, 4, 1, 1, 3, 3, 2, 1, 3, 1, 3, 1, 1, 1, 1, 2, 3, 2, 3, 3, 4, 0, 1, 1, 2, 3, 4, 3, 3, 3, 2, 2, 1, 1, 4, 1, 0, 2, 0, 4, 3, 1, 1, 1, 5, 4, 0, 4, 0, 0, 3, 4, 3, 3, 0, 1, 0, 4, 3, 2, 1, 3, 3, 2, 0, 1, 0, 1, 4, 2, 3, 2, 1, 3, 3, 1, 3, 0, 4, 0, 1, 4, 5, 2, 5, 4, 5, 1, 3, 1, 4, 3, 3, 0, 0, 5, 4, 3, 1, 3, 1, 2, 3, 2, 0, 0, 1, 0, 2, 1, 3, 0, 5, 1, 3, 5, 4, 1, 1, 0, 1, 3, 1, 2, 2, 5, 2, 4, 1, 0, 0, 5, 3, 1, 3, 4, 0, 2, 4, 4, 1, 0, 1, 4, 0, 1, 2, 0, 4, 0, 2, 3, 1, 0, 2, 0, 3, 0, 1, 3, 1, 2, 3, 2, 3, 3, 3, 3, 1, 0, 0, 3, 0, 2, 1, 1, 4, 3, 2, 0, 1, 0, 3, 3, 4, 1, 0, 3, 1, 1, 5, 1, 1, 4, 4, 1, 0, 2, 4, 3, 5, 1, 2, 3, 3, 1, 0, 3, 1, 0, 5, 1, 2, 4, 3, 0, 0, 0, 1, 2, 1, 2, 2, 3, 0, 5, 1, 0, 3, 0, 3, 2, 2, 0, 5, 1, 2, 0, 3, 4, 0, 1, 0, 4, 4, 3, 0, 3, 0, 0, 0, 4, 3, 2, 4, 1, 1, 2, 1, 0, 4, 3, 4, 2, 2, 2, 1, 4, 1, 2, 1, 2, 2, 0, 0, 4, 3, 3, 2, 3, 1, 0, 2]\n",
            "2200\n",
            "[3, 2, 4, 2, 1, 1, 4, 3, 3, 0, 5, 3, 0, 0, 1, 3, 3, 1, 5, 0, 0, 4, 3, 0, 4, 0, 0, 3, 5, 1, 0, 4, 4, 1, 4, 2, 4, 2, 0, 4, 0, 1, 1, 1, 2, 3, 0, 3, 4, 0, 2, 1, 0, 4, 2, 3, 0, 3, 2, 0, 4, 5, 2, 3, 0, 5, 1, 4, 4, 2, 0, 1, 2, 0, 4, 3, 1, 1, 3, 1, 3, 4, 1, 4, 5, 5, 2, 2, 1, 4, 1, 1, 1, 4, 1, 0, 1, 2, 1, 5, 4, 3, 1, 3, 3, 2, 3, 1, 3, 4, 1, 1, 0, 0, 4, 3, 0, 5, 1, 2, 2, 4, 2, 0, 0, 2, 4, 2, 3, 0, 2, 1, 0, 1, 1, 4, 0, 3, 3, 0, 1, 2, 4, 2, 2, 0, 2, 5, 1, 3, 0, 3, 0, 2, 0, 0, 4, 1, 0, 1, 2, 3, 1, 0, 4, 1, 3, 0, 1, 1, 4, 0, 2, 1, 3, 0, 1, 0, 4, 1, 0, 0, 0, 2, 1, 1, 3, 1, 3, 1, 0, 5, 1, 4, 1, 4, 4, 0, 3, 2, 4, 1, 0, 3, 1, 5, 1, 4, 1, 0, 4, 3, 3, 1, 1, 3, 3, 2, 3, 0, 0, 1, 2, 1, 4, 3, 3, 0, 3, 3, 4, 1, 3, 2, 0, 3, 2, 2, 1, 1, 4, 4, 3, 2, 0, 0, 1, 3, 0, 1, 0, 2, 1, 2, 3, 4, 3, 3, 1, 3, 4, 2, 0, 3, 3, 3, 0, 5, 0, 5, 1, 5, 5, 0, 0, 3, 3, 2, 1, 1, 5, 1, 4, 1, 2, 1, 4, 1, 1, 4, 4, 0, 1, 4, 2, 0, 2, 4, 3, 2, 1, 0, 4, 1, 3, 4, 0, 4, 1, 3, 4, 1, 1, 1, 2, 1, 1, 4, 3, 1, 1, 3, 4, 4, 2, 0, 1, 4]\n",
            "328\n",
            "[1, 2, 4, 3, 2, 1, 3, 3, 4, 3, 0, 3, 3, 1, 1, 0, 2, 1, 2, 1, 1, 3, 3, 2, 1, 5, 0, 4, 1, 0, 1, 2, 4, 5, 4, 1, 0, 2, 4, 3, 0, 1, 4, 1, 0, 4, 2, 0, 2, 3, 0, 0, 2, 5, 1, 2, 3, 1, 3, 4, 3, 5, 5, 3, 2, 1, 1, 1, 1, 4, 4, 5, 4, 2, 4, 2, 3, 1, 4, 3, 1, 2, 2, 4, 2, 1, 5, 4, 0, 0, 4, 1, 2, 3, 0, 1, 0, 3, 4, 2, 0, 3, 1, 1, 0, 3, 2, 0, 2, 5, 1, 1, 0, 0, 3, 1, 4, 1, 2, 2, 2, 1, 3, 4, 0, 4, 3, 4, 0, 2, 0, 3, 4, 1, 2, 2, 1, 2, 3, 3, 1, 2, 3, 0, 4, 0, 0, 5, 1, 3, 2, 0, 3, 3, 2, 3, 0, 1, 0, 2, 1, 0, 4, 4, 3, 1, 2, 2, 4, 0, 5, 3, 4, 0, 4, 3, 3, 4, 2, 2, 0, 0, 1, 1, 0, 1, 3, 3, 4, 4, 3, 1, 5, 4, 2, 0, 4, 0, 2, 0, 0, 0, 1, 5, 1, 2, 1, 1, 5, 4, 4, 0, 2, 4, 1, 0, 2, 2, 3, 0, 0, 1, 1, 3, 1, 4, 1, 1, 4, 0, 0, 4, 1, 1, 3, 5, 2, 2, 0, 5, 3, 2, 5, 4, 2, 0, 2, 5, 0, 1, 3, 1, 1, 3, 0, 4, 0, 4, 3, 4, 2, 1, 3, 4, 2, 2, 1, 1, 3, 3, 3, 0, 3, 1, 1, 1, 0, 3, 4, 4, 3, 3, 3, 5, 4, 3, 0, 1, 0, 3, 1, 3, 5, 5, 2, 1, 3, 1, 4, 1, 5, 1, 3, 1, 0, 1, 1, 5, 0, 1, 2, 3, 1, 0, 4, 1, 1, 0, 4, 2, 1, 1, 1, 4, 1, 1, 5, 4, 1, 0, 4, 0, 2, 5, 2, 2, 0, 1, 3, 4, 5, 3, 4, 2, 1, 5, 3, 0, 1, 1, 1, 1, 1, 2, 1, 3, 2, 4, 4, 1, 3, 3, 3, 1, 4, 0, 4, 4, 0, 2, 1, 2, 0, 1, 2, 2, 2, 1, 0, 0, 1, 0, 0, 0, 4, 2, 4, 1, 0, 1, 3, 1, 1, 2, 0, 0, 4, 5, 0, 5, 1, 0, 0, 0, 1, 3, 2, 4, 0, 1, 4, 0, 3, 2, 1, 2, 3, 1, 1, 4, 0, 2, 0, 1, 3, 3, 0, 1, 3, 4, 5]\n",
            "431\n"
          ]
        }
      ]
    },
    {
      "cell_type": "code",
      "source": [
        "'''\n",
        "from tensorflow.keras.preprocessing.image import ImageDataGenerator, load_img, img_to_array, array_to_img\n",
        "\n",
        "for i, img_path in enumerate(df_train.rel_path.sample(n=6, random_state=123)):\n",
        "    img = load_img(IMAGES_DIR+img_path)\n",
        "    img = img_to_array(img, dtype=np.uint8)\n",
        "\n",
        "    #plt.figure(figsize = (5,5))\n",
        "    plt.subplot(2, 3, i+1)\n",
        "    plt.imshow(img.squeeze())\n",
        "'''"
      ],
      "metadata": {
        "id": "EQgNubegB-gB",
        "colab": {
          "base_uri": "https://localhost:8080/",
          "height": 90
        },
        "outputId": "c0722a15-a6c5-48ae-f17e-b0d116c29e45"
      },
      "execution_count": null,
      "outputs": [
        {
          "output_type": "execute_result",
          "data": {
            "text/plain": [
              "'\\nfrom tensorflow.keras.preprocessing.image import ImageDataGenerator, load_img, img_to_array, array_to_img\\n\\nfor i, img_path in enumerate(df_train.rel_path.sample(n=6, random_state=123)):\\n    img = load_img(IMAGES_DIR+img_path)\\n    img = img_to_array(img, dtype=np.uint8)\\n    \\n    #plt.figure(figsize = (5,5))\\n    plt.subplot(2, 3, i+1)\\n    plt.imshow(img.squeeze())\\n'"
            ],
            "application/vnd.google.colaboratory.intrinsic+json": {
              "type": "string"
            }
          },
          "metadata": {},
          "execution_count": 27
        }
      ]
    },
    {
      "cell_type": "code",
      "source": [
        "# array로 변환\n",
        "X_train = np.array(X_train, ndmin=2)\n",
        "X_valid = np.array(X_valid, ndmin=2)\n",
        "X_test = np.array(X_test, ndmin=2)\n",
        "Y_train = np.array(Y_train, ndmin=1)\n",
        "Y_valid = np.array(Y_valid, ndmin=1)\n",
        "Y_test = np.array(Y_test, ndmin=1)\n",
        "\n",
        "# shape 조절\n",
        "len_train_X = len(X_train)\n",
        "len_validate_X = len(X_valid)\n",
        "len_test_X = len(X_test)\n",
        "\n",
        "X_train = X_train.reshape(len_train_X,3*224*224)\n",
        "X_valid = X_valid.reshape(len_validate_X,3*224*224)\n",
        "X_test = X_test.reshape(len_test_X,3*224*224)"
      ],
      "metadata": {
        "id": "vLhsNFYs5LCh"
      },
      "execution_count": null,
      "outputs": []
    },
    {
      "cell_type": "code",
      "source": [
        "X_train.shape"
      ],
      "metadata": {
        "colab": {
          "base_uri": "https://localhost:8080/"
        },
        "id": "M3Uw-Xnv5LEv",
        "outputId": "16bad053-e534-4bf0-9b11-8ce3dd5b2bdc"
      },
      "execution_count": null,
      "outputs": [
        {
          "output_type": "execute_result",
          "data": {
            "text/plain": [
              "(2200, 150528)"
            ]
          },
          "metadata": {},
          "execution_count": 29
        }
      ]
    },
    {
      "cell_type": "code",
      "source": [
        "# Normalize the images. (0~1)\n",
        "\n",
        "X_train = (X_train / 255)\n",
        "X_valid = (X_valid / 255)\n",
        "X_test = (X_test / 255)"
      ],
      "metadata": {
        "id": "RoeP3T7Z9_S1"
      },
      "execution_count": null,
      "outputs": []
    },
    {
      "cell_type": "markdown",
      "source": [
        "SVM 학습"
      ],
      "metadata": {
        "id": "m4kBZWhX_8mK"
      }
    },
    {
      "cell_type": "markdown",
      "source": [
        "validation data를 통해 최적의 모델 선정"
      ],
      "metadata": {
        "id": "JSM8DP9SZHBl"
      }
    },
    {
      "cell_type": "code",
      "source": [
        "from sklearn.svm import SVC\n",
        "from sklearn.metrics import f1_score\n",
        "from sklearn.metrics import accuracy_score"
      ],
      "metadata": {
        "id": "ip5gwV0gdwgc"
      },
      "execution_count": null,
      "outputs": []
    },
    {
      "cell_type": "code",
      "source": [
        "model()"
      ],
      "metadata": {
        "id": "TMrR9HoG2g-g",
        "colab": {
          "base_uri": "https://localhost:8080/",
          "height": 173
        },
        "outputId": "1ad29059-2516-49f9-a62c-bf894e9bedd9"
      },
      "execution_count": null,
      "outputs": [
        {
          "output_type": "error",
          "ename": "NameError",
          "evalue": "ignored",
          "traceback": [
            "\u001b[0;31m---------------------------------------------------------------------------\u001b[0m",
            "\u001b[0;31mNameError\u001b[0m                                 Traceback (most recent call last)",
            "\u001b[0;32m<ipython-input-32-3876033efa86>\u001b[0m in \u001b[0;36m<cell line: 1>\u001b[0;34m()\u001b[0m\n\u001b[0;32m----> 1\u001b[0;31m \u001b[0mmodel\u001b[0m\u001b[0;34m(\u001b[0m\u001b[0;34m)\u001b[0m\u001b[0;34m\u001b[0m\u001b[0;34m\u001b[0m\u001b[0m\n\u001b[0m",
            "\u001b[0;31mNameError\u001b[0m: name 'model' is not defined"
          ]
        }
      ]
    },
    {
      "cell_type": "markdown",
      "source": [
        "kernel = 'linear'"
      ],
      "metadata": {
        "id": "R_qCWJYobO19"
      }
    },
    {
      "cell_type": "code",
      "source": [
        "svc0001_linear = SVC(kernel='linear',gamma='auto', verbose=True, C=0.001)\n",
        "svc0001_linear.fit(X_train, Y_train)\n",
        "y0001_linear = svc0001_linear.predict(X_valid)\n",
        "\n",
        "print(\"\\nlinear, C: 0.001\")\n",
        "print(\"Valid F1 score: \", f1_score(Y_valid, y0001_linear, average = \"macro\"))\n",
        "print(\"Valid Accuracy: \", accuracy_score(Y_valid, y0001_linear))"
      ],
      "metadata": {
        "id": "5tpbM9EV_MZH"
      },
      "execution_count": null,
      "outputs": []
    },
    {
      "cell_type": "code",
      "source": [
        "svc10_linear = SVC(kernel='linear',gamma='auto', verbose=True, C=10)\n",
        "svc10_linear.fit(X_train, Y_train)\n",
        "y10_linear = svc10_linear.predict(X_valid)\n",
        "\n",
        "print(\"\\nlinear, C: 10\")\n",
        "print(\"Valid F1 score: \", f1_score(Y_valid, y10_linear, average = \"macro\"))\n",
        "print(\"Valid Accuracy: \", accuracy_score(Y_valid, y10_linear))"
      ],
      "metadata": {
        "id": "hmi9dLzfmgfN"
      },
      "execution_count": null,
      "outputs": []
    },
    {
      "cell_type": "code",
      "source": [
        "svc30_linear = SVC(kernel='linear',gamma='auto', verbose=True, C=30)\n",
        "svc30_linear.fit(X_train, Y_train)\n",
        "y30_linear = svc30_linear.predict(X_valid)\n",
        "\n",
        "print(\"\\nlinear, C: 30\")\n",
        "print(\"Valid F1 score: \", f1_score(Y_valid, y30_linear, average = \"macro\"))\n",
        "print(\"Valid Accuracy: \", accuracy_score(Y_valid, y30_linear))"
      ],
      "metadata": {
        "id": "iKaZoTj6ZS86"
      },
      "execution_count": null,
      "outputs": []
    },
    {
      "cell_type": "markdown",
      "source": [
        "poly"
      ],
      "metadata": {
        "id": "bSkky587bIsH"
      }
    },
    {
      "cell_type": "code",
      "source": [
        "svc_poly_0001 = SVC(kernel='poly',gamma='auto', verbose=True, C=0.001)\n",
        "svc_poly_0001.fit(X_train, Y_train)\n",
        "y_poly_0001 = svc_poly_0001.predict(X_valid)\n",
        "\n",
        "print(\"\\npoly, C: 0.001\")\n",
        "print(\"Valid F1 score: \", f1_score(Y_valid, y_poly_0001, average = \"macro\"))\n",
        "print(\"Valid Accuracy: \", accuracy_score(Y_valid, y_poly_0001))"
      ],
      "metadata": {
        "id": "3ZB69nXVgWJ7"
      },
      "execution_count": null,
      "outputs": []
    },
    {
      "cell_type": "code",
      "source": [
        "svc_poly_10 = SVC(kernel='poly',gamma='auto', verbose=True, C=10)\n",
        "svc_poly_10.fit(X_train, Y_train)\n",
        "y_poly_10 = svc_poly_10.predict(X_valid)\n",
        "\n",
        "print(\"\\npoly, C: 10\")\n",
        "print(\"Valid F1 score: \", f1_score(Y_valid, y_poly_10, average = \"macro\"))\n",
        "print(\"Valid Accuracy: \", accuracy_score(Y_valid, y_poly_10))"
      ],
      "metadata": {
        "id": "WXaEiq-nmWU8"
      },
      "execution_count": null,
      "outputs": []
    },
    {
      "cell_type": "code",
      "source": [
        "svc_poly_30 = SVC(kernel='poly',gamma='auto', verbose=True, C=30)\n",
        "svc_poly_30.fit(X_train, Y_train)\n",
        "y_poly_30 = svc_poly_30.predict(X_valid)\n",
        "\n",
        "print(\"poly, C: 30\")\n",
        "print(\"Valid F1 score: \", f1_score(Y_valid, y_poly_30, average = \"macro\"))\n",
        "print(\"Valid Accuracy: \", accuracy_score(Y_valid, y_poly_30))"
      ],
      "metadata": {
        "id": "6RxUAhmZ7re0"
      },
      "execution_count": null,
      "outputs": []
    },
    {
      "cell_type": "markdown",
      "source": [
        "rbf"
      ],
      "metadata": {
        "id": "3Z0ZfJzFbGbF"
      }
    },
    {
      "cell_type": "code",
      "source": [
        "svc_rbf_0001 = SVC(kernel='rbf',gamma='auto', verbose=True, C=0.001)\n",
        "svc_rbf_0001.fit(X_train, Y_train)\n",
        "y_rbf_0001 = svc_rbf_0001.predict(X_valid)\n",
        "\n",
        "print(\"\\nrbf, C: 0.001\")\n",
        "print(\"Valid F1 score: \", f1_score(Y_valid, y_rbf_0001, average = \"macro\"))\n",
        "print(\"Valid Accuracy: \", accuracy_score(Y_valid, y_rbf_0001))"
      ],
      "metadata": {
        "id": "VetsoumMyQEs"
      },
      "execution_count": null,
      "outputs": []
    },
    {
      "cell_type": "code",
      "source": [
        "svc_rbf_10 = SVC(kernel='rbf',gamma='auto', verbose=True, C=10)\n",
        "svc_rbf_10.fit(X_train, Y_train)\n",
        "y_rbf_10 = svc_rbf_10.predict(X_valid)\n",
        "\n",
        "print(\"\\nrbf, C: 10\")\n",
        "print(\"Valid F1 score: \", f1_score(Y_valid, y_rbf_10, average = \"macro\"))\n",
        "print(\"Valid Accuracy: \", accuracy_score(Y_valid, y_rbf_10))"
      ],
      "metadata": {
        "id": "DwYtKFTVyaXy"
      },
      "execution_count": null,
      "outputs": []
    },
    {
      "cell_type": "code",
      "source": [
        "svc_rbf_30 = SVC(kernel='rbf',gamma='auto', verbose=True, C=30)\n",
        "svc_rbf_30.fit(X_train, Y_train)\n",
        "y_rbf_30 = svc_rbf_30.predict(X_valid)\n",
        "\n",
        "print(\"\\nrbf, C: 30\")\n",
        "print(\"Valid F1 score: \", f1_score(Y_valid, y_rbf_30, average = \"macro\"))\n",
        "print(\"Valid Accuracy: \", accuracy_score(Y_valid, y_rbf_30))"
      ],
      "metadata": {
        "id": "VDEJvTMdbCly"
      },
      "execution_count": null,
      "outputs": []
    },
    {
      "cell_type": "markdown",
      "source": [
        "sigmoid"
      ],
      "metadata": {
        "id": "2DqNQnKKbD32"
      }
    },
    {
      "cell_type": "code",
      "source": [
        "svc_sigmoid_0001 = SVC(kernel='sigmoid',gamma='auto', verbose=True, C=0.001)\n",
        "svc_sigmoid_0001.fit(X_train, Y_train)\n",
        "y_sigmoid_0001 = svc_sigmoid_0001.predict(X_valid)\n",
        "\n",
        "print(\"\\nsigmoid, C: 0.001\")\n",
        "print(\"Valid F1 score: \", f1_score(Y_valid, y_sigmoid_0001, average = \"macro\"))\n",
        "print(\"Valid Accuracy: \", accuracy_score(Y_valid, y_sigmoid_0001))"
      ],
      "metadata": {
        "id": "H4nEzvJMcBKZ"
      },
      "execution_count": null,
      "outputs": []
    },
    {
      "cell_type": "code",
      "source": [
        "svc_sigmoid_10 = SVC(kernel='sigmoid',gamma='auto', verbose=True, C=10)\n",
        "svc_sigmoid_10.fit(X_train, Y_train)\n",
        "y_sigmoid_10 = svc_sigmoid_10.predict(X_valid)\n",
        "\n",
        "print(\"\\nsigmoid, C: 10\")\n",
        "print(\"Valid F1 score: \", f1_score(Y_valid, y_sigmoid_10, average = \"macro\"))\n",
        "print(\"Valid Accuracy: \", accuracy_score(Y_valid, y_sigmoid_10))"
      ],
      "metadata": {
        "id": "csqPKK7IcBM0"
      },
      "execution_count": null,
      "outputs": []
    },
    {
      "cell_type": "code",
      "source": [
        "svc_sigmoid_30 = SVC(kernel='sigmoid',gamma='auto', verbose=True, C=30)\n",
        "svc_sigmoid_30.fit(X_train, Y_train)\n",
        "y_sigmoid_30 = svc_sigmoid_30.predict(X_valid)\n",
        "\n",
        "print(\"\\nsigmoid, C: 30\")\n",
        "print(\"Valid F1 score: \", f1_score(Y_valid, y_sigmoid_30, average = \"macro\"))\n",
        "print(\"Valid Accuracy: \", accuracy_score(Y_valid, y_sigmoid_30))"
      ],
      "metadata": {
        "id": "xvKKPm5ccBPh"
      },
      "execution_count": null,
      "outputs": []
    },
    {
      "cell_type": "markdown",
      "source": [
        "가장 좋은 kernel은 rbf. gamma와 C를 최적화"
      ],
      "metadata": {
        "id": "IMz1Ly9kcCNB"
      }
    },
    {
      "cell_type": "code",
      "source": [
        "svc_rbf_35 = SVC(kernel='rbf',gamma='auto', verbose=True, C=35)\n",
        "svc_rbf_35.fit(X_train, Y_train)\n",
        "y_rbf_35 = svc_rbf_35.predict(X_valid)\n",
        "\n",
        "print(\"\\nrbf, C: 35, gamma=auto\")\n",
        "print(\"Valid F1 score: \", f1_score(Y_valid, y_rbf_35, average = \"macro\"))\n",
        "print(\"Valid Accuracy: \", accuracy_score(Y_valid, y_rbf_35))"
      ],
      "metadata": {
        "id": "HB_1u0vxtVg3"
      },
      "execution_count": null,
      "outputs": []
    },
    {
      "cell_type": "code",
      "source": [
        "svc_rbf_33 = SVC(kernel='rbf',gamma='auto', verbose=True, C=33)\n",
        "svc_rbf_33.fit(X_train, Y_train)\n",
        "y_rbf_33 = svc_rbf_33.predict(X_valid)\n",
        "\n",
        "print(\"\\nrbf, C: 33, gamma=auto\")\n",
        "print(\"Valid F1 score: \", f1_score(Y_valid, y_rbf_33, average = \"macro\"))\n",
        "print(\"Valid Accuracy: \", accuracy_score(Y_valid, y_rbf_33))"
      ],
      "metadata": {
        "id": "Tsj4s2Ip1My6"
      },
      "execution_count": null,
      "outputs": []
    },
    {
      "cell_type": "code",
      "source": [
        "svc_rbf_34 = SVC(kernel='rbf',gamma='auto', verbose=True, C=34)\n",
        "svc_rbf_34.fit(X_train, Y_train)\n",
        "y_rbf_34 = svc_rbf_34.predict(X_valid)\n",
        "\n",
        "print(\"\\nrbf, C: 34, gamma=auto\")\n",
        "print(\"Valid F1 score: \", f1_score(Y_valid, y_rbf_34, average = \"macro\"))\n",
        "print(\"Valid Accuracy: \", accuracy_score(Y_valid, y_rbf_34))"
      ],
      "metadata": {
        "id": "L0rGj7Lq7-oW"
      },
      "execution_count": null,
      "outputs": []
    },
    {
      "cell_type": "code",
      "source": [
        "svc_rbf_33_0001 = SVC(kernel='rbf',gamma=0.001, verbose=True, C=33)\n",
        "svc_rbf_33_0001.fit(X_train, Y_train)\n",
        "y_rbf_33_0001 = svc_rbf_33_0001.predict(X_valid)\n",
        "\n",
        "print(\"\\nrbf, C: 33, gamma=0.001\")\n",
        "print(\"Valid F1 score: \", f1_score(Y_valid, y_rbf_33_0001, average = \"macro\"))\n",
        "print(\"Valid Accuracy: \", accuracy_score(Y_valid, y_rbf_33_0001))"
      ],
      "metadata": {
        "id": "-0p-dNvaE2-O"
      },
      "execution_count": null,
      "outputs": []
    },
    {
      "cell_type": "code",
      "source": [
        "svc_rbf_33_0002 = SVC(kernel='rbf',gamma=0.002, verbose=True, C=33)\n",
        "svc_rbf_33_0002.fit(X_train, Y_train)\n",
        "y_rbf_33_0002 = svc_rbf_33_0002.predict(X_valid)\n",
        "\n",
        "print(\"\\nrbf, C: 33, gamma=0.002\")\n",
        "print(\"Valid F1 score: \", f1_score(Y_valid, y_rbf_33_0002, average = \"macro\"))\n",
        "print(\"Valid Accuracy: \", accuracy_score(Y_valid, y_rbf_33_0002))"
      ],
      "metadata": {
        "id": "iF8nTBucHWLS"
      },
      "execution_count": null,
      "outputs": []
    },
    {
      "cell_type": "code",
      "source": [
        "svc_rbf_33_00005 = SVC(kernel='rbf',gamma=0.0005, verbose=True, C=33)\n",
        "svc_rbf_33_00005.fit(X_train, Y_train)\n",
        "y_rbf_33_00005 = svc_rbf_33_00005.predict(X_valid)\n",
        "\n",
        "print(\"\\nrbf, C: 33, gamma=0.0005\")\n",
        "print(\"Valid F1 score: \", f1_score(Y_valid, y_rbf_33_00005, average = \"macro\"))\n",
        "print(\"Valid Accuracy: \", accuracy_score(Y_valid, y_rbf_33_00005))"
      ],
      "metadata": {
        "colab": {
          "base_uri": "https://localhost:8080/"
        },
        "id": "Ro3qHss1UK7W",
        "outputId": "ad05dcfc-a314-4c88-9ea7-e0280ca9e2bd"
      },
      "execution_count": null,
      "outputs": [
        {
          "output_type": "stream",
          "name": "stdout",
          "text": [
            "[LibSVM]\n",
            "rbf, C: 33, gamma=0.0005\n",
            "Valid F1 score:  0.5235532146007552\n",
            "Valid Accuracy:  0.5609756097560976\n"
          ]
        }
      ]
    },
    {
      "cell_type": "code",
      "source": [
        "svc_rbf_33_00001 = SVC(kernel='rbf',gamma=0.0001, verbose=True, C=33)\n",
        "svc_rbf_33_00001.fit(X_train, Y_train)\n",
        "y_rbf_33_00001 = svc_rbf_33_00001.predict(X_valid)\n",
        "\n",
        "print(\"\\nrbf, C: 33, gamma=0.0001\")\n",
        "print(\"Valid F1 score: \", f1_score(Y_valid, y_rbf_33_00001, average = \"macro\"))\n",
        "print(\"Valid Accuracy: \", accuracy_score(Y_valid, y_rbf_33_00001))"
      ],
      "metadata": {
        "colab": {
          "base_uri": "https://localhost:8080/"
        },
        "id": "s5EmvSrqVBFl",
        "outputId": "efea17dd-49ce-445c-965a-e59262fed1d1"
      },
      "execution_count": null,
      "outputs": [
        {
          "output_type": "stream",
          "name": "stdout",
          "text": [
            "[LibSVM]\n",
            "rbf, C: 33, gamma=0.0001\n",
            "Valid F1 score:  0.5492848910740159\n",
            "Valid Accuracy:  0.5792682926829268\n"
          ]
        }
      ]
    },
    {
      "cell_type": "code",
      "source": [
        "svc_rbf_33_000001 = SVC(kernel='rbf',gamma=0.00001, verbose=True, C=33)\n",
        "svc_rbf_33_000001.fit(X_train, Y_train)\n",
        "y_rbf_33_000001 = svc_rbf_33_000001.predict(X_valid)\n",
        "\n",
        "print(\"\\nrbf, C: 33, gamma=0.00001\")\n",
        "print(\"Valid F1 score: \", f1_score(Y_valid, y_rbf_33_000001, average = \"macro\"))\n",
        "print(\"Valid Accuracy: \", accuracy_score(Y_valid, y_rbf_33_000001))"
      ],
      "metadata": {
        "id": "_vmivWGGZnVH"
      },
      "execution_count": null,
      "outputs": []
    },
    {
      "cell_type": "markdown",
      "source": [
        "가장 좋은 모델 test datset으로 성능 확인"
      ],
      "metadata": {
        "id": "QXcLhUb8ZAsg"
      }
    },
    {
      "cell_type": "markdown",
      "source": [
        "accuracy와 f1 score 확인"
      ],
      "metadata": {
        "id": "wsP3MxLqpaSC"
      }
    },
    {
      "cell_type": "code",
      "source": [
        "y_rbf_33_00001_test = svc_rbf_33_00001.predict(X_test)\n",
        "\n",
        "print(\"\\nrbf, C: 33, gamma=0.0001\")\n",
        "print(\"Test F1 score: \", f1_score(Y_test, y_rbf_33_00001_test, average = \"macro\"))\n",
        "print(\"Test Accuracy: \", accuracy_score(Y_test, y_rbf_33_00001_test))"
      ],
      "metadata": {
        "colab": {
          "base_uri": "https://localhost:8080/"
        },
        "id": "8O-hWhktc4eH",
        "outputId": "2c17963e-8664-441b-ba40-82c27729397a"
      },
      "execution_count": null,
      "outputs": [
        {
          "output_type": "stream",
          "name": "stdout",
          "text": [
            "\n",
            "rbf, C: 33, gamma=0.0001\n",
            "Test F1 score:  0.6184737225287003\n",
            "Test Accuracy:  0.6264501160092807\n"
          ]
        }
      ]
    },
    {
      "cell_type": "markdown",
      "source": [
        "confusion matrix"
      ],
      "metadata": {
        "id": "0dUzug-LoaAh"
      }
    },
    {
      "cell_type": "code",
      "source": [
        "class_names = ['cardboard', 'paper', 'glass', 'metal', 'trash', 'plastic']\n",
        "class_names = np.array(class_names, dtype='<U10')\n",
        "print(class_names)"
      ],
      "metadata": {
        "colab": {
          "base_uri": "https://localhost:8080/"
        },
        "id": "FtvKRJJl1o5f",
        "outputId": "bdf572e1-3b9a-47f3-aec4-487abe1e6316"
      },
      "execution_count": null,
      "outputs": [
        {
          "output_type": "stream",
          "name": "stdout",
          "text": [
            "['cardboard' 'paper' 'glass' 'metal' 'trash' 'plastic']\n"
          ]
        }
      ]
    },
    {
      "cell_type": "code",
      "source": [
        "import itertools\n",
        "from sklearn.metrics import classification_report, confusion_matrix\n",
        "\n",
        "def plot_confusion_matrix(cm, classes, normalize=True, title='Confusion matrix', cmap=plt.cm.Blues):\n",
        "    \"\"\"\n",
        "    This function prints and plots the confusion matrix.\n",
        "    Normalization can be applied by setting `normalize=True`.\n",
        "    \"\"\"\n",
        "    plt.figure(figsize=(10,10))\n",
        "    plt.imshow(cm, interpolation='nearest', cmap=cmap)\n",
        "    plt.title(title)\n",
        "    plt.colorbar()\n",
        "    tick_marks = np.arange(len(classes))\n",
        "    plt.xticks(tick_marks, classes, rotation=45)\n",
        "    plt.yticks(tick_marks, classes)\n",
        "    if normalize:\n",
        "        cm = cm.astype('float') / cm.sum(axis=1)[:, np.newaxis]\n",
        "        cm = np.around(cm, decimals=2)\n",
        "        cm[np.isnan(cm)] = 0.0\n",
        "    thresh = cm.max() / 2.\n",
        "    for i, j in itertools.product(range(cm.shape[0]), range(cm.shape[1])):\n",
        "        plt.text(j, i, cm[i, j],\n",
        "                 horizontalalignment=\"center\",\n",
        "                 color=\"white\" if cm[i, j] > thresh else \"black\")\n",
        "    plt.tight_layout()\n",
        "    plt.ylabel('True label')\n",
        "    plt.xlabel('Predicted label')"
      ],
      "metadata": {
        "id": "4pBrBogKk9wD"
      },
      "execution_count": null,
      "outputs": []
    },
    {
      "cell_type": "code",
      "source": [
        "from sklearn.metrics import classification_report, confusion_matrix\n",
        "\n",
        "\n",
        "target_names = ['cardboard', 'paper', 'glass', 'metal', 'trash', 'plastic']\n",
        "\n",
        "# Confusion Matrix\n",
        "cm = confusion_matrix(Y_test, y_rbf_33_00001_test)\n",
        "plot_confusion_matrix(cm, target_names, normalize=False, title='Confusion Matrix')\n",
        "\n",
        "# Classification Report\n",
        "print('Classification Report')\n",
        "print(classification_report(Y_test, y_rbf_33_00001_test, target_names=target_names))"
      ],
      "metadata": {
        "colab": {
          "base_uri": "https://localhost:8080/",
          "height": 1000
        },
        "id": "pBQ9NDZzk_X3",
        "outputId": "1ff6c471-dbfb-480a-b7f5-6bd512cb1f13"
      },
      "execution_count": null,
      "outputs": [
        {
          "output_type": "stream",
          "name": "stdout",
          "text": [
            "Classification Report\n",
            "              precision    recall  f1-score   support\n",
            "\n",
            "   cardboard       0.49      0.51      0.50        82\n",
            "       paper       0.66      0.79      0.72       108\n",
            "       glass       0.77      0.66      0.71        70\n",
            "       metal       0.59      0.68      0.63        74\n",
            "       trash       0.60      0.47      0.53        68\n",
            "     plastic       0.79      0.52      0.62        29\n",
            "\n",
            "    accuracy                           0.63       431\n",
            "   macro avg       0.65      0.60      0.62       431\n",
            "weighted avg       0.63      0.63      0.62       431\n",
            "\n"
          ]
        },
        {
          "output_type": "display_data",
          "data": {
            "text/plain": [
              "<Figure size 1000x1000 with 2 Axes>"
            ],
            "image/png": "[encoded data removed]"
          },
          "metadata": {}
        }
      ]
    },
    {
      "cell_type": "markdown",
      "source": [
        "사용한 파일 제거"
      ],
      "metadata": {
        "id": "IGdunLGToLmT"
      }
    },
    {
      "cell_type": "code",
      "source": [
        "'''\n",
        "save_directory = '/content/drive/MyDrive/Colab_Notebooks/Data_driven_AI/input/augmentation_data/valid'\n",
        "\n",
        "import shutil\n",
        "\n",
        "shutil.rmtree(save_directory)\n",
        "'''"
      ],
      "metadata": {
        "id": "0mJmAcsd6XXp"
      },
      "execution_count": null,
      "outputs": []
    }
  ]
}